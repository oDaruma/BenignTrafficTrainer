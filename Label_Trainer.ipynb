{
 "cells": [
  {
   "cell_type": "markdown",
   "id": "e7513fdb",
   "metadata": {},
   "source": [
    "# Label-Agnostic Bayesian Optimization for Intrusion Detection (Label Trainer)\n",
    "### Final Project - Our model will be extended to an IDS system that identifies unknown cyber threats in network data, to detect suspicious activity on a computer network. It analyses patterns in the UNSW-NB15 dataset, distinguishing between normal (benign) traffic and attacks. By using Bayesian Optimization, we fine-tuned a LightGBM model to achieve high accuracy (PR-AUC: ~0.95), detecting most attacks while minimizing false alerts. A neural network (CNN) was also tested, but it performed slightly worse. The model’s results, visualized through charts, help security teams prioritize real threats, enhancing network safety with reliable, automated detection.\n",
    "\n",
    "**Problem.** Train a robust IDS classifier under class imbalance and uncertain label quality.  \n",
    "**Goal.** Maximise **PR-AUC** via stratified CV, then select threshold \\( $\\tau$ \\) for **max-F1** (or target Precision).\n",
    "\n",
    "**Methods**\n",
    "- **Tabular baseline:** LightGBM (balanced).\n",
    "- **HPO:** Manual Grid (resumable), Randomized Search, **Bayesian Optimisation** (BayesSearchCV), **Enhanced BO** (ask–tell, warm start, batch EI, patience, resume).\n",
    "- **Benchmark:** Compact **1D-CNN** treating features as a 1-D signal.\n",
    "- **Ensembles:** Bagging (RF), soft voting, stacking.\n",
    "- **Reproducibility:** Staging (`staging/<stage>/manifest.json`), champion **auto-wire** → `README.md` & `model_card.md`.\n",
    "\n",
    "**Imperial PCMLAI alignment**\n",
    "- **Module 3** — probabilistic modelling, PR curves under imbalance, thresholding for F1.\n",
    "- **Module 10** — model selection, black-box optimisation (BO), early stopping, ensembles.\n",
    "- **Bandits/RL link** — BO acquisition balances **exploration** vs **exploitation**.\n",
    "\n",
    "> **Takeaway:** BO achieves higher PR-AUC with fewer trials; Enhanced BO safely resumes/early-stops. CNN adds a neural baseline; ensembles can “average out” variance.\n"
   ]
  },
  {
   "cell_type": "code",
   "execution_count": 2,
   "id": "f84cd91e",
   "metadata": {},
   "outputs": [
    {
     "name": "stdout",
     "output_type": "stream",
     "text": [
      "[VERSION] Label_Trainer = v2.1 (presentation)\n",
      "  01. Keep uploaded v2.1 logic as-is (canonical base).\n",
      "  02. Add PCMLAI-aligned Markdown sections and explanatory comments.\n",
      "  03. Keep HPO/BO/CNN/Ensembles/Auto-wire unchanged; only doc-quality improvements.\n"
     ]
    }
   ],
   "source": [
    "# ==== Version Tag & Changelog (documentation only; no logic) ====\n",
    "import time\n",
    "VERSION = \"v2.1 (presentation)\"\n",
    "CHANGELOG = [\n",
    "    \"Keep uploaded v2.1 logic as-is (canonical base).\",\n",
    "    \"Add PCMLAI-aligned Markdown sections and explanatory comments.\",\n",
    "    \"Keep HPO/BO/CNN/Ensembles/Auto-wire unchanged; only doc-quality improvements.\",\n",
    "]\n",
    "print(f\"[VERSION] Label_Trainer = {VERSION}\")\n",
    "for i, line in enumerate(CHANGELOG, 1):\n",
    "    print(f\"  {i:02d}. {line}\")\n"
   ]
  },
  {
   "cell_type": "markdown",
   "id": "383147dc",
   "metadata": {},
   "source": [
    "## 2. Reproducibility & Utilities\n",
    "\n",
    "- Fixed seeds & thread caps → stable results.\n",
    "- **Staging** per experiment → auditability & resume.\n",
    "- Helpers:\n",
    "  - `sweep_f1`: grid search on \\( \\tau \\) for max-F1 (Module 3).\n",
    "  - `tpr_tnr_at_tau`: operational rates at τ.\n"
   ]
  },
  {
   "cell_type": "code",
   "execution_count": 3,
   "id": "85ff83f0",
   "metadata": {},
   "outputs": [
    {
     "name": "stdout",
     "output_type": "stream",
     "text": [
      ">>> Section 2: Imports + Reproducibility + Utilities\n",
      "[STATUS] Utilities ready. N_THREADS= 7\n"
     ]
    }
   ],
   "source": [
    "# ======================================================\n",
    "# Cell 3 — Imports, Reproducibility, and Utility helpers\n",
    "# Why:\n",
    "#   • Determinism & thread control → stable, repeatable runs (Module 10).\n",
    "#   • Staging helpers → audit trail (manifest, results, model).\n",
    "#   • Threshold/metrics helpers → interpretable evaluation (Module 3).\n",
    "# ======================================================\n",
    "print(\">>> Section 2: Imports + Reproducibility + Utilities\")\n",
    "\n",
    "import os, re, json, pickle, warnings\n",
    "from pathlib import Path\n",
    "import numpy as np\n",
    "import pandas as pd\n",
    "\n",
    "from sklearn.model_selection import StratifiedKFold, train_test_split\n",
    "from sklearn.metrics import average_precision_score, precision_recall_curve, f1_score, confusion_matrix\n",
    "from lightgbm import LGBMClassifier\n",
    "\n",
    "# BO tooling (skopt): BayesSearchCV (high-level) and Optimizer (ask–tell)\n",
    "from skopt import BayesSearchCV, Optimizer\n",
    "from skopt.space import Real, Integer\n",
    "from skopt.callbacks import CheckpointSaver\n",
    "from joblib import Parallel, delayed    # CPU parallel CV\n",
    "\n",
    "warnings.filterwarnings('ignore')       # cleaner notebook visuals for viva\n",
    "\n",
    "# ---- Reproducibility & parallelism -----------------------------------------\n",
    "RANDOM_STATE = 42                        # fixed seed for all RNG consumers\n",
    "np.random.seed(RANDOM_STATE)\n",
    "N_THREADS = max(1, (os.cpu_count() or 4) - 1)  # keep 1 CPU free for system\n",
    "# Cap BLAS threads to avoid oversubscription (keeps laptop fans sane)\n",
    "os.environ.setdefault(\"OMP_NUM_THREADS\", str(N_THREADS))\n",
    "os.environ.setdefault(\"MKL_NUM_THREADS\", str(N_THREADS))\n",
    "\n",
    "# ---- Staging root (all artifacts live here) --------------------------------\n",
    "stage_root = Path('staging')\n",
    "stage_root.mkdir(exist_ok=True, parents=True)\n",
    "\n",
    "def stage_dir(name: str) -> Path:\n",
    "    \"\"\"Create (if needed) and return 'staging/<name>' directory.\"\"\"\n",
    "    d = stage_root / name\n",
    "    d.mkdir(parents=True, exist_ok=True)\n",
    "    return d\n",
    "\n",
    "def save_stage(name: str, manifest: dict, results: pd.DataFrame | None = None, model=None):\n",
    "    \"\"\"\n",
    "    Persist experiment state for reproducibility & audit:\n",
    "      - manifest.json: single source of truth (metrics/params/dataset/seed).\n",
    "      - results.csv:   optional search history (e.g., CV table).\n",
    "      - model.joblib:  optional fitted estimator (tabular models).\n",
    "    \"\"\"\n",
    "    sd = stage_dir(name)\n",
    "    (sd/'manifest.json').write_text(json.dumps(manifest, indent=2))\n",
    "    if isinstance(results, pd.DataFrame):\n",
    "        (sd/'results.csv').write_text(results.to_csv(index=False))\n",
    "    if model is not None:\n",
    "        try:\n",
    "            import joblib\n",
    "            joblib.dump(model, sd/'model.joblib')\n",
    "        except Exception as e:\n",
    "            print(f\"[WARN] Model save failed for {name}: {e}\")\n",
    "    print(f\"[SAVE] Stage '{name}' saved -> {sd}\")\n",
    "\n",
    "def load_stage(name: str) -> dict | None:\n",
    "    \"\"\"\n",
    "    Load an existing manifest for e.g. warm-starting or reporting.\n",
    "    Returns None if missing/corrupt: presentation-safe behavior.\n",
    "    \"\"\"\n",
    "    p = stage_dir(name) / 'manifest.json'\n",
    "    if p.exists():\n",
    "        try:\n",
    "            return json.loads(p.read_text())\n",
    "        except Exception:\n",
    "            return None\n",
    "    return None\n",
    "\n",
    "def sweep_f1(y_true, y_proba, grid=np.linspace(0.05, 0.95, 19)):\n",
    "    \"\"\"\n",
    "    Pick threshold τ on a coarse grid that maximizes F1.\n",
    "    Why coarse? Stable, robust to tiny score noise; teachers like the clarity.\n",
    "    \"\"\"\n",
    "    f1s = [(t, f1_score(y_true, (y_proba >= t).astype(int), zero_division=0)) for t in grid]\n",
    "    t, f = max(f1s, key=lambda z: z[1])\n",
    "    return float(f), float(t)\n",
    "\n",
    "def tpr_tnr_at_tau(y_true, p_hat, tau: float):\n",
    "    \"\"\"\n",
    "    Compute operational rates at τ:\n",
    "      - TPR (recall): attack catch rate.\n",
    "      - TNR (specificity): benign tolerance / low false alarm rate.\n",
    "    \"\"\"\n",
    "    yb = (p_hat >= tau).astype(int)\n",
    "    tn, fp, fn, tp = confusion_matrix(y_true, yb).ravel()\n",
    "    tpr = tp / (tp + fn) if (tp + fn) else 0.0\n",
    "    tnr = tn / (tn + fp) if (tn + fp) else 0.0\n",
    "    return float(tpr), float(tnr)\n",
    "\n",
    "print(\"[STATUS] Utilities ready. N_THREADS=\", N_THREADS)\n"
   ]
  },
  {
   "cell_type": "markdown",
   "id": "eb8b5aef",
   "metadata": {},
   "source": [
    "## 3. Data Loading & Preprocessing\n",
    "\n",
    "- Map labels to binary (**BENIGN→0**, else **1**).\n",
    "- Preserve **categoricals** (LightGBM-friendly).\n",
    "- Stratified split; report class balance (PR-AUC relevance).\n"
   ]
  },
  {
   "cell_type": "code",
   "execution_count": 4,
   "id": "00829b1e",
   "metadata": {},
   "outputs": [
    {
     "name": "stdout",
     "output_type": "stream",
     "text": [
      ">>> Section 3: Data Loading & Preprocessing\n"
     ]
    },
    {
     "name": "stdout",
     "output_type": "stream",
     "text": [
      "[DATA] Loaded archive/Payload_data_UNSW.csv with shape (79881, 1505)\n",
      "[DATA] Train (59910, 1504) | Test (19971, 1504) | PosRate=0.7371 | #cat=1\n"
     ]
    },
    {
     "data": {
      "application/vnd.microsoft.datawrangler.viewer.v0+json": {
       "columns": [
        {
         "name": "index",
         "rawType": "int64",
         "type": "integer"
        },
        {
         "name": "payload_byte_1",
         "rawType": "int64",
         "type": "integer"
        },
        {
         "name": "payload_byte_2",
         "rawType": "int64",
         "type": "integer"
        },
        {
         "name": "payload_byte_3",
         "rawType": "int64",
         "type": "integer"
        },
        {
         "name": "payload_byte_4",
         "rawType": "int64",
         "type": "integer"
        },
        {
         "name": "payload_byte_5",
         "rawType": "int64",
         "type": "integer"
        },
        {
         "name": "payload_byte_6",
         "rawType": "int64",
         "type": "integer"
        },
        {
         "name": "payload_byte_7",
         "rawType": "int64",
         "type": "integer"
        },
        {
         "name": "payload_byte_8",
         "rawType": "int64",
         "type": "integer"
        },
        {
         "name": "payload_byte_9",
         "rawType": "int64",
         "type": "integer"
        },
        {
         "name": "payload_byte_10",
         "rawType": "int64",
         "type": "integer"
        },
        {
         "name": "payload_byte_11",
         "rawType": "int64",
         "type": "integer"
        },
        {
         "name": "payload_byte_12",
         "rawType": "int64",
         "type": "integer"
        },
        {
         "name": "payload_byte_13",
         "rawType": "int64",
         "type": "integer"
        },
        {
         "name": "payload_byte_14",
         "rawType": "int64",
         "type": "integer"
        },
        {
         "name": "payload_byte_15",
         "rawType": "int64",
         "type": "integer"
        },
        {
         "name": "payload_byte_16",
         "rawType": "int64",
         "type": "integer"
        },
        {
         "name": "payload_byte_17",
         "rawType": "int64",
         "type": "integer"
        },
        {
         "name": "payload_byte_18",
         "rawType": "int64",
         "type": "integer"
        },
        {
         "name": "payload_byte_19",
         "rawType": "int64",
         "type": "integer"
        },
        {
         "name": "payload_byte_20",
         "rawType": "int64",
         "type": "integer"
        },
        {
         "name": "payload_byte_21",
         "rawType": "int64",
         "type": "integer"
        },
        {
         "name": "payload_byte_22",
         "rawType": "int64",
         "type": "integer"
        },
        {
         "name": "payload_byte_23",
         "rawType": "int64",
         "type": "integer"
        },
        {
         "name": "payload_byte_24",
         "rawType": "int64",
         "type": "integer"
        },
        {
         "name": "payload_byte_25",
         "rawType": "int64",
         "type": "integer"
        },
        {
         "name": "payload_byte_26",
         "rawType": "int64",
         "type": "integer"
        },
        {
         "name": "payload_byte_27",
         "rawType": "int64",
         "type": "integer"
        },
        {
         "name": "payload_byte_28",
         "rawType": "int64",
         "type": "integer"
        },
        {
         "name": "payload_byte_29",
         "rawType": "int64",
         "type": "integer"
        },
        {
         "name": "payload_byte_30",
         "rawType": "int64",
         "type": "integer"
        },
        {
         "name": "payload_byte_31",
         "rawType": "int64",
         "type": "integer"
        },
        {
         "name": "payload_byte_32",
         "rawType": "int64",
         "type": "integer"
        },
        {
         "name": "payload_byte_33",
         "rawType": "int64",
         "type": "integer"
        },
        {
         "name": "payload_byte_34",
         "rawType": "int64",
         "type": "integer"
        },
        {
         "name": "payload_byte_35",
         "rawType": "int64",
         "type": "integer"
        },
        {
         "name": "payload_byte_36",
         "rawType": "int64",
         "type": "integer"
        },
        {
         "name": "payload_byte_37",
         "rawType": "int64",
         "type": "integer"
        },
        {
         "name": "payload_byte_38",
         "rawType": "int64",
         "type": "integer"
        },
        {
         "name": "payload_byte_39",
         "rawType": "int64",
         "type": "integer"
        },
        {
         "name": "payload_byte_40",
         "rawType": "int64",
         "type": "integer"
        },
        {
         "name": "payload_byte_41",
         "rawType": "int64",
         "type": "integer"
        },
        {
         "name": "payload_byte_42",
         "rawType": "int64",
         "type": "integer"
        },
        {
         "name": "payload_byte_43",
         "rawType": "int64",
         "type": "integer"
        },
        {
         "name": "payload_byte_44",
         "rawType": "int64",
         "type": "integer"
        },
        {
         "name": "payload_byte_45",
         "rawType": "int64",
         "type": "integer"
        },
        {
         "name": "payload_byte_46",
         "rawType": "int64",
         "type": "integer"
        },
        {
         "name": "payload_byte_47",
         "rawType": "int64",
         "type": "integer"
        },
        {
         "name": "payload_byte_48",
         "rawType": "int64",
         "type": "integer"
        },
        {
         "name": "payload_byte_49",
         "rawType": "int64",
         "type": "integer"
        },
        {
         "name": "payload_byte_50",
         "rawType": "int64",
         "type": "integer"
        },
        {
         "name": "payload_byte_51",
         "rawType": "int64",
         "type": "integer"
        },
        {
         "name": "payload_byte_52",
         "rawType": "int64",
         "type": "integer"
        },
        {
         "name": "payload_byte_53",
         "rawType": "int64",
         "type": "integer"
        },
        {
         "name": "payload_byte_54",
         "rawType": "int64",
         "type": "integer"
        },
        {
         "name": "payload_byte_55",
         "rawType": "int64",
         "type": "integer"
        },
        {
         "name": "payload_byte_56",
         "rawType": "int64",
         "type": "integer"
        },
        {
         "name": "payload_byte_57",
         "rawType": "int64",
         "type": "integer"
        },
        {
         "name": "payload_byte_58",
         "rawType": "int64",
         "type": "integer"
        },
        {
         "name": "payload_byte_59",
         "rawType": "int64",
         "type": "integer"
        },
        {
         "name": "payload_byte_60",
         "rawType": "int64",
         "type": "integer"
        },
        {
         "name": "payload_byte_61",
         "rawType": "int64",
         "type": "integer"
        },
        {
         "name": "payload_byte_62",
         "rawType": "int64",
         "type": "integer"
        },
        {
         "name": "payload_byte_63",
         "rawType": "int64",
         "type": "integer"
        },
        {
         "name": "payload_byte_64",
         "rawType": "int64",
         "type": "integer"
        },
        {
         "name": "payload_byte_65",
         "rawType": "int64",
         "type": "integer"
        },
        {
         "name": "payload_byte_66",
         "rawType": "int64",
         "type": "integer"
        },
        {
         "name": "payload_byte_67",
         "rawType": "int64",
         "type": "integer"
        },
        {
         "name": "payload_byte_68",
         "rawType": "int64",
         "type": "integer"
        },
        {
         "name": "payload_byte_69",
         "rawType": "int64",
         "type": "integer"
        },
        {
         "name": "payload_byte_70",
         "rawType": "int64",
         "type": "integer"
        },
        {
         "name": "payload_byte_71",
         "rawType": "int64",
         "type": "integer"
        },
        {
         "name": "payload_byte_72",
         "rawType": "int64",
         "type": "integer"
        },
        {
         "name": "payload_byte_73",
         "rawType": "int64",
         "type": "integer"
        },
        {
         "name": "payload_byte_74",
         "rawType": "int64",
         "type": "integer"
        },
        {
         "name": "payload_byte_75",
         "rawType": "int64",
         "type": "integer"
        },
        {
         "name": "payload_byte_76",
         "rawType": "int64",
         "type": "integer"
        },
        {
         "name": "payload_byte_77",
         "rawType": "int64",
         "type": "integer"
        },
        {
         "name": "payload_byte_78",
         "rawType": "int64",
         "type": "integer"
        },
        {
         "name": "payload_byte_79",
         "rawType": "int64",
         "type": "integer"
        },
        {
         "name": "payload_byte_80",
         "rawType": "int64",
         "type": "integer"
        },
        {
         "name": "payload_byte_81",
         "rawType": "int64",
         "type": "integer"
        },
        {
         "name": "payload_byte_82",
         "rawType": "int64",
         "type": "integer"
        },
        {
         "name": "payload_byte_83",
         "rawType": "int64",
         "type": "integer"
        },
        {
         "name": "payload_byte_84",
         "rawType": "int64",
         "type": "integer"
        },
        {
         "name": "payload_byte_85",
         "rawType": "int64",
         "type": "integer"
        },
        {
         "name": "payload_byte_86",
         "rawType": "int64",
         "type": "integer"
        },
        {
         "name": "payload_byte_87",
         "rawType": "int64",
         "type": "integer"
        },
        {
         "name": "payload_byte_88",
         "rawType": "int64",
         "type": "integer"
        },
        {
         "name": "payload_byte_89",
         "rawType": "int64",
         "type": "integer"
        },
        {
         "name": "payload_byte_90",
         "rawType": "int64",
         "type": "integer"
        },
        {
         "name": "payload_byte_91",
         "rawType": "int64",
         "type": "integer"
        },
        {
         "name": "payload_byte_92",
         "rawType": "int64",
         "type": "integer"
        },
        {
         "name": "payload_byte_93",
         "rawType": "int64",
         "type": "integer"
        },
        {
         "name": "payload_byte_94",
         "rawType": "int64",
         "type": "integer"
        },
        {
         "name": "payload_byte_95",
         "rawType": "int64",
         "type": "integer"
        },
        {
         "name": "payload_byte_96",
         "rawType": "int64",
         "type": "integer"
        },
        {
         "name": "payload_byte_97",
         "rawType": "int64",
         "type": "integer"
        },
        {
         "name": "payload_byte_98",
         "rawType": "int64",
         "type": "integer"
        },
        {
         "name": "payload_byte_99",
         "rawType": "int64",
         "type": "integer"
        },
        {
         "name": "payload_byte_100",
         "rawType": "int64",
         "type": "integer"
        },
        {
         "name": "payload_byte_101",
         "rawType": "int64",
         "type": "integer"
        },
        {
         "name": "payload_byte_102",
         "rawType": "int64",
         "type": "integer"
        },
        {
         "name": "payload_byte_103",
         "rawType": "int64",
         "type": "integer"
        },
        {
         "name": "payload_byte_104",
         "rawType": "int64",
         "type": "integer"
        },
        {
         "name": "payload_byte_105",
         "rawType": "int64",
         "type": "integer"
        },
        {
         "name": "payload_byte_106",
         "rawType": "int64",
         "type": "integer"
        },
        {
         "name": "payload_byte_107",
         "rawType": "int64",
         "type": "integer"
        },
        {
         "name": "payload_byte_108",
         "rawType": "int64",
         "type": "integer"
        },
        {
         "name": "payload_byte_109",
         "rawType": "int64",
         "type": "integer"
        },
        {
         "name": "payload_byte_110",
         "rawType": "int64",
         "type": "integer"
        },
        {
         "name": "payload_byte_111",
         "rawType": "int64",
         "type": "integer"
        },
        {
         "name": "payload_byte_112",
         "rawType": "int64",
         "type": "integer"
        },
        {
         "name": "payload_byte_113",
         "rawType": "int64",
         "type": "integer"
        },
        {
         "name": "payload_byte_114",
         "rawType": "int64",
         "type": "integer"
        },
        {
         "name": "payload_byte_115",
         "rawType": "int64",
         "type": "integer"
        },
        {
         "name": "payload_byte_116",
         "rawType": "int64",
         "type": "integer"
        },
        {
         "name": "payload_byte_117",
         "rawType": "int64",
         "type": "integer"
        },
        {
         "name": "payload_byte_118",
         "rawType": "int64",
         "type": "integer"
        },
        {
         "name": "payload_byte_119",
         "rawType": "int64",
         "type": "integer"
        },
        {
         "name": "payload_byte_120",
         "rawType": "int64",
         "type": "integer"
        },
        {
         "name": "payload_byte_121",
         "rawType": "int64",
         "type": "integer"
        },
        {
         "name": "payload_byte_122",
         "rawType": "int64",
         "type": "integer"
        },
        {
         "name": "payload_byte_123",
         "rawType": "int64",
         "type": "integer"
        },
        {
         "name": "payload_byte_124",
         "rawType": "int64",
         "type": "integer"
        },
        {
         "name": "payload_byte_125",
         "rawType": "int64",
         "type": "integer"
        },
        {
         "name": "payload_byte_126",
         "rawType": "int64",
         "type": "integer"
        },
        {
         "name": "payload_byte_127",
         "rawType": "int64",
         "type": "integer"
        },
        {
         "name": "payload_byte_128",
         "rawType": "int64",
         "type": "integer"
        },
        {
         "name": "payload_byte_129",
         "rawType": "int64",
         "type": "integer"
        },
        {
         "name": "payload_byte_130",
         "rawType": "int64",
         "type": "integer"
        },
        {
         "name": "payload_byte_131",
         "rawType": "int64",
         "type": "integer"
        },
        {
         "name": "payload_byte_132",
         "rawType": "int64",
         "type": "integer"
        },
        {
         "name": "payload_byte_133",
         "rawType": "int64",
         "type": "integer"
        },
        {
         "name": "payload_byte_134",
         "rawType": "int64",
         "type": "integer"
        },
        {
         "name": "payload_byte_135",
         "rawType": "int64",
         "type": "integer"
        },
        {
         "name": "payload_byte_136",
         "rawType": "int64",
         "type": "integer"
        },
        {
         "name": "payload_byte_137",
         "rawType": "int64",
         "type": "integer"
        },
        {
         "name": "payload_byte_138",
         "rawType": "int64",
         "type": "integer"
        },
        {
         "name": "payload_byte_139",
         "rawType": "int64",
         "type": "integer"
        },
        {
         "name": "payload_byte_140",
         "rawType": "int64",
         "type": "integer"
        },
        {
         "name": "payload_byte_141",
         "rawType": "int64",
         "type": "integer"
        },
        {
         "name": "payload_byte_142",
         "rawType": "int64",
         "type": "integer"
        },
        {
         "name": "payload_byte_143",
         "rawType": "int64",
         "type": "integer"
        },
        {
         "name": "payload_byte_144",
         "rawType": "int64",
         "type": "integer"
        },
        {
         "name": "payload_byte_145",
         "rawType": "int64",
         "type": "integer"
        },
        {
         "name": "payload_byte_146",
         "rawType": "int64",
         "type": "integer"
        },
        {
         "name": "payload_byte_147",
         "rawType": "int64",
         "type": "integer"
        },
        {
         "name": "payload_byte_148",
         "rawType": "int64",
         "type": "integer"
        },
        {
         "name": "payload_byte_149",
         "rawType": "int64",
         "type": "integer"
        },
        {
         "name": "payload_byte_150",
         "rawType": "int64",
         "type": "integer"
        },
        {
         "name": "payload_byte_151",
         "rawType": "int64",
         "type": "integer"
        },
        {
         "name": "payload_byte_152",
         "rawType": "int64",
         "type": "integer"
        },
        {
         "name": "payload_byte_153",
         "rawType": "int64",
         "type": "integer"
        },
        {
         "name": "payload_byte_154",
         "rawType": "int64",
         "type": "integer"
        },
        {
         "name": "payload_byte_155",
         "rawType": "int64",
         "type": "integer"
        },
        {
         "name": "payload_byte_156",
         "rawType": "int64",
         "type": "integer"
        },
        {
         "name": "payload_byte_157",
         "rawType": "int64",
         "type": "integer"
        },
        {
         "name": "payload_byte_158",
         "rawType": "int64",
         "type": "integer"
        },
        {
         "name": "payload_byte_159",
         "rawType": "int64",
         "type": "integer"
        },
        {
         "name": "payload_byte_160",
         "rawType": "int64",
         "type": "integer"
        },
        {
         "name": "payload_byte_161",
         "rawType": "int64",
         "type": "integer"
        },
        {
         "name": "payload_byte_162",
         "rawType": "int64",
         "type": "integer"
        },
        {
         "name": "payload_byte_163",
         "rawType": "int64",
         "type": "integer"
        },
        {
         "name": "payload_byte_164",
         "rawType": "int64",
         "type": "integer"
        },
        {
         "name": "payload_byte_165",
         "rawType": "int64",
         "type": "integer"
        },
        {
         "name": "payload_byte_166",
         "rawType": "int64",
         "type": "integer"
        },
        {
         "name": "payload_byte_167",
         "rawType": "int64",
         "type": "integer"
        },
        {
         "name": "payload_byte_168",
         "rawType": "int64",
         "type": "integer"
        },
        {
         "name": "payload_byte_169",
         "rawType": "int64",
         "type": "integer"
        },
        {
         "name": "payload_byte_170",
         "rawType": "int64",
         "type": "integer"
        },
        {
         "name": "payload_byte_171",
         "rawType": "int64",
         "type": "integer"
        },
        {
         "name": "payload_byte_172",
         "rawType": "int64",
         "type": "integer"
        },
        {
         "name": "payload_byte_173",
         "rawType": "int64",
         "type": "integer"
        },
        {
         "name": "payload_byte_174",
         "rawType": "int64",
         "type": "integer"
        },
        {
         "name": "payload_byte_175",
         "rawType": "int64",
         "type": "integer"
        },
        {
         "name": "payload_byte_176",
         "rawType": "int64",
         "type": "integer"
        },
        {
         "name": "payload_byte_177",
         "rawType": "int64",
         "type": "integer"
        },
        {
         "name": "payload_byte_178",
         "rawType": "int64",
         "type": "integer"
        },
        {
         "name": "payload_byte_179",
         "rawType": "int64",
         "type": "integer"
        },
        {
         "name": "payload_byte_180",
         "rawType": "int64",
         "type": "integer"
        },
        {
         "name": "payload_byte_181",
         "rawType": "int64",
         "type": "integer"
        },
        {
         "name": "payload_byte_182",
         "rawType": "int64",
         "type": "integer"
        },
        {
         "name": "payload_byte_183",
         "rawType": "int64",
         "type": "integer"
        },
        {
         "name": "payload_byte_184",
         "rawType": "int64",
         "type": "integer"
        },
        {
         "name": "payload_byte_185",
         "rawType": "int64",
         "type": "integer"
        },
        {
         "name": "payload_byte_186",
         "rawType": "int64",
         "type": "integer"
        },
        {
         "name": "payload_byte_187",
         "rawType": "int64",
         "type": "integer"
        },
        {
         "name": "payload_byte_188",
         "rawType": "int64",
         "type": "integer"
        },
        {
         "name": "payload_byte_189",
         "rawType": "int64",
         "type": "integer"
        },
        {
         "name": "payload_byte_190",
         "rawType": "int64",
         "type": "integer"
        },
        {
         "name": "payload_byte_191",
         "rawType": "int64",
         "type": "integer"
        },
        {
         "name": "payload_byte_192",
         "rawType": "int64",
         "type": "integer"
        },
        {
         "name": "payload_byte_193",
         "rawType": "int64",
         "type": "integer"
        },
        {
         "name": "payload_byte_194",
         "rawType": "int64",
         "type": "integer"
        },
        {
         "name": "payload_byte_195",
         "rawType": "int64",
         "type": "integer"
        },
        {
         "name": "payload_byte_196",
         "rawType": "int64",
         "type": "integer"
        },
        {
         "name": "payload_byte_197",
         "rawType": "int64",
         "type": "integer"
        },
        {
         "name": "payload_byte_198",
         "rawType": "int64",
         "type": "integer"
        },
        {
         "name": "payload_byte_199",
         "rawType": "int64",
         "type": "integer"
        },
        {
         "name": "payload_byte_200",
         "rawType": "int64",
         "type": "integer"
        },
        {
         "name": "payload_byte_201",
         "rawType": "int64",
         "type": "integer"
        },
        {
         "name": "payload_byte_202",
         "rawType": "int64",
         "type": "integer"
        },
        {
         "name": "payload_byte_203",
         "rawType": "int64",
         "type": "integer"
        },
        {
         "name": "payload_byte_204",
         "rawType": "int64",
         "type": "integer"
        },
        {
         "name": "payload_byte_205",
         "rawType": "int64",
         "type": "integer"
        },
        {
         "name": "payload_byte_206",
         "rawType": "int64",
         "type": "integer"
        },
        {
         "name": "payload_byte_207",
         "rawType": "int64",
         "type": "integer"
        },
        {
         "name": "payload_byte_208",
         "rawType": "int64",
         "type": "integer"
        },
        {
         "name": "payload_byte_209",
         "rawType": "int64",
         "type": "integer"
        },
        {
         "name": "payload_byte_210",
         "rawType": "int64",
         "type": "integer"
        },
        {
         "name": "payload_byte_211",
         "rawType": "int64",
         "type": "integer"
        },
        {
         "name": "payload_byte_212",
         "rawType": "int64",
         "type": "integer"
        },
        {
         "name": "payload_byte_213",
         "rawType": "int64",
         "type": "integer"
        },
        {
         "name": "payload_byte_214",
         "rawType": "int64",
         "type": "integer"
        },
        {
         "name": "payload_byte_215",
         "rawType": "int64",
         "type": "integer"
        },
        {
         "name": "payload_byte_216",
         "rawType": "int64",
         "type": "integer"
        },
        {
         "name": "payload_byte_217",
         "rawType": "int64",
         "type": "integer"
        },
        {
         "name": "payload_byte_218",
         "rawType": "int64",
         "type": "integer"
        },
        {
         "name": "payload_byte_219",
         "rawType": "int64",
         "type": "integer"
        },
        {
         "name": "payload_byte_220",
         "rawType": "int64",
         "type": "integer"
        },
        {
         "name": "payload_byte_221",
         "rawType": "int64",
         "type": "integer"
        },
        {
         "name": "payload_byte_222",
         "rawType": "int64",
         "type": "integer"
        },
        {
         "name": "payload_byte_223",
         "rawType": "int64",
         "type": "integer"
        },
        {
         "name": "payload_byte_224",
         "rawType": "int64",
         "type": "integer"
        },
        {
         "name": "payload_byte_225",
         "rawType": "int64",
         "type": "integer"
        },
        {
         "name": "payload_byte_226",
         "rawType": "int64",
         "type": "integer"
        },
        {
         "name": "payload_byte_227",
         "rawType": "int64",
         "type": "integer"
        },
        {
         "name": "payload_byte_228",
         "rawType": "int64",
         "type": "integer"
        },
        {
         "name": "payload_byte_229",
         "rawType": "int64",
         "type": "integer"
        },
        {
         "name": "payload_byte_230",
         "rawType": "int64",
         "type": "integer"
        },
        {
         "name": "payload_byte_231",
         "rawType": "int64",
         "type": "integer"
        },
        {
         "name": "payload_byte_232",
         "rawType": "int64",
         "type": "integer"
        },
        {
         "name": "payload_byte_233",
         "rawType": "int64",
         "type": "integer"
        },
        {
         "name": "payload_byte_234",
         "rawType": "int64",
         "type": "integer"
        },
        {
         "name": "payload_byte_235",
         "rawType": "int64",
         "type": "integer"
        },
        {
         "name": "payload_byte_236",
         "rawType": "int64",
         "type": "integer"
        },
        {
         "name": "payload_byte_237",
         "rawType": "int64",
         "type": "integer"
        },
        {
         "name": "payload_byte_238",
         "rawType": "int64",
         "type": "integer"
        },
        {
         "name": "payload_byte_239",
         "rawType": "int64",
         "type": "integer"
        },
        {
         "name": "payload_byte_240",
         "rawType": "int64",
         "type": "integer"
        },
        {
         "name": "payload_byte_241",
         "rawType": "int64",
         "type": "integer"
        },
        {
         "name": "payload_byte_242",
         "rawType": "int64",
         "type": "integer"
        },
        {
         "name": "payload_byte_243",
         "rawType": "int64",
         "type": "integer"
        },
        {
         "name": "payload_byte_244",
         "rawType": "int64",
         "type": "integer"
        },
        {
         "name": "payload_byte_245",
         "rawType": "int64",
         "type": "integer"
        },
        {
         "name": "payload_byte_246",
         "rawType": "int64",
         "type": "integer"
        },
        {
         "name": "payload_byte_247",
         "rawType": "int64",
         "type": "integer"
        },
        {
         "name": "payload_byte_248",
         "rawType": "int64",
         "type": "integer"
        },
        {
         "name": "payload_byte_249",
         "rawType": "int64",
         "type": "integer"
        },
        {
         "name": "payload_byte_250",
         "rawType": "int64",
         "type": "integer"
        },
        {
         "name": "payload_byte_251",
         "rawType": "int64",
         "type": "integer"
        },
        {
         "name": "payload_byte_252",
         "rawType": "int64",
         "type": "integer"
        },
        {
         "name": "payload_byte_253",
         "rawType": "int64",
         "type": "integer"
        },
        {
         "name": "payload_byte_254",
         "rawType": "int64",
         "type": "integer"
        },
        {
         "name": "payload_byte_255",
         "rawType": "int64",
         "type": "integer"
        },
        {
         "name": "payload_byte_256",
         "rawType": "int64",
         "type": "integer"
        },
        {
         "name": "payload_byte_257",
         "rawType": "int64",
         "type": "integer"
        },
        {
         "name": "payload_byte_258",
         "rawType": "int64",
         "type": "integer"
        },
        {
         "name": "payload_byte_259",
         "rawType": "int64",
         "type": "integer"
        },
        {
         "name": "payload_byte_260",
         "rawType": "int64",
         "type": "integer"
        },
        {
         "name": "payload_byte_261",
         "rawType": "int64",
         "type": "integer"
        },
        {
         "name": "payload_byte_262",
         "rawType": "int64",
         "type": "integer"
        },
        {
         "name": "payload_byte_263",
         "rawType": "int64",
         "type": "integer"
        },
        {
         "name": "payload_byte_264",
         "rawType": "int64",
         "type": "integer"
        },
        {
         "name": "payload_byte_265",
         "rawType": "int64",
         "type": "integer"
        },
        {
         "name": "payload_byte_266",
         "rawType": "int64",
         "type": "integer"
        },
        {
         "name": "payload_byte_267",
         "rawType": "int64",
         "type": "integer"
        },
        {
         "name": "payload_byte_268",
         "rawType": "int64",
         "type": "integer"
        },
        {
         "name": "payload_byte_269",
         "rawType": "int64",
         "type": "integer"
        },
        {
         "name": "payload_byte_270",
         "rawType": "int64",
         "type": "integer"
        },
        {
         "name": "payload_byte_271",
         "rawType": "int64",
         "type": "integer"
        },
        {
         "name": "payload_byte_272",
         "rawType": "int64",
         "type": "integer"
        },
        {
         "name": "payload_byte_273",
         "rawType": "int64",
         "type": "integer"
        },
        {
         "name": "payload_byte_274",
         "rawType": "int64",
         "type": "integer"
        },
        {
         "name": "payload_byte_275",
         "rawType": "int64",
         "type": "integer"
        },
        {
         "name": "payload_byte_276",
         "rawType": "int64",
         "type": "integer"
        },
        {
         "name": "payload_byte_277",
         "rawType": "int64",
         "type": "integer"
        },
        {
         "name": "payload_byte_278",
         "rawType": "int64",
         "type": "integer"
        },
        {
         "name": "payload_byte_279",
         "rawType": "int64",
         "type": "integer"
        },
        {
         "name": "payload_byte_280",
         "rawType": "int64",
         "type": "integer"
        },
        {
         "name": "payload_byte_281",
         "rawType": "int64",
         "type": "integer"
        },
        {
         "name": "payload_byte_282",
         "rawType": "int64",
         "type": "integer"
        },
        {
         "name": "payload_byte_283",
         "rawType": "int64",
         "type": "integer"
        },
        {
         "name": "payload_byte_284",
         "rawType": "int64",
         "type": "integer"
        },
        {
         "name": "payload_byte_285",
         "rawType": "int64",
         "type": "integer"
        },
        {
         "name": "payload_byte_286",
         "rawType": "int64",
         "type": "integer"
        },
        {
         "name": "payload_byte_287",
         "rawType": "int64",
         "type": "integer"
        },
        {
         "name": "payload_byte_288",
         "rawType": "int64",
         "type": "integer"
        },
        {
         "name": "payload_byte_289",
         "rawType": "int64",
         "type": "integer"
        },
        {
         "name": "payload_byte_290",
         "rawType": "int64",
         "type": "integer"
        },
        {
         "name": "payload_byte_291",
         "rawType": "int64",
         "type": "integer"
        },
        {
         "name": "payload_byte_292",
         "rawType": "int64",
         "type": "integer"
        },
        {
         "name": "payload_byte_293",
         "rawType": "int64",
         "type": "integer"
        },
        {
         "name": "payload_byte_294",
         "rawType": "int64",
         "type": "integer"
        },
        {
         "name": "payload_byte_295",
         "rawType": "int64",
         "type": "integer"
        },
        {
         "name": "payload_byte_296",
         "rawType": "int64",
         "type": "integer"
        },
        {
         "name": "payload_byte_297",
         "rawType": "int64",
         "type": "integer"
        },
        {
         "name": "payload_byte_298",
         "rawType": "int64",
         "type": "integer"
        },
        {
         "name": "payload_byte_299",
         "rawType": "int64",
         "type": "integer"
        },
        {
         "name": "payload_byte_300",
         "rawType": "int64",
         "type": "integer"
        },
        {
         "name": "payload_byte_301",
         "rawType": "int64",
         "type": "integer"
        },
        {
         "name": "payload_byte_302",
         "rawType": "int64",
         "type": "integer"
        },
        {
         "name": "payload_byte_303",
         "rawType": "int64",
         "type": "integer"
        },
        {
         "name": "payload_byte_304",
         "rawType": "int64",
         "type": "integer"
        },
        {
         "name": "payload_byte_305",
         "rawType": "int64",
         "type": "integer"
        },
        {
         "name": "payload_byte_306",
         "rawType": "int64",
         "type": "integer"
        },
        {
         "name": "payload_byte_307",
         "rawType": "int64",
         "type": "integer"
        },
        {
         "name": "payload_byte_308",
         "rawType": "int64",
         "type": "integer"
        },
        {
         "name": "payload_byte_309",
         "rawType": "int64",
         "type": "integer"
        },
        {
         "name": "payload_byte_310",
         "rawType": "int64",
         "type": "integer"
        },
        {
         "name": "payload_byte_311",
         "rawType": "int64",
         "type": "integer"
        },
        {
         "name": "payload_byte_312",
         "rawType": "int64",
         "type": "integer"
        },
        {
         "name": "payload_byte_313",
         "rawType": "int64",
         "type": "integer"
        },
        {
         "name": "payload_byte_314",
         "rawType": "int64",
         "type": "integer"
        },
        {
         "name": "payload_byte_315",
         "rawType": "int64",
         "type": "integer"
        },
        {
         "name": "payload_byte_316",
         "rawType": "int64",
         "type": "integer"
        },
        {
         "name": "payload_byte_317",
         "rawType": "int64",
         "type": "integer"
        },
        {
         "name": "payload_byte_318",
         "rawType": "int64",
         "type": "integer"
        },
        {
         "name": "payload_byte_319",
         "rawType": "int64",
         "type": "integer"
        },
        {
         "name": "payload_byte_320",
         "rawType": "int64",
         "type": "integer"
        },
        {
         "name": "payload_byte_321",
         "rawType": "int64",
         "type": "integer"
        },
        {
         "name": "payload_byte_322",
         "rawType": "int64",
         "type": "integer"
        },
        {
         "name": "payload_byte_323",
         "rawType": "int64",
         "type": "integer"
        },
        {
         "name": "payload_byte_324",
         "rawType": "int64",
         "type": "integer"
        },
        {
         "name": "payload_byte_325",
         "rawType": "int64",
         "type": "integer"
        },
        {
         "name": "payload_byte_326",
         "rawType": "int64",
         "type": "integer"
        },
        {
         "name": "payload_byte_327",
         "rawType": "int64",
         "type": "integer"
        },
        {
         "name": "payload_byte_328",
         "rawType": "int64",
         "type": "integer"
        },
        {
         "name": "payload_byte_329",
         "rawType": "int64",
         "type": "integer"
        },
        {
         "name": "payload_byte_330",
         "rawType": "int64",
         "type": "integer"
        },
        {
         "name": "payload_byte_331",
         "rawType": "int64",
         "type": "integer"
        },
        {
         "name": "payload_byte_332",
         "rawType": "int64",
         "type": "integer"
        },
        {
         "name": "payload_byte_333",
         "rawType": "int64",
         "type": "integer"
        },
        {
         "name": "payload_byte_334",
         "rawType": "int64",
         "type": "integer"
        },
        {
         "name": "payload_byte_335",
         "rawType": "int64",
         "type": "integer"
        },
        {
         "name": "payload_byte_336",
         "rawType": "int64",
         "type": "integer"
        },
        {
         "name": "payload_byte_337",
         "rawType": "int64",
         "type": "integer"
        },
        {
         "name": "payload_byte_338",
         "rawType": "int64",
         "type": "integer"
        },
        {
         "name": "payload_byte_339",
         "rawType": "int64",
         "type": "integer"
        },
        {
         "name": "payload_byte_340",
         "rawType": "int64",
         "type": "integer"
        },
        {
         "name": "payload_byte_341",
         "rawType": "int64",
         "type": "integer"
        },
        {
         "name": "payload_byte_342",
         "rawType": "int64",
         "type": "integer"
        },
        {
         "name": "payload_byte_343",
         "rawType": "int64",
         "type": "integer"
        },
        {
         "name": "payload_byte_344",
         "rawType": "int64",
         "type": "integer"
        },
        {
         "name": "payload_byte_345",
         "rawType": "int64",
         "type": "integer"
        },
        {
         "name": "payload_byte_346",
         "rawType": "int64",
         "type": "integer"
        },
        {
         "name": "payload_byte_347",
         "rawType": "int64",
         "type": "integer"
        },
        {
         "name": "payload_byte_348",
         "rawType": "int64",
         "type": "integer"
        },
        {
         "name": "payload_byte_349",
         "rawType": "int64",
         "type": "integer"
        },
        {
         "name": "payload_byte_350",
         "rawType": "int64",
         "type": "integer"
        },
        {
         "name": "payload_byte_351",
         "rawType": "int64",
         "type": "integer"
        },
        {
         "name": "payload_byte_352",
         "rawType": "int64",
         "type": "integer"
        },
        {
         "name": "payload_byte_353",
         "rawType": "int64",
         "type": "integer"
        },
        {
         "name": "payload_byte_354",
         "rawType": "int64",
         "type": "integer"
        },
        {
         "name": "payload_byte_355",
         "rawType": "int64",
         "type": "integer"
        },
        {
         "name": "payload_byte_356",
         "rawType": "int64",
         "type": "integer"
        },
        {
         "name": "payload_byte_357",
         "rawType": "int64",
         "type": "integer"
        },
        {
         "name": "payload_byte_358",
         "rawType": "int64",
         "type": "integer"
        },
        {
         "name": "payload_byte_359",
         "rawType": "int64",
         "type": "integer"
        },
        {
         "name": "payload_byte_360",
         "rawType": "int64",
         "type": "integer"
        },
        {
         "name": "payload_byte_361",
         "rawType": "int64",
         "type": "integer"
        },
        {
         "name": "payload_byte_362",
         "rawType": "int64",
         "type": "integer"
        },
        {
         "name": "payload_byte_363",
         "rawType": "int64",
         "type": "integer"
        },
        {
         "name": "payload_byte_364",
         "rawType": "int64",
         "type": "integer"
        },
        {
         "name": "payload_byte_365",
         "rawType": "int64",
         "type": "integer"
        },
        {
         "name": "payload_byte_366",
         "rawType": "int64",
         "type": "integer"
        },
        {
         "name": "payload_byte_367",
         "rawType": "int64",
         "type": "integer"
        },
        {
         "name": "payload_byte_368",
         "rawType": "int64",
         "type": "integer"
        },
        {
         "name": "payload_byte_369",
         "rawType": "int64",
         "type": "integer"
        },
        {
         "name": "payload_byte_370",
         "rawType": "int64",
         "type": "integer"
        },
        {
         "name": "payload_byte_371",
         "rawType": "int64",
         "type": "integer"
        },
        {
         "name": "payload_byte_372",
         "rawType": "int64",
         "type": "integer"
        },
        {
         "name": "payload_byte_373",
         "rawType": "int64",
         "type": "integer"
        },
        {
         "name": "payload_byte_374",
         "rawType": "int64",
         "type": "integer"
        },
        {
         "name": "payload_byte_375",
         "rawType": "int64",
         "type": "integer"
        },
        {
         "name": "payload_byte_376",
         "rawType": "int64",
         "type": "integer"
        },
        {
         "name": "payload_byte_377",
         "rawType": "int64",
         "type": "integer"
        },
        {
         "name": "payload_byte_378",
         "rawType": "int64",
         "type": "integer"
        },
        {
         "name": "payload_byte_379",
         "rawType": "int64",
         "type": "integer"
        },
        {
         "name": "payload_byte_380",
         "rawType": "int64",
         "type": "integer"
        },
        {
         "name": "payload_byte_381",
         "rawType": "int64",
         "type": "integer"
        },
        {
         "name": "payload_byte_382",
         "rawType": "int64",
         "type": "integer"
        },
        {
         "name": "payload_byte_383",
         "rawType": "int64",
         "type": "integer"
        },
        {
         "name": "payload_byte_384",
         "rawType": "int64",
         "type": "integer"
        },
        {
         "name": "payload_byte_385",
         "rawType": "int64",
         "type": "integer"
        },
        {
         "name": "payload_byte_386",
         "rawType": "int64",
         "type": "integer"
        },
        {
         "name": "payload_byte_387",
         "rawType": "int64",
         "type": "integer"
        },
        {
         "name": "payload_byte_388",
         "rawType": "int64",
         "type": "integer"
        },
        {
         "name": "payload_byte_389",
         "rawType": "int64",
         "type": "integer"
        },
        {
         "name": "payload_byte_390",
         "rawType": "int64",
         "type": "integer"
        },
        {
         "name": "payload_byte_391",
         "rawType": "int64",
         "type": "integer"
        },
        {
         "name": "payload_byte_392",
         "rawType": "int64",
         "type": "integer"
        },
        {
         "name": "payload_byte_393",
         "rawType": "int64",
         "type": "integer"
        },
        {
         "name": "payload_byte_394",
         "rawType": "int64",
         "type": "integer"
        },
        {
         "name": "payload_byte_395",
         "rawType": "int64",
         "type": "integer"
        },
        {
         "name": "payload_byte_396",
         "rawType": "int64",
         "type": "integer"
        },
        {
         "name": "payload_byte_397",
         "rawType": "int64",
         "type": "integer"
        },
        {
         "name": "payload_byte_398",
         "rawType": "int64",
         "type": "integer"
        },
        {
         "name": "payload_byte_399",
         "rawType": "int64",
         "type": "integer"
        },
        {
         "name": "payload_byte_400",
         "rawType": "int64",
         "type": "integer"
        },
        {
         "name": "payload_byte_401",
         "rawType": "int64",
         "type": "integer"
        },
        {
         "name": "payload_byte_402",
         "rawType": "int64",
         "type": "integer"
        },
        {
         "name": "payload_byte_403",
         "rawType": "int64",
         "type": "integer"
        },
        {
         "name": "payload_byte_404",
         "rawType": "int64",
         "type": "integer"
        },
        {
         "name": "payload_byte_405",
         "rawType": "int64",
         "type": "integer"
        },
        {
         "name": "payload_byte_406",
         "rawType": "int64",
         "type": "integer"
        },
        {
         "name": "payload_byte_407",
         "rawType": "int64",
         "type": "integer"
        },
        {
         "name": "payload_byte_408",
         "rawType": "int64",
         "type": "integer"
        },
        {
         "name": "payload_byte_409",
         "rawType": "int64",
         "type": "integer"
        },
        {
         "name": "payload_byte_410",
         "rawType": "int64",
         "type": "integer"
        },
        {
         "name": "payload_byte_411",
         "rawType": "int64",
         "type": "integer"
        },
        {
         "name": "payload_byte_412",
         "rawType": "int64",
         "type": "integer"
        },
        {
         "name": "payload_byte_413",
         "rawType": "int64",
         "type": "integer"
        },
        {
         "name": "payload_byte_414",
         "rawType": "int64",
         "type": "integer"
        },
        {
         "name": "payload_byte_415",
         "rawType": "int64",
         "type": "integer"
        },
        {
         "name": "payload_byte_416",
         "rawType": "int64",
         "type": "integer"
        },
        {
         "name": "payload_byte_417",
         "rawType": "int64",
         "type": "integer"
        },
        {
         "name": "payload_byte_418",
         "rawType": "int64",
         "type": "integer"
        },
        {
         "name": "payload_byte_419",
         "rawType": "int64",
         "type": "integer"
        },
        {
         "name": "payload_byte_420",
         "rawType": "int64",
         "type": "integer"
        },
        {
         "name": "payload_byte_421",
         "rawType": "int64",
         "type": "integer"
        },
        {
         "name": "payload_byte_422",
         "rawType": "int64",
         "type": "integer"
        },
        {
         "name": "payload_byte_423",
         "rawType": "int64",
         "type": "integer"
        },
        {
         "name": "payload_byte_424",
         "rawType": "int64",
         "type": "integer"
        },
        {
         "name": "payload_byte_425",
         "rawType": "int64",
         "type": "integer"
        },
        {
         "name": "payload_byte_426",
         "rawType": "int64",
         "type": "integer"
        },
        {
         "name": "payload_byte_427",
         "rawType": "int64",
         "type": "integer"
        },
        {
         "name": "payload_byte_428",
         "rawType": "int64",
         "type": "integer"
        },
        {
         "name": "payload_byte_429",
         "rawType": "int64",
         "type": "integer"
        },
        {
         "name": "payload_byte_430",
         "rawType": "int64",
         "type": "integer"
        },
        {
         "name": "payload_byte_431",
         "rawType": "int64",
         "type": "integer"
        },
        {
         "name": "payload_byte_432",
         "rawType": "int64",
         "type": "integer"
        },
        {
         "name": "payload_byte_433",
         "rawType": "int64",
         "type": "integer"
        },
        {
         "name": "payload_byte_434",
         "rawType": "int64",
         "type": "integer"
        },
        {
         "name": "payload_byte_435",
         "rawType": "int64",
         "type": "integer"
        },
        {
         "name": "payload_byte_436",
         "rawType": "int64",
         "type": "integer"
        },
        {
         "name": "payload_byte_437",
         "rawType": "int64",
         "type": "integer"
        },
        {
         "name": "payload_byte_438",
         "rawType": "int64",
         "type": "integer"
        },
        {
         "name": "payload_byte_439",
         "rawType": "int64",
         "type": "integer"
        },
        {
         "name": "payload_byte_440",
         "rawType": "int64",
         "type": "integer"
        },
        {
         "name": "payload_byte_441",
         "rawType": "int64",
         "type": "integer"
        },
        {
         "name": "payload_byte_442",
         "rawType": "int64",
         "type": "integer"
        },
        {
         "name": "payload_byte_443",
         "rawType": "int64",
         "type": "integer"
        },
        {
         "name": "payload_byte_444",
         "rawType": "int64",
         "type": "integer"
        },
        {
         "name": "payload_byte_445",
         "rawType": "int64",
         "type": "integer"
        },
        {
         "name": "payload_byte_446",
         "rawType": "int64",
         "type": "integer"
        },
        {
         "name": "payload_byte_447",
         "rawType": "int64",
         "type": "integer"
        },
        {
         "name": "payload_byte_448",
         "rawType": "int64",
         "type": "integer"
        },
        {
         "name": "payload_byte_449",
         "rawType": "int64",
         "type": "integer"
        },
        {
         "name": "payload_byte_450",
         "rawType": "int64",
         "type": "integer"
        },
        {
         "name": "payload_byte_451",
         "rawType": "int64",
         "type": "integer"
        },
        {
         "name": "payload_byte_452",
         "rawType": "int64",
         "type": "integer"
        },
        {
         "name": "payload_byte_453",
         "rawType": "int64",
         "type": "integer"
        },
        {
         "name": "payload_byte_454",
         "rawType": "int64",
         "type": "integer"
        },
        {
         "name": "payload_byte_455",
         "rawType": "int64",
         "type": "integer"
        },
        {
         "name": "payload_byte_456",
         "rawType": "int64",
         "type": "integer"
        },
        {
         "name": "payload_byte_457",
         "rawType": "int64",
         "type": "integer"
        },
        {
         "name": "payload_byte_458",
         "rawType": "int64",
         "type": "integer"
        },
        {
         "name": "payload_byte_459",
         "rawType": "int64",
         "type": "integer"
        },
        {
         "name": "payload_byte_460",
         "rawType": "int64",
         "type": "integer"
        },
        {
         "name": "payload_byte_461",
         "rawType": "int64",
         "type": "integer"
        },
        {
         "name": "payload_byte_462",
         "rawType": "int64",
         "type": "integer"
        },
        {
         "name": "payload_byte_463",
         "rawType": "int64",
         "type": "integer"
        },
        {
         "name": "payload_byte_464",
         "rawType": "int64",
         "type": "integer"
        },
        {
         "name": "payload_byte_465",
         "rawType": "int64",
         "type": "integer"
        },
        {
         "name": "payload_byte_466",
         "rawType": "int64",
         "type": "integer"
        },
        {
         "name": "payload_byte_467",
         "rawType": "int64",
         "type": "integer"
        },
        {
         "name": "payload_byte_468",
         "rawType": "int64",
         "type": "integer"
        },
        {
         "name": "payload_byte_469",
         "rawType": "int64",
         "type": "integer"
        },
        {
         "name": "payload_byte_470",
         "rawType": "int64",
         "type": "integer"
        },
        {
         "name": "payload_byte_471",
         "rawType": "int64",
         "type": "integer"
        },
        {
         "name": "payload_byte_472",
         "rawType": "int64",
         "type": "integer"
        },
        {
         "name": "payload_byte_473",
         "rawType": "int64",
         "type": "integer"
        },
        {
         "name": "payload_byte_474",
         "rawType": "int64",
         "type": "integer"
        },
        {
         "name": "payload_byte_475",
         "rawType": "int64",
         "type": "integer"
        },
        {
         "name": "payload_byte_476",
         "rawType": "int64",
         "type": "integer"
        },
        {
         "name": "payload_byte_477",
         "rawType": "int64",
         "type": "integer"
        },
        {
         "name": "payload_byte_478",
         "rawType": "int64",
         "type": "integer"
        },
        {
         "name": "payload_byte_479",
         "rawType": "int64",
         "type": "integer"
        },
        {
         "name": "payload_byte_480",
         "rawType": "int64",
         "type": "integer"
        },
        {
         "name": "payload_byte_481",
         "rawType": "int64",
         "type": "integer"
        },
        {
         "name": "payload_byte_482",
         "rawType": "int64",
         "type": "integer"
        },
        {
         "name": "payload_byte_483",
         "rawType": "int64",
         "type": "integer"
        },
        {
         "name": "payload_byte_484",
         "rawType": "int64",
         "type": "integer"
        },
        {
         "name": "payload_byte_485",
         "rawType": "int64",
         "type": "integer"
        },
        {
         "name": "payload_byte_486",
         "rawType": "int64",
         "type": "integer"
        },
        {
         "name": "payload_byte_487",
         "rawType": "int64",
         "type": "integer"
        },
        {
         "name": "payload_byte_488",
         "rawType": "int64",
         "type": "integer"
        },
        {
         "name": "payload_byte_489",
         "rawType": "int64",
         "type": "integer"
        },
        {
         "name": "payload_byte_490",
         "rawType": "int64",
         "type": "integer"
        },
        {
         "name": "payload_byte_491",
         "rawType": "int64",
         "type": "integer"
        },
        {
         "name": "payload_byte_492",
         "rawType": "int64",
         "type": "integer"
        },
        {
         "name": "payload_byte_493",
         "rawType": "int64",
         "type": "integer"
        },
        {
         "name": "payload_byte_494",
         "rawType": "int64",
         "type": "integer"
        },
        {
         "name": "payload_byte_495",
         "rawType": "int64",
         "type": "integer"
        },
        {
         "name": "payload_byte_496",
         "rawType": "int64",
         "type": "integer"
        },
        {
         "name": "payload_byte_497",
         "rawType": "int64",
         "type": "integer"
        },
        {
         "name": "payload_byte_498",
         "rawType": "int64",
         "type": "integer"
        },
        {
         "name": "payload_byte_499",
         "rawType": "int64",
         "type": "integer"
        },
        {
         "name": "payload_byte_500",
         "rawType": "int64",
         "type": "integer"
        },
        {
         "name": "payload_byte_501",
         "rawType": "int64",
         "type": "integer"
        },
        {
         "name": "payload_byte_502",
         "rawType": "int64",
         "type": "integer"
        },
        {
         "name": "payload_byte_503",
         "rawType": "int64",
         "type": "integer"
        },
        {
         "name": "payload_byte_504",
         "rawType": "int64",
         "type": "integer"
        },
        {
         "name": "payload_byte_505",
         "rawType": "int64",
         "type": "integer"
        },
        {
         "name": "payload_byte_506",
         "rawType": "int64",
         "type": "integer"
        },
        {
         "name": "payload_byte_507",
         "rawType": "int64",
         "type": "integer"
        },
        {
         "name": "payload_byte_508",
         "rawType": "int64",
         "type": "integer"
        },
        {
         "name": "payload_byte_509",
         "rawType": "int64",
         "type": "integer"
        },
        {
         "name": "payload_byte_510",
         "rawType": "int64",
         "type": "integer"
        },
        {
         "name": "payload_byte_511",
         "rawType": "int64",
         "type": "integer"
        },
        {
         "name": "payload_byte_512",
         "rawType": "int64",
         "type": "integer"
        },
        {
         "name": "payload_byte_513",
         "rawType": "int64",
         "type": "integer"
        },
        {
         "name": "payload_byte_514",
         "rawType": "int64",
         "type": "integer"
        },
        {
         "name": "payload_byte_515",
         "rawType": "int64",
         "type": "integer"
        },
        {
         "name": "payload_byte_516",
         "rawType": "int64",
         "type": "integer"
        },
        {
         "name": "payload_byte_517",
         "rawType": "int64",
         "type": "integer"
        },
        {
         "name": "payload_byte_518",
         "rawType": "int64",
         "type": "integer"
        },
        {
         "name": "payload_byte_519",
         "rawType": "int64",
         "type": "integer"
        },
        {
         "name": "payload_byte_520",
         "rawType": "int64",
         "type": "integer"
        },
        {
         "name": "payload_byte_521",
         "rawType": "int64",
         "type": "integer"
        },
        {
         "name": "payload_byte_522",
         "rawType": "int64",
         "type": "integer"
        },
        {
         "name": "payload_byte_523",
         "rawType": "int64",
         "type": "integer"
        },
        {
         "name": "payload_byte_524",
         "rawType": "int64",
         "type": "integer"
        },
        {
         "name": "payload_byte_525",
         "rawType": "int64",
         "type": "integer"
        },
        {
         "name": "payload_byte_526",
         "rawType": "int64",
         "type": "integer"
        },
        {
         "name": "payload_byte_527",
         "rawType": "int64",
         "type": "integer"
        },
        {
         "name": "payload_byte_528",
         "rawType": "int64",
         "type": "integer"
        },
        {
         "name": "payload_byte_529",
         "rawType": "int64",
         "type": "integer"
        },
        {
         "name": "payload_byte_530",
         "rawType": "int64",
         "type": "integer"
        },
        {
         "name": "payload_byte_531",
         "rawType": "int64",
         "type": "integer"
        },
        {
         "name": "payload_byte_532",
         "rawType": "int64",
         "type": "integer"
        },
        {
         "name": "payload_byte_533",
         "rawType": "int64",
         "type": "integer"
        },
        {
         "name": "payload_byte_534",
         "rawType": "int64",
         "type": "integer"
        },
        {
         "name": "payload_byte_535",
         "rawType": "int64",
         "type": "integer"
        },
        {
         "name": "payload_byte_536",
         "rawType": "int64",
         "type": "integer"
        },
        {
         "name": "payload_byte_537",
         "rawType": "int64",
         "type": "integer"
        },
        {
         "name": "payload_byte_538",
         "rawType": "int64",
         "type": "integer"
        },
        {
         "name": "payload_byte_539",
         "rawType": "int64",
         "type": "integer"
        },
        {
         "name": "payload_byte_540",
         "rawType": "int64",
         "type": "integer"
        },
        {
         "name": "payload_byte_541",
         "rawType": "int64",
         "type": "integer"
        },
        {
         "name": "payload_byte_542",
         "rawType": "int64",
         "type": "integer"
        },
        {
         "name": "payload_byte_543",
         "rawType": "int64",
         "type": "integer"
        },
        {
         "name": "payload_byte_544",
         "rawType": "int64",
         "type": "integer"
        },
        {
         "name": "payload_byte_545",
         "rawType": "int64",
         "type": "integer"
        },
        {
         "name": "payload_byte_546",
         "rawType": "int64",
         "type": "integer"
        },
        {
         "name": "payload_byte_547",
         "rawType": "int64",
         "type": "integer"
        },
        {
         "name": "payload_byte_548",
         "rawType": "int64",
         "type": "integer"
        },
        {
         "name": "payload_byte_549",
         "rawType": "int64",
         "type": "integer"
        },
        {
         "name": "payload_byte_550",
         "rawType": "int64",
         "type": "integer"
        },
        {
         "name": "payload_byte_551",
         "rawType": "int64",
         "type": "integer"
        },
        {
         "name": "payload_byte_552",
         "rawType": "int64",
         "type": "integer"
        },
        {
         "name": "payload_byte_553",
         "rawType": "int64",
         "type": "integer"
        },
        {
         "name": "payload_byte_554",
         "rawType": "int64",
         "type": "integer"
        },
        {
         "name": "payload_byte_555",
         "rawType": "int64",
         "type": "integer"
        },
        {
         "name": "payload_byte_556",
         "rawType": "int64",
         "type": "integer"
        },
        {
         "name": "payload_byte_557",
         "rawType": "int64",
         "type": "integer"
        },
        {
         "name": "payload_byte_558",
         "rawType": "int64",
         "type": "integer"
        },
        {
         "name": "payload_byte_559",
         "rawType": "int64",
         "type": "integer"
        },
        {
         "name": "payload_byte_560",
         "rawType": "int64",
         "type": "integer"
        },
        {
         "name": "payload_byte_561",
         "rawType": "int64",
         "type": "integer"
        },
        {
         "name": "payload_byte_562",
         "rawType": "int64",
         "type": "integer"
        },
        {
         "name": "payload_byte_563",
         "rawType": "int64",
         "type": "integer"
        },
        {
         "name": "payload_byte_564",
         "rawType": "int64",
         "type": "integer"
        },
        {
         "name": "payload_byte_565",
         "rawType": "int64",
         "type": "integer"
        },
        {
         "name": "payload_byte_566",
         "rawType": "int64",
         "type": "integer"
        },
        {
         "name": "payload_byte_567",
         "rawType": "int64",
         "type": "integer"
        },
        {
         "name": "payload_byte_568",
         "rawType": "int64",
         "type": "integer"
        },
        {
         "name": "payload_byte_569",
         "rawType": "int64",
         "type": "integer"
        },
        {
         "name": "payload_byte_570",
         "rawType": "int64",
         "type": "integer"
        },
        {
         "name": "payload_byte_571",
         "rawType": "int64",
         "type": "integer"
        },
        {
         "name": "payload_byte_572",
         "rawType": "int64",
         "type": "integer"
        },
        {
         "name": "payload_byte_573",
         "rawType": "int64",
         "type": "integer"
        },
        {
         "name": "payload_byte_574",
         "rawType": "int64",
         "type": "integer"
        },
        {
         "name": "payload_byte_575",
         "rawType": "int64",
         "type": "integer"
        },
        {
         "name": "payload_byte_576",
         "rawType": "int64",
         "type": "integer"
        },
        {
         "name": "payload_byte_577",
         "rawType": "int64",
         "type": "integer"
        },
        {
         "name": "payload_byte_578",
         "rawType": "int64",
         "type": "integer"
        },
        {
         "name": "payload_byte_579",
         "rawType": "int64",
         "type": "integer"
        },
        {
         "name": "payload_byte_580",
         "rawType": "int64",
         "type": "integer"
        },
        {
         "name": "payload_byte_581",
         "rawType": "int64",
         "type": "integer"
        },
        {
         "name": "payload_byte_582",
         "rawType": "int64",
         "type": "integer"
        },
        {
         "name": "payload_byte_583",
         "rawType": "int64",
         "type": "integer"
        },
        {
         "name": "payload_byte_584",
         "rawType": "int64",
         "type": "integer"
        },
        {
         "name": "payload_byte_585",
         "rawType": "int64",
         "type": "integer"
        },
        {
         "name": "payload_byte_586",
         "rawType": "int64",
         "type": "integer"
        },
        {
         "name": "payload_byte_587",
         "rawType": "int64",
         "type": "integer"
        },
        {
         "name": "payload_byte_588",
         "rawType": "int64",
         "type": "integer"
        },
        {
         "name": "payload_byte_589",
         "rawType": "int64",
         "type": "integer"
        },
        {
         "name": "payload_byte_590",
         "rawType": "int64",
         "type": "integer"
        },
        {
         "name": "payload_byte_591",
         "rawType": "int64",
         "type": "integer"
        },
        {
         "name": "payload_byte_592",
         "rawType": "int64",
         "type": "integer"
        },
        {
         "name": "payload_byte_593",
         "rawType": "int64",
         "type": "integer"
        },
        {
         "name": "payload_byte_594",
         "rawType": "int64",
         "type": "integer"
        },
        {
         "name": "payload_byte_595",
         "rawType": "int64",
         "type": "integer"
        },
        {
         "name": "payload_byte_596",
         "rawType": "int64",
         "type": "integer"
        },
        {
         "name": "payload_byte_597",
         "rawType": "int64",
         "type": "integer"
        },
        {
         "name": "payload_byte_598",
         "rawType": "int64",
         "type": "integer"
        },
        {
         "name": "payload_byte_599",
         "rawType": "int64",
         "type": "integer"
        },
        {
         "name": "payload_byte_600",
         "rawType": "int64",
         "type": "integer"
        },
        {
         "name": "payload_byte_601",
         "rawType": "int64",
         "type": "integer"
        },
        {
         "name": "payload_byte_602",
         "rawType": "int64",
         "type": "integer"
        },
        {
         "name": "payload_byte_603",
         "rawType": "int64",
         "type": "integer"
        },
        {
         "name": "payload_byte_604",
         "rawType": "int64",
         "type": "integer"
        },
        {
         "name": "payload_byte_605",
         "rawType": "int64",
         "type": "integer"
        },
        {
         "name": "payload_byte_606",
         "rawType": "int64",
         "type": "integer"
        },
        {
         "name": "payload_byte_607",
         "rawType": "int64",
         "type": "integer"
        },
        {
         "name": "payload_byte_608",
         "rawType": "int64",
         "type": "integer"
        },
        {
         "name": "payload_byte_609",
         "rawType": "int64",
         "type": "integer"
        },
        {
         "name": "payload_byte_610",
         "rawType": "int64",
         "type": "integer"
        },
        {
         "name": "payload_byte_611",
         "rawType": "int64",
         "type": "integer"
        },
        {
         "name": "payload_byte_612",
         "rawType": "int64",
         "type": "integer"
        },
        {
         "name": "payload_byte_613",
         "rawType": "int64",
         "type": "integer"
        },
        {
         "name": "payload_byte_614",
         "rawType": "int64",
         "type": "integer"
        },
        {
         "name": "payload_byte_615",
         "rawType": "int64",
         "type": "integer"
        },
        {
         "name": "payload_byte_616",
         "rawType": "int64",
         "type": "integer"
        },
        {
         "name": "payload_byte_617",
         "rawType": "int64",
         "type": "integer"
        },
        {
         "name": "payload_byte_618",
         "rawType": "int64",
         "type": "integer"
        },
        {
         "name": "payload_byte_619",
         "rawType": "int64",
         "type": "integer"
        },
        {
         "name": "payload_byte_620",
         "rawType": "int64",
         "type": "integer"
        },
        {
         "name": "payload_byte_621",
         "rawType": "int64",
         "type": "integer"
        },
        {
         "name": "payload_byte_622",
         "rawType": "int64",
         "type": "integer"
        },
        {
         "name": "payload_byte_623",
         "rawType": "int64",
         "type": "integer"
        },
        {
         "name": "payload_byte_624",
         "rawType": "int64",
         "type": "integer"
        },
        {
         "name": "payload_byte_625",
         "rawType": "int64",
         "type": "integer"
        },
        {
         "name": "payload_byte_626",
         "rawType": "int64",
         "type": "integer"
        },
        {
         "name": "payload_byte_627",
         "rawType": "int64",
         "type": "integer"
        },
        {
         "name": "payload_byte_628",
         "rawType": "int64",
         "type": "integer"
        },
        {
         "name": "payload_byte_629",
         "rawType": "int64",
         "type": "integer"
        },
        {
         "name": "payload_byte_630",
         "rawType": "int64",
         "type": "integer"
        },
        {
         "name": "payload_byte_631",
         "rawType": "int64",
         "type": "integer"
        },
        {
         "name": "payload_byte_632",
         "rawType": "int64",
         "type": "integer"
        },
        {
         "name": "payload_byte_633",
         "rawType": "int64",
         "type": "integer"
        },
        {
         "name": "payload_byte_634",
         "rawType": "int64",
         "type": "integer"
        },
        {
         "name": "payload_byte_635",
         "rawType": "int64",
         "type": "integer"
        },
        {
         "name": "payload_byte_636",
         "rawType": "int64",
         "type": "integer"
        },
        {
         "name": "payload_byte_637",
         "rawType": "int64",
         "type": "integer"
        },
        {
         "name": "payload_byte_638",
         "rawType": "int64",
         "type": "integer"
        },
        {
         "name": "payload_byte_639",
         "rawType": "int64",
         "type": "integer"
        },
        {
         "name": "payload_byte_640",
         "rawType": "int64",
         "type": "integer"
        },
        {
         "name": "payload_byte_641",
         "rawType": "int64",
         "type": "integer"
        },
        {
         "name": "payload_byte_642",
         "rawType": "int64",
         "type": "integer"
        },
        {
         "name": "payload_byte_643",
         "rawType": "int64",
         "type": "integer"
        },
        {
         "name": "payload_byte_644",
         "rawType": "int64",
         "type": "integer"
        },
        {
         "name": "payload_byte_645",
         "rawType": "int64",
         "type": "integer"
        },
        {
         "name": "payload_byte_646",
         "rawType": "int64",
         "type": "integer"
        },
        {
         "name": "payload_byte_647",
         "rawType": "int64",
         "type": "integer"
        },
        {
         "name": "payload_byte_648",
         "rawType": "int64",
         "type": "integer"
        },
        {
         "name": "payload_byte_649",
         "rawType": "int64",
         "type": "integer"
        },
        {
         "name": "payload_byte_650",
         "rawType": "int64",
         "type": "integer"
        },
        {
         "name": "payload_byte_651",
         "rawType": "int64",
         "type": "integer"
        },
        {
         "name": "payload_byte_652",
         "rawType": "int64",
         "type": "integer"
        },
        {
         "name": "payload_byte_653",
         "rawType": "int64",
         "type": "integer"
        },
        {
         "name": "payload_byte_654",
         "rawType": "int64",
         "type": "integer"
        },
        {
         "name": "payload_byte_655",
         "rawType": "int64",
         "type": "integer"
        },
        {
         "name": "payload_byte_656",
         "rawType": "int64",
         "type": "integer"
        },
        {
         "name": "payload_byte_657",
         "rawType": "int64",
         "type": "integer"
        },
        {
         "name": "payload_byte_658",
         "rawType": "int64",
         "type": "integer"
        },
        {
         "name": "payload_byte_659",
         "rawType": "int64",
         "type": "integer"
        },
        {
         "name": "payload_byte_660",
         "rawType": "int64",
         "type": "integer"
        },
        {
         "name": "payload_byte_661",
         "rawType": "int64",
         "type": "integer"
        },
        {
         "name": "payload_byte_662",
         "rawType": "int64",
         "type": "integer"
        },
        {
         "name": "payload_byte_663",
         "rawType": "int64",
         "type": "integer"
        },
        {
         "name": "payload_byte_664",
         "rawType": "int64",
         "type": "integer"
        },
        {
         "name": "payload_byte_665",
         "rawType": "int64",
         "type": "integer"
        },
        {
         "name": "payload_byte_666",
         "rawType": "int64",
         "type": "integer"
        },
        {
         "name": "payload_byte_667",
         "rawType": "int64",
         "type": "integer"
        },
        {
         "name": "payload_byte_668",
         "rawType": "int64",
         "type": "integer"
        },
        {
         "name": "payload_byte_669",
         "rawType": "int64",
         "type": "integer"
        },
        {
         "name": "payload_byte_670",
         "rawType": "int64",
         "type": "integer"
        },
        {
         "name": "payload_byte_671",
         "rawType": "int64",
         "type": "integer"
        },
        {
         "name": "payload_byte_672",
         "rawType": "int64",
         "type": "integer"
        },
        {
         "name": "payload_byte_673",
         "rawType": "int64",
         "type": "integer"
        },
        {
         "name": "payload_byte_674",
         "rawType": "int64",
         "type": "integer"
        },
        {
         "name": "payload_byte_675",
         "rawType": "int64",
         "type": "integer"
        },
        {
         "name": "payload_byte_676",
         "rawType": "int64",
         "type": "integer"
        },
        {
         "name": "payload_byte_677",
         "rawType": "int64",
         "type": "integer"
        },
        {
         "name": "payload_byte_678",
         "rawType": "int64",
         "type": "integer"
        },
        {
         "name": "payload_byte_679",
         "rawType": "int64",
         "type": "integer"
        },
        {
         "name": "payload_byte_680",
         "rawType": "int64",
         "type": "integer"
        },
        {
         "name": "payload_byte_681",
         "rawType": "int64",
         "type": "integer"
        },
        {
         "name": "payload_byte_682",
         "rawType": "int64",
         "type": "integer"
        },
        {
         "name": "payload_byte_683",
         "rawType": "int64",
         "type": "integer"
        },
        {
         "name": "payload_byte_684",
         "rawType": "int64",
         "type": "integer"
        },
        {
         "name": "payload_byte_685",
         "rawType": "int64",
         "type": "integer"
        },
        {
         "name": "payload_byte_686",
         "rawType": "int64",
         "type": "integer"
        },
        {
         "name": "payload_byte_687",
         "rawType": "int64",
         "type": "integer"
        },
        {
         "name": "payload_byte_688",
         "rawType": "int64",
         "type": "integer"
        },
        {
         "name": "payload_byte_689",
         "rawType": "int64",
         "type": "integer"
        },
        {
         "name": "payload_byte_690",
         "rawType": "int64",
         "type": "integer"
        },
        {
         "name": "payload_byte_691",
         "rawType": "int64",
         "type": "integer"
        },
        {
         "name": "payload_byte_692",
         "rawType": "int64",
         "type": "integer"
        },
        {
         "name": "payload_byte_693",
         "rawType": "int64",
         "type": "integer"
        },
        {
         "name": "payload_byte_694",
         "rawType": "int64",
         "type": "integer"
        },
        {
         "name": "payload_byte_695",
         "rawType": "int64",
         "type": "integer"
        },
        {
         "name": "payload_byte_696",
         "rawType": "int64",
         "type": "integer"
        },
        {
         "name": "payload_byte_697",
         "rawType": "int64",
         "type": "integer"
        },
        {
         "name": "payload_byte_698",
         "rawType": "int64",
         "type": "integer"
        },
        {
         "name": "payload_byte_699",
         "rawType": "int64",
         "type": "integer"
        },
        {
         "name": "payload_byte_700",
         "rawType": "int64",
         "type": "integer"
        },
        {
         "name": "payload_byte_701",
         "rawType": "int64",
         "type": "integer"
        },
        {
         "name": "payload_byte_702",
         "rawType": "int64",
         "type": "integer"
        },
        {
         "name": "payload_byte_703",
         "rawType": "int64",
         "type": "integer"
        },
        {
         "name": "payload_byte_704",
         "rawType": "int64",
         "type": "integer"
        },
        {
         "name": "payload_byte_705",
         "rawType": "int64",
         "type": "integer"
        },
        {
         "name": "payload_byte_706",
         "rawType": "int64",
         "type": "integer"
        },
        {
         "name": "payload_byte_707",
         "rawType": "int64",
         "type": "integer"
        },
        {
         "name": "payload_byte_708",
         "rawType": "int64",
         "type": "integer"
        },
        {
         "name": "payload_byte_709",
         "rawType": "int64",
         "type": "integer"
        },
        {
         "name": "payload_byte_710",
         "rawType": "int64",
         "type": "integer"
        },
        {
         "name": "payload_byte_711",
         "rawType": "int64",
         "type": "integer"
        },
        {
         "name": "payload_byte_712",
         "rawType": "int64",
         "type": "integer"
        },
        {
         "name": "payload_byte_713",
         "rawType": "int64",
         "type": "integer"
        },
        {
         "name": "payload_byte_714",
         "rawType": "int64",
         "type": "integer"
        },
        {
         "name": "payload_byte_715",
         "rawType": "int64",
         "type": "integer"
        },
        {
         "name": "payload_byte_716",
         "rawType": "int64",
         "type": "integer"
        },
        {
         "name": "payload_byte_717",
         "rawType": "int64",
         "type": "integer"
        },
        {
         "name": "payload_byte_718",
         "rawType": "int64",
         "type": "integer"
        },
        {
         "name": "payload_byte_719",
         "rawType": "int64",
         "type": "integer"
        },
        {
         "name": "payload_byte_720",
         "rawType": "int64",
         "type": "integer"
        },
        {
         "name": "payload_byte_721",
         "rawType": "int64",
         "type": "integer"
        },
        {
         "name": "payload_byte_722",
         "rawType": "int64",
         "type": "integer"
        },
        {
         "name": "payload_byte_723",
         "rawType": "int64",
         "type": "integer"
        },
        {
         "name": "payload_byte_724",
         "rawType": "int64",
         "type": "integer"
        },
        {
         "name": "payload_byte_725",
         "rawType": "int64",
         "type": "integer"
        },
        {
         "name": "payload_byte_726",
         "rawType": "int64",
         "type": "integer"
        },
        {
         "name": "payload_byte_727",
         "rawType": "int64",
         "type": "integer"
        },
        {
         "name": "payload_byte_728",
         "rawType": "int64",
         "type": "integer"
        },
        {
         "name": "payload_byte_729",
         "rawType": "int64",
         "type": "integer"
        },
        {
         "name": "payload_byte_730",
         "rawType": "int64",
         "type": "integer"
        },
        {
         "name": "payload_byte_731",
         "rawType": "int64",
         "type": "integer"
        },
        {
         "name": "payload_byte_732",
         "rawType": "int64",
         "type": "integer"
        },
        {
         "name": "payload_byte_733",
         "rawType": "int64",
         "type": "integer"
        },
        {
         "name": "payload_byte_734",
         "rawType": "int64",
         "type": "integer"
        },
        {
         "name": "payload_byte_735",
         "rawType": "int64",
         "type": "integer"
        },
        {
         "name": "payload_byte_736",
         "rawType": "int64",
         "type": "integer"
        },
        {
         "name": "payload_byte_737",
         "rawType": "int64",
         "type": "integer"
        },
        {
         "name": "payload_byte_738",
         "rawType": "int64",
         "type": "integer"
        },
        {
         "name": "payload_byte_739",
         "rawType": "int64",
         "type": "integer"
        },
        {
         "name": "payload_byte_740",
         "rawType": "int64",
         "type": "integer"
        },
        {
         "name": "payload_byte_741",
         "rawType": "int64",
         "type": "integer"
        },
        {
         "name": "payload_byte_742",
         "rawType": "int64",
         "type": "integer"
        },
        {
         "name": "payload_byte_743",
         "rawType": "int64",
         "type": "integer"
        },
        {
         "name": "payload_byte_744",
         "rawType": "int64",
         "type": "integer"
        },
        {
         "name": "payload_byte_745",
         "rawType": "int64",
         "type": "integer"
        },
        {
         "name": "payload_byte_746",
         "rawType": "int64",
         "type": "integer"
        },
        {
         "name": "payload_byte_747",
         "rawType": "int64",
         "type": "integer"
        },
        {
         "name": "payload_byte_748",
         "rawType": "int64",
         "type": "integer"
        },
        {
         "name": "payload_byte_749",
         "rawType": "int64",
         "type": "integer"
        },
        {
         "name": "payload_byte_750",
         "rawType": "int64",
         "type": "integer"
        },
        {
         "name": "payload_byte_751",
         "rawType": "int64",
         "type": "integer"
        },
        {
         "name": "payload_byte_752",
         "rawType": "int64",
         "type": "integer"
        },
        {
         "name": "payload_byte_753",
         "rawType": "int64",
         "type": "integer"
        },
        {
         "name": "payload_byte_754",
         "rawType": "int64",
         "type": "integer"
        },
        {
         "name": "payload_byte_755",
         "rawType": "int64",
         "type": "integer"
        },
        {
         "name": "payload_byte_756",
         "rawType": "int64",
         "type": "integer"
        },
        {
         "name": "payload_byte_757",
         "rawType": "int64",
         "type": "integer"
        },
        {
         "name": "payload_byte_758",
         "rawType": "int64",
         "type": "integer"
        },
        {
         "name": "payload_byte_759",
         "rawType": "int64",
         "type": "integer"
        },
        {
         "name": "payload_byte_760",
         "rawType": "int64",
         "type": "integer"
        },
        {
         "name": "payload_byte_761",
         "rawType": "int64",
         "type": "integer"
        },
        {
         "name": "payload_byte_762",
         "rawType": "int64",
         "type": "integer"
        },
        {
         "name": "payload_byte_763",
         "rawType": "int64",
         "type": "integer"
        },
        {
         "name": "payload_byte_764",
         "rawType": "int64",
         "type": "integer"
        },
        {
         "name": "payload_byte_765",
         "rawType": "int64",
         "type": "integer"
        },
        {
         "name": "payload_byte_766",
         "rawType": "int64",
         "type": "integer"
        },
        {
         "name": "payload_byte_767",
         "rawType": "int64",
         "type": "integer"
        },
        {
         "name": "payload_byte_768",
         "rawType": "int64",
         "type": "integer"
        },
        {
         "name": "payload_byte_769",
         "rawType": "int64",
         "type": "integer"
        },
        {
         "name": "payload_byte_770",
         "rawType": "int64",
         "type": "integer"
        },
        {
         "name": "payload_byte_771",
         "rawType": "int64",
         "type": "integer"
        },
        {
         "name": "payload_byte_772",
         "rawType": "int64",
         "type": "integer"
        },
        {
         "name": "payload_byte_773",
         "rawType": "int64",
         "type": "integer"
        },
        {
         "name": "payload_byte_774",
         "rawType": "int64",
         "type": "integer"
        },
        {
         "name": "payload_byte_775",
         "rawType": "int64",
         "type": "integer"
        },
        {
         "name": "payload_byte_776",
         "rawType": "int64",
         "type": "integer"
        },
        {
         "name": "payload_byte_777",
         "rawType": "int64",
         "type": "integer"
        },
        {
         "name": "payload_byte_778",
         "rawType": "int64",
         "type": "integer"
        },
        {
         "name": "payload_byte_779",
         "rawType": "int64",
         "type": "integer"
        },
        {
         "name": "payload_byte_780",
         "rawType": "int64",
         "type": "integer"
        },
        {
         "name": "payload_byte_781",
         "rawType": "int64",
         "type": "integer"
        },
        {
         "name": "payload_byte_782",
         "rawType": "int64",
         "type": "integer"
        },
        {
         "name": "payload_byte_783",
         "rawType": "int64",
         "type": "integer"
        },
        {
         "name": "payload_byte_784",
         "rawType": "int64",
         "type": "integer"
        },
        {
         "name": "payload_byte_785",
         "rawType": "int64",
         "type": "integer"
        },
        {
         "name": "payload_byte_786",
         "rawType": "int64",
         "type": "integer"
        },
        {
         "name": "payload_byte_787",
         "rawType": "int64",
         "type": "integer"
        },
        {
         "name": "payload_byte_788",
         "rawType": "int64",
         "type": "integer"
        },
        {
         "name": "payload_byte_789",
         "rawType": "int64",
         "type": "integer"
        },
        {
         "name": "payload_byte_790",
         "rawType": "int64",
         "type": "integer"
        },
        {
         "name": "payload_byte_791",
         "rawType": "int64",
         "type": "integer"
        },
        {
         "name": "payload_byte_792",
         "rawType": "int64",
         "type": "integer"
        },
        {
         "name": "payload_byte_793",
         "rawType": "int64",
         "type": "integer"
        },
        {
         "name": "payload_byte_794",
         "rawType": "int64",
         "type": "integer"
        },
        {
         "name": "payload_byte_795",
         "rawType": "int64",
         "type": "integer"
        },
        {
         "name": "payload_byte_796",
         "rawType": "int64",
         "type": "integer"
        },
        {
         "name": "payload_byte_797",
         "rawType": "int64",
         "type": "integer"
        },
        {
         "name": "payload_byte_798",
         "rawType": "int64",
         "type": "integer"
        },
        {
         "name": "payload_byte_799",
         "rawType": "int64",
         "type": "integer"
        },
        {
         "name": "payload_byte_800",
         "rawType": "int64",
         "type": "integer"
        },
        {
         "name": "payload_byte_801",
         "rawType": "int64",
         "type": "integer"
        },
        {
         "name": "payload_byte_802",
         "rawType": "int64",
         "type": "integer"
        },
        {
         "name": "payload_byte_803",
         "rawType": "int64",
         "type": "integer"
        },
        {
         "name": "payload_byte_804",
         "rawType": "int64",
         "type": "integer"
        },
        {
         "name": "payload_byte_805",
         "rawType": "int64",
         "type": "integer"
        },
        {
         "name": "payload_byte_806",
         "rawType": "int64",
         "type": "integer"
        },
        {
         "name": "payload_byte_807",
         "rawType": "int64",
         "type": "integer"
        },
        {
         "name": "payload_byte_808",
         "rawType": "int64",
         "type": "integer"
        },
        {
         "name": "payload_byte_809",
         "rawType": "int64",
         "type": "integer"
        },
        {
         "name": "payload_byte_810",
         "rawType": "int64",
         "type": "integer"
        },
        {
         "name": "payload_byte_811",
         "rawType": "int64",
         "type": "integer"
        },
        {
         "name": "payload_byte_812",
         "rawType": "int64",
         "type": "integer"
        },
        {
         "name": "payload_byte_813",
         "rawType": "int64",
         "type": "integer"
        },
        {
         "name": "payload_byte_814",
         "rawType": "int64",
         "type": "integer"
        },
        {
         "name": "payload_byte_815",
         "rawType": "int64",
         "type": "integer"
        },
        {
         "name": "payload_byte_816",
         "rawType": "int64",
         "type": "integer"
        },
        {
         "name": "payload_byte_817",
         "rawType": "int64",
         "type": "integer"
        },
        {
         "name": "payload_byte_818",
         "rawType": "int64",
         "type": "integer"
        },
        {
         "name": "payload_byte_819",
         "rawType": "int64",
         "type": "integer"
        },
        {
         "name": "payload_byte_820",
         "rawType": "int64",
         "type": "integer"
        },
        {
         "name": "payload_byte_821",
         "rawType": "int64",
         "type": "integer"
        },
        {
         "name": "payload_byte_822",
         "rawType": "int64",
         "type": "integer"
        },
        {
         "name": "payload_byte_823",
         "rawType": "int64",
         "type": "integer"
        },
        {
         "name": "payload_byte_824",
         "rawType": "int64",
         "type": "integer"
        },
        {
         "name": "payload_byte_825",
         "rawType": "int64",
         "type": "integer"
        },
        {
         "name": "payload_byte_826",
         "rawType": "int64",
         "type": "integer"
        },
        {
         "name": "payload_byte_827",
         "rawType": "int64",
         "type": "integer"
        },
        {
         "name": "payload_byte_828",
         "rawType": "int64",
         "type": "integer"
        },
        {
         "name": "payload_byte_829",
         "rawType": "int64",
         "type": "integer"
        },
        {
         "name": "payload_byte_830",
         "rawType": "int64",
         "type": "integer"
        },
        {
         "name": "payload_byte_831",
         "rawType": "int64",
         "type": "integer"
        },
        {
         "name": "payload_byte_832",
         "rawType": "int64",
         "type": "integer"
        },
        {
         "name": "payload_byte_833",
         "rawType": "int64",
         "type": "integer"
        },
        {
         "name": "payload_byte_834",
         "rawType": "int64",
         "type": "integer"
        },
        {
         "name": "payload_byte_835",
         "rawType": "int64",
         "type": "integer"
        },
        {
         "name": "payload_byte_836",
         "rawType": "int64",
         "type": "integer"
        },
        {
         "name": "payload_byte_837",
         "rawType": "int64",
         "type": "integer"
        },
        {
         "name": "payload_byte_838",
         "rawType": "int64",
         "type": "integer"
        },
        {
         "name": "payload_byte_839",
         "rawType": "int64",
         "type": "integer"
        },
        {
         "name": "payload_byte_840",
         "rawType": "int64",
         "type": "integer"
        },
        {
         "name": "payload_byte_841",
         "rawType": "int64",
         "type": "integer"
        },
        {
         "name": "payload_byte_842",
         "rawType": "int64",
         "type": "integer"
        },
        {
         "name": "payload_byte_843",
         "rawType": "int64",
         "type": "integer"
        },
        {
         "name": "payload_byte_844",
         "rawType": "int64",
         "type": "integer"
        },
        {
         "name": "payload_byte_845",
         "rawType": "int64",
         "type": "integer"
        },
        {
         "name": "payload_byte_846",
         "rawType": "int64",
         "type": "integer"
        },
        {
         "name": "payload_byte_847",
         "rawType": "int64",
         "type": "integer"
        },
        {
         "name": "payload_byte_848",
         "rawType": "int64",
         "type": "integer"
        },
        {
         "name": "payload_byte_849",
         "rawType": "int64",
         "type": "integer"
        },
        {
         "name": "payload_byte_850",
         "rawType": "int64",
         "type": "integer"
        },
        {
         "name": "payload_byte_851",
         "rawType": "int64",
         "type": "integer"
        },
        {
         "name": "payload_byte_852",
         "rawType": "int64",
         "type": "integer"
        },
        {
         "name": "payload_byte_853",
         "rawType": "int64",
         "type": "integer"
        },
        {
         "name": "payload_byte_854",
         "rawType": "int64",
         "type": "integer"
        },
        {
         "name": "payload_byte_855",
         "rawType": "int64",
         "type": "integer"
        },
        {
         "name": "payload_byte_856",
         "rawType": "int64",
         "type": "integer"
        },
        {
         "name": "payload_byte_857",
         "rawType": "int64",
         "type": "integer"
        },
        {
         "name": "payload_byte_858",
         "rawType": "int64",
         "type": "integer"
        },
        {
         "name": "payload_byte_859",
         "rawType": "int64",
         "type": "integer"
        },
        {
         "name": "payload_byte_860",
         "rawType": "int64",
         "type": "integer"
        },
        {
         "name": "payload_byte_861",
         "rawType": "int64",
         "type": "integer"
        },
        {
         "name": "payload_byte_862",
         "rawType": "int64",
         "type": "integer"
        },
        {
         "name": "payload_byte_863",
         "rawType": "int64",
         "type": "integer"
        },
        {
         "name": "payload_byte_864",
         "rawType": "int64",
         "type": "integer"
        },
        {
         "name": "payload_byte_865",
         "rawType": "int64",
         "type": "integer"
        },
        {
         "name": "payload_byte_866",
         "rawType": "int64",
         "type": "integer"
        },
        {
         "name": "payload_byte_867",
         "rawType": "int64",
         "type": "integer"
        },
        {
         "name": "payload_byte_868",
         "rawType": "int64",
         "type": "integer"
        },
        {
         "name": "payload_byte_869",
         "rawType": "int64",
         "type": "integer"
        },
        {
         "name": "payload_byte_870",
         "rawType": "int64",
         "type": "integer"
        },
        {
         "name": "payload_byte_871",
         "rawType": "int64",
         "type": "integer"
        },
        {
         "name": "payload_byte_872",
         "rawType": "int64",
         "type": "integer"
        },
        {
         "name": "payload_byte_873",
         "rawType": "int64",
         "type": "integer"
        },
        {
         "name": "payload_byte_874",
         "rawType": "int64",
         "type": "integer"
        },
        {
         "name": "payload_byte_875",
         "rawType": "int64",
         "type": "integer"
        },
        {
         "name": "payload_byte_876",
         "rawType": "int64",
         "type": "integer"
        },
        {
         "name": "payload_byte_877",
         "rawType": "int64",
         "type": "integer"
        },
        {
         "name": "payload_byte_878",
         "rawType": "int64",
         "type": "integer"
        },
        {
         "name": "payload_byte_879",
         "rawType": "int64",
         "type": "integer"
        },
        {
         "name": "payload_byte_880",
         "rawType": "int64",
         "type": "integer"
        },
        {
         "name": "payload_byte_881",
         "rawType": "int64",
         "type": "integer"
        },
        {
         "name": "payload_byte_882",
         "rawType": "int64",
         "type": "integer"
        },
        {
         "name": "payload_byte_883",
         "rawType": "int64",
         "type": "integer"
        },
        {
         "name": "payload_byte_884",
         "rawType": "int64",
         "type": "integer"
        },
        {
         "name": "payload_byte_885",
         "rawType": "int64",
         "type": "integer"
        },
        {
         "name": "payload_byte_886",
         "rawType": "int64",
         "type": "integer"
        },
        {
         "name": "payload_byte_887",
         "rawType": "int64",
         "type": "integer"
        },
        {
         "name": "payload_byte_888",
         "rawType": "int64",
         "type": "integer"
        },
        {
         "name": "payload_byte_889",
         "rawType": "int64",
         "type": "integer"
        },
        {
         "name": "payload_byte_890",
         "rawType": "int64",
         "type": "integer"
        },
        {
         "name": "payload_byte_891",
         "rawType": "int64",
         "type": "integer"
        },
        {
         "name": "payload_byte_892",
         "rawType": "int64",
         "type": "integer"
        },
        {
         "name": "payload_byte_893",
         "rawType": "int64",
         "type": "integer"
        },
        {
         "name": "payload_byte_894",
         "rawType": "int64",
         "type": "integer"
        },
        {
         "name": "payload_byte_895",
         "rawType": "int64",
         "type": "integer"
        },
        {
         "name": "payload_byte_896",
         "rawType": "int64",
         "type": "integer"
        },
        {
         "name": "payload_byte_897",
         "rawType": "int64",
         "type": "integer"
        },
        {
         "name": "payload_byte_898",
         "rawType": "int64",
         "type": "integer"
        },
        {
         "name": "payload_byte_899",
         "rawType": "int64",
         "type": "integer"
        },
        {
         "name": "payload_byte_900",
         "rawType": "int64",
         "type": "integer"
        },
        {
         "name": "payload_byte_901",
         "rawType": "int64",
         "type": "integer"
        },
        {
         "name": "payload_byte_902",
         "rawType": "int64",
         "type": "integer"
        },
        {
         "name": "payload_byte_903",
         "rawType": "int64",
         "type": "integer"
        },
        {
         "name": "payload_byte_904",
         "rawType": "int64",
         "type": "integer"
        },
        {
         "name": "payload_byte_905",
         "rawType": "int64",
         "type": "integer"
        },
        {
         "name": "payload_byte_906",
         "rawType": "int64",
         "type": "integer"
        },
        {
         "name": "payload_byte_907",
         "rawType": "int64",
         "type": "integer"
        },
        {
         "name": "payload_byte_908",
         "rawType": "int64",
         "type": "integer"
        },
        {
         "name": "payload_byte_909",
         "rawType": "int64",
         "type": "integer"
        },
        {
         "name": "payload_byte_910",
         "rawType": "int64",
         "type": "integer"
        },
        {
         "name": "payload_byte_911",
         "rawType": "int64",
         "type": "integer"
        },
        {
         "name": "payload_byte_912",
         "rawType": "int64",
         "type": "integer"
        },
        {
         "name": "payload_byte_913",
         "rawType": "int64",
         "type": "integer"
        },
        {
         "name": "payload_byte_914",
         "rawType": "int64",
         "type": "integer"
        },
        {
         "name": "payload_byte_915",
         "rawType": "int64",
         "type": "integer"
        },
        {
         "name": "payload_byte_916",
         "rawType": "int64",
         "type": "integer"
        },
        {
         "name": "payload_byte_917",
         "rawType": "int64",
         "type": "integer"
        },
        {
         "name": "payload_byte_918",
         "rawType": "int64",
         "type": "integer"
        },
        {
         "name": "payload_byte_919",
         "rawType": "int64",
         "type": "integer"
        },
        {
         "name": "payload_byte_920",
         "rawType": "int64",
         "type": "integer"
        },
        {
         "name": "payload_byte_921",
         "rawType": "int64",
         "type": "integer"
        },
        {
         "name": "payload_byte_922",
         "rawType": "int64",
         "type": "integer"
        },
        {
         "name": "payload_byte_923",
         "rawType": "int64",
         "type": "integer"
        },
        {
         "name": "payload_byte_924",
         "rawType": "int64",
         "type": "integer"
        },
        {
         "name": "payload_byte_925",
         "rawType": "int64",
         "type": "integer"
        },
        {
         "name": "payload_byte_926",
         "rawType": "int64",
         "type": "integer"
        },
        {
         "name": "payload_byte_927",
         "rawType": "int64",
         "type": "integer"
        },
        {
         "name": "payload_byte_928",
         "rawType": "int64",
         "type": "integer"
        },
        {
         "name": "payload_byte_929",
         "rawType": "int64",
         "type": "integer"
        },
        {
         "name": "payload_byte_930",
         "rawType": "int64",
         "type": "integer"
        },
        {
         "name": "payload_byte_931",
         "rawType": "int64",
         "type": "integer"
        },
        {
         "name": "payload_byte_932",
         "rawType": "int64",
         "type": "integer"
        },
        {
         "name": "payload_byte_933",
         "rawType": "int64",
         "type": "integer"
        },
        {
         "name": "payload_byte_934",
         "rawType": "int64",
         "type": "integer"
        },
        {
         "name": "payload_byte_935",
         "rawType": "int64",
         "type": "integer"
        },
        {
         "name": "payload_byte_936",
         "rawType": "int64",
         "type": "integer"
        },
        {
         "name": "payload_byte_937",
         "rawType": "int64",
         "type": "integer"
        },
        {
         "name": "payload_byte_938",
         "rawType": "int64",
         "type": "integer"
        },
        {
         "name": "payload_byte_939",
         "rawType": "int64",
         "type": "integer"
        },
        {
         "name": "payload_byte_940",
         "rawType": "int64",
         "type": "integer"
        },
        {
         "name": "payload_byte_941",
         "rawType": "int64",
         "type": "integer"
        },
        {
         "name": "payload_byte_942",
         "rawType": "int64",
         "type": "integer"
        },
        {
         "name": "payload_byte_943",
         "rawType": "int64",
         "type": "integer"
        },
        {
         "name": "payload_byte_944",
         "rawType": "int64",
         "type": "integer"
        },
        {
         "name": "payload_byte_945",
         "rawType": "int64",
         "type": "integer"
        },
        {
         "name": "payload_byte_946",
         "rawType": "int64",
         "type": "integer"
        },
        {
         "name": "payload_byte_947",
         "rawType": "int64",
         "type": "integer"
        },
        {
         "name": "payload_byte_948",
         "rawType": "int64",
         "type": "integer"
        },
        {
         "name": "payload_byte_949",
         "rawType": "int64",
         "type": "integer"
        },
        {
         "name": "payload_byte_950",
         "rawType": "int64",
         "type": "integer"
        },
        {
         "name": "payload_byte_951",
         "rawType": "int64",
         "type": "integer"
        },
        {
         "name": "payload_byte_952",
         "rawType": "int64",
         "type": "integer"
        },
        {
         "name": "payload_byte_953",
         "rawType": "int64",
         "type": "integer"
        },
        {
         "name": "payload_byte_954",
         "rawType": "int64",
         "type": "integer"
        },
        {
         "name": "payload_byte_955",
         "rawType": "int64",
         "type": "integer"
        },
        {
         "name": "payload_byte_956",
         "rawType": "int64",
         "type": "integer"
        },
        {
         "name": "payload_byte_957",
         "rawType": "int64",
         "type": "integer"
        },
        {
         "name": "payload_byte_958",
         "rawType": "int64",
         "type": "integer"
        },
        {
         "name": "payload_byte_959",
         "rawType": "int64",
         "type": "integer"
        },
        {
         "name": "payload_byte_960",
         "rawType": "int64",
         "type": "integer"
        },
        {
         "name": "payload_byte_961",
         "rawType": "int64",
         "type": "integer"
        },
        {
         "name": "payload_byte_962",
         "rawType": "int64",
         "type": "integer"
        },
        {
         "name": "payload_byte_963",
         "rawType": "int64",
         "type": "integer"
        },
        {
         "name": "payload_byte_964",
         "rawType": "int64",
         "type": "integer"
        },
        {
         "name": "payload_byte_965",
         "rawType": "int64",
         "type": "integer"
        },
        {
         "name": "payload_byte_966",
         "rawType": "int64",
         "type": "integer"
        },
        {
         "name": "payload_byte_967",
         "rawType": "int64",
         "type": "integer"
        },
        {
         "name": "payload_byte_968",
         "rawType": "int64",
         "type": "integer"
        },
        {
         "name": "payload_byte_969",
         "rawType": "int64",
         "type": "integer"
        },
        {
         "name": "payload_byte_970",
         "rawType": "int64",
         "type": "integer"
        },
        {
         "name": "payload_byte_971",
         "rawType": "int64",
         "type": "integer"
        },
        {
         "name": "payload_byte_972",
         "rawType": "int64",
         "type": "integer"
        },
        {
         "name": "payload_byte_973",
         "rawType": "int64",
         "type": "integer"
        },
        {
         "name": "payload_byte_974",
         "rawType": "int64",
         "type": "integer"
        },
        {
         "name": "payload_byte_975",
         "rawType": "int64",
         "type": "integer"
        },
        {
         "name": "payload_byte_976",
         "rawType": "int64",
         "type": "integer"
        },
        {
         "name": "payload_byte_977",
         "rawType": "int64",
         "type": "integer"
        },
        {
         "name": "payload_byte_978",
         "rawType": "int64",
         "type": "integer"
        },
        {
         "name": "payload_byte_979",
         "rawType": "int64",
         "type": "integer"
        },
        {
         "name": "payload_byte_980",
         "rawType": "int64",
         "type": "integer"
        },
        {
         "name": "payload_byte_981",
         "rawType": "int64",
         "type": "integer"
        },
        {
         "name": "payload_byte_982",
         "rawType": "int64",
         "type": "integer"
        },
        {
         "name": "payload_byte_983",
         "rawType": "int64",
         "type": "integer"
        },
        {
         "name": "payload_byte_984",
         "rawType": "int64",
         "type": "integer"
        },
        {
         "name": "payload_byte_985",
         "rawType": "int64",
         "type": "integer"
        },
        {
         "name": "payload_byte_986",
         "rawType": "int64",
         "type": "integer"
        },
        {
         "name": "payload_byte_987",
         "rawType": "int64",
         "type": "integer"
        },
        {
         "name": "payload_byte_988",
         "rawType": "int64",
         "type": "integer"
        },
        {
         "name": "payload_byte_989",
         "rawType": "int64",
         "type": "integer"
        },
        {
         "name": "payload_byte_990",
         "rawType": "int64",
         "type": "integer"
        },
        {
         "name": "payload_byte_991",
         "rawType": "int64",
         "type": "integer"
        },
        {
         "name": "payload_byte_992",
         "rawType": "int64",
         "type": "integer"
        },
        {
         "name": "payload_byte_993",
         "rawType": "int64",
         "type": "integer"
        },
        {
         "name": "payload_byte_994",
         "rawType": "int64",
         "type": "integer"
        },
        {
         "name": "payload_byte_995",
         "rawType": "int64",
         "type": "integer"
        },
        {
         "name": "payload_byte_996",
         "rawType": "int64",
         "type": "integer"
        },
        {
         "name": "payload_byte_997",
         "rawType": "int64",
         "type": "integer"
        },
        {
         "name": "payload_byte_998",
         "rawType": "int64",
         "type": "integer"
        },
        {
         "name": "payload_byte_999",
         "rawType": "int64",
         "type": "integer"
        },
        {
         "name": "payload_byte_1000",
         "rawType": "int64",
         "type": "integer"
        },
        {
         "name": "payload_byte_1001",
         "rawType": "int64",
         "type": "integer"
        },
        {
         "name": "payload_byte_1002",
         "rawType": "int64",
         "type": "integer"
        },
        {
         "name": "payload_byte_1003",
         "rawType": "int64",
         "type": "integer"
        },
        {
         "name": "payload_byte_1004",
         "rawType": "int64",
         "type": "integer"
        },
        {
         "name": "payload_byte_1005",
         "rawType": "int64",
         "type": "integer"
        },
        {
         "name": "payload_byte_1006",
         "rawType": "int64",
         "type": "integer"
        },
        {
         "name": "payload_byte_1007",
         "rawType": "int64",
         "type": "integer"
        },
        {
         "name": "payload_byte_1008",
         "rawType": "int64",
         "type": "integer"
        },
        {
         "name": "payload_byte_1009",
         "rawType": "int64",
         "type": "integer"
        },
        {
         "name": "payload_byte_1010",
         "rawType": "int64",
         "type": "integer"
        },
        {
         "name": "payload_byte_1011",
         "rawType": "int64",
         "type": "integer"
        },
        {
         "name": "payload_byte_1012",
         "rawType": "int64",
         "type": "integer"
        },
        {
         "name": "payload_byte_1013",
         "rawType": "int64",
         "type": "integer"
        },
        {
         "name": "payload_byte_1014",
         "rawType": "int64",
         "type": "integer"
        },
        {
         "name": "payload_byte_1015",
         "rawType": "int64",
         "type": "integer"
        },
        {
         "name": "payload_byte_1016",
         "rawType": "int64",
         "type": "integer"
        },
        {
         "name": "payload_byte_1017",
         "rawType": "int64",
         "type": "integer"
        },
        {
         "name": "payload_byte_1018",
         "rawType": "int64",
         "type": "integer"
        },
        {
         "name": "payload_byte_1019",
         "rawType": "int64",
         "type": "integer"
        },
        {
         "name": "payload_byte_1020",
         "rawType": "int64",
         "type": "integer"
        },
        {
         "name": "payload_byte_1021",
         "rawType": "int64",
         "type": "integer"
        },
        {
         "name": "payload_byte_1022",
         "rawType": "int64",
         "type": "integer"
        },
        {
         "name": "payload_byte_1023",
         "rawType": "int64",
         "type": "integer"
        },
        {
         "name": "payload_byte_1024",
         "rawType": "int64",
         "type": "integer"
        },
        {
         "name": "payload_byte_1025",
         "rawType": "int64",
         "type": "integer"
        },
        {
         "name": "payload_byte_1026",
         "rawType": "int64",
         "type": "integer"
        },
        {
         "name": "payload_byte_1027",
         "rawType": "int64",
         "type": "integer"
        },
        {
         "name": "payload_byte_1028",
         "rawType": "int64",
         "type": "integer"
        },
        {
         "name": "payload_byte_1029",
         "rawType": "int64",
         "type": "integer"
        },
        {
         "name": "payload_byte_1030",
         "rawType": "int64",
         "type": "integer"
        },
        {
         "name": "payload_byte_1031",
         "rawType": "int64",
         "type": "integer"
        },
        {
         "name": "payload_byte_1032",
         "rawType": "int64",
         "type": "integer"
        },
        {
         "name": "payload_byte_1033",
         "rawType": "int64",
         "type": "integer"
        },
        {
         "name": "payload_byte_1034",
         "rawType": "int64",
         "type": "integer"
        },
        {
         "name": "payload_byte_1035",
         "rawType": "int64",
         "type": "integer"
        },
        {
         "name": "payload_byte_1036",
         "rawType": "int64",
         "type": "integer"
        },
        {
         "name": "payload_byte_1037",
         "rawType": "int64",
         "type": "integer"
        },
        {
         "name": "payload_byte_1038",
         "rawType": "int64",
         "type": "integer"
        },
        {
         "name": "payload_byte_1039",
         "rawType": "int64",
         "type": "integer"
        },
        {
         "name": "payload_byte_1040",
         "rawType": "int64",
         "type": "integer"
        },
        {
         "name": "payload_byte_1041",
         "rawType": "int64",
         "type": "integer"
        },
        {
         "name": "payload_byte_1042",
         "rawType": "int64",
         "type": "integer"
        },
        {
         "name": "payload_byte_1043",
         "rawType": "int64",
         "type": "integer"
        },
        {
         "name": "payload_byte_1044",
         "rawType": "int64",
         "type": "integer"
        },
        {
         "name": "payload_byte_1045",
         "rawType": "int64",
         "type": "integer"
        },
        {
         "name": "payload_byte_1046",
         "rawType": "int64",
         "type": "integer"
        },
        {
         "name": "payload_byte_1047",
         "rawType": "int64",
         "type": "integer"
        },
        {
         "name": "payload_byte_1048",
         "rawType": "int64",
         "type": "integer"
        },
        {
         "name": "payload_byte_1049",
         "rawType": "int64",
         "type": "integer"
        },
        {
         "name": "payload_byte_1050",
         "rawType": "int64",
         "type": "integer"
        },
        {
         "name": "payload_byte_1051",
         "rawType": "int64",
         "type": "integer"
        },
        {
         "name": "payload_byte_1052",
         "rawType": "int64",
         "type": "integer"
        },
        {
         "name": "payload_byte_1053",
         "rawType": "int64",
         "type": "integer"
        },
        {
         "name": "payload_byte_1054",
         "rawType": "int64",
         "type": "integer"
        },
        {
         "name": "payload_byte_1055",
         "rawType": "int64",
         "type": "integer"
        },
        {
         "name": "payload_byte_1056",
         "rawType": "int64",
         "type": "integer"
        },
        {
         "name": "payload_byte_1057",
         "rawType": "int64",
         "type": "integer"
        },
        {
         "name": "payload_byte_1058",
         "rawType": "int64",
         "type": "integer"
        },
        {
         "name": "payload_byte_1059",
         "rawType": "int64",
         "type": "integer"
        },
        {
         "name": "payload_byte_1060",
         "rawType": "int64",
         "type": "integer"
        },
        {
         "name": "payload_byte_1061",
         "rawType": "int64",
         "type": "integer"
        },
        {
         "name": "payload_byte_1062",
         "rawType": "int64",
         "type": "integer"
        },
        {
         "name": "payload_byte_1063",
         "rawType": "int64",
         "type": "integer"
        },
        {
         "name": "payload_byte_1064",
         "rawType": "int64",
         "type": "integer"
        },
        {
         "name": "payload_byte_1065",
         "rawType": "int64",
         "type": "integer"
        },
        {
         "name": "payload_byte_1066",
         "rawType": "int64",
         "type": "integer"
        },
        {
         "name": "payload_byte_1067",
         "rawType": "int64",
         "type": "integer"
        },
        {
         "name": "payload_byte_1068",
         "rawType": "int64",
         "type": "integer"
        },
        {
         "name": "payload_byte_1069",
         "rawType": "int64",
         "type": "integer"
        },
        {
         "name": "payload_byte_1070",
         "rawType": "int64",
         "type": "integer"
        },
        {
         "name": "payload_byte_1071",
         "rawType": "int64",
         "type": "integer"
        },
        {
         "name": "payload_byte_1072",
         "rawType": "int64",
         "type": "integer"
        },
        {
         "name": "payload_byte_1073",
         "rawType": "int64",
         "type": "integer"
        },
        {
         "name": "payload_byte_1074",
         "rawType": "int64",
         "type": "integer"
        },
        {
         "name": "payload_byte_1075",
         "rawType": "int64",
         "type": "integer"
        },
        {
         "name": "payload_byte_1076",
         "rawType": "int64",
         "type": "integer"
        },
        {
         "name": "payload_byte_1077",
         "rawType": "int64",
         "type": "integer"
        },
        {
         "name": "payload_byte_1078",
         "rawType": "int64",
         "type": "integer"
        },
        {
         "name": "payload_byte_1079",
         "rawType": "int64",
         "type": "integer"
        },
        {
         "name": "payload_byte_1080",
         "rawType": "int64",
         "type": "integer"
        },
        {
         "name": "payload_byte_1081",
         "rawType": "int64",
         "type": "integer"
        },
        {
         "name": "payload_byte_1082",
         "rawType": "int64",
         "type": "integer"
        },
        {
         "name": "payload_byte_1083",
         "rawType": "int64",
         "type": "integer"
        },
        {
         "name": "payload_byte_1084",
         "rawType": "int64",
         "type": "integer"
        },
        {
         "name": "payload_byte_1085",
         "rawType": "int64",
         "type": "integer"
        },
        {
         "name": "payload_byte_1086",
         "rawType": "int64",
         "type": "integer"
        },
        {
         "name": "payload_byte_1087",
         "rawType": "int64",
         "type": "integer"
        },
        {
         "name": "payload_byte_1088",
         "rawType": "int64",
         "type": "integer"
        },
        {
         "name": "payload_byte_1089",
         "rawType": "int64",
         "type": "integer"
        },
        {
         "name": "payload_byte_1090",
         "rawType": "int64",
         "type": "integer"
        },
        {
         "name": "payload_byte_1091",
         "rawType": "int64",
         "type": "integer"
        },
        {
         "name": "payload_byte_1092",
         "rawType": "int64",
         "type": "integer"
        },
        {
         "name": "payload_byte_1093",
         "rawType": "int64",
         "type": "integer"
        },
        {
         "name": "payload_byte_1094",
         "rawType": "int64",
         "type": "integer"
        },
        {
         "name": "payload_byte_1095",
         "rawType": "int64",
         "type": "integer"
        },
        {
         "name": "payload_byte_1096",
         "rawType": "int64",
         "type": "integer"
        },
        {
         "name": "payload_byte_1097",
         "rawType": "int64",
         "type": "integer"
        },
        {
         "name": "payload_byte_1098",
         "rawType": "int64",
         "type": "integer"
        },
        {
         "name": "payload_byte_1099",
         "rawType": "int64",
         "type": "integer"
        },
        {
         "name": "payload_byte_1100",
         "rawType": "int64",
         "type": "integer"
        },
        {
         "name": "payload_byte_1101",
         "rawType": "int64",
         "type": "integer"
        },
        {
         "name": "payload_byte_1102",
         "rawType": "int64",
         "type": "integer"
        },
        {
         "name": "payload_byte_1103",
         "rawType": "int64",
         "type": "integer"
        },
        {
         "name": "payload_byte_1104",
         "rawType": "int64",
         "type": "integer"
        },
        {
         "name": "payload_byte_1105",
         "rawType": "int64",
         "type": "integer"
        },
        {
         "name": "payload_byte_1106",
         "rawType": "int64",
         "type": "integer"
        },
        {
         "name": "payload_byte_1107",
         "rawType": "int64",
         "type": "integer"
        },
        {
         "name": "payload_byte_1108",
         "rawType": "int64",
         "type": "integer"
        },
        {
         "name": "payload_byte_1109",
         "rawType": "int64",
         "type": "integer"
        },
        {
         "name": "payload_byte_1110",
         "rawType": "int64",
         "type": "integer"
        },
        {
         "name": "payload_byte_1111",
         "rawType": "int64",
         "type": "integer"
        },
        {
         "name": "payload_byte_1112",
         "rawType": "int64",
         "type": "integer"
        },
        {
         "name": "payload_byte_1113",
         "rawType": "int64",
         "type": "integer"
        },
        {
         "name": "payload_byte_1114",
         "rawType": "int64",
         "type": "integer"
        },
        {
         "name": "payload_byte_1115",
         "rawType": "int64",
         "type": "integer"
        },
        {
         "name": "payload_byte_1116",
         "rawType": "int64",
         "type": "integer"
        },
        {
         "name": "payload_byte_1117",
         "rawType": "int64",
         "type": "integer"
        },
        {
         "name": "payload_byte_1118",
         "rawType": "int64",
         "type": "integer"
        },
        {
         "name": "payload_byte_1119",
         "rawType": "int64",
         "type": "integer"
        },
        {
         "name": "payload_byte_1120",
         "rawType": "int64",
         "type": "integer"
        },
        {
         "name": "payload_byte_1121",
         "rawType": "int64",
         "type": "integer"
        },
        {
         "name": "payload_byte_1122",
         "rawType": "int64",
         "type": "integer"
        },
        {
         "name": "payload_byte_1123",
         "rawType": "int64",
         "type": "integer"
        },
        {
         "name": "payload_byte_1124",
         "rawType": "int64",
         "type": "integer"
        },
        {
         "name": "payload_byte_1125",
         "rawType": "int64",
         "type": "integer"
        },
        {
         "name": "payload_byte_1126",
         "rawType": "int64",
         "type": "integer"
        },
        {
         "name": "payload_byte_1127",
         "rawType": "int64",
         "type": "integer"
        },
        {
         "name": "payload_byte_1128",
         "rawType": "int64",
         "type": "integer"
        },
        {
         "name": "payload_byte_1129",
         "rawType": "int64",
         "type": "integer"
        },
        {
         "name": "payload_byte_1130",
         "rawType": "int64",
         "type": "integer"
        },
        {
         "name": "payload_byte_1131",
         "rawType": "int64",
         "type": "integer"
        },
        {
         "name": "payload_byte_1132",
         "rawType": "int64",
         "type": "integer"
        },
        {
         "name": "payload_byte_1133",
         "rawType": "int64",
         "type": "integer"
        },
        {
         "name": "payload_byte_1134",
         "rawType": "int64",
         "type": "integer"
        },
        {
         "name": "payload_byte_1135",
         "rawType": "int64",
         "type": "integer"
        },
        {
         "name": "payload_byte_1136",
         "rawType": "int64",
         "type": "integer"
        },
        {
         "name": "payload_byte_1137",
         "rawType": "int64",
         "type": "integer"
        },
        {
         "name": "payload_byte_1138",
         "rawType": "int64",
         "type": "integer"
        },
        {
         "name": "payload_byte_1139",
         "rawType": "int64",
         "type": "integer"
        },
        {
         "name": "payload_byte_1140",
         "rawType": "int64",
         "type": "integer"
        },
        {
         "name": "payload_byte_1141",
         "rawType": "int64",
         "type": "integer"
        },
        {
         "name": "payload_byte_1142",
         "rawType": "int64",
         "type": "integer"
        },
        {
         "name": "payload_byte_1143",
         "rawType": "int64",
         "type": "integer"
        },
        {
         "name": "payload_byte_1144",
         "rawType": "int64",
         "type": "integer"
        },
        {
         "name": "payload_byte_1145",
         "rawType": "int64",
         "type": "integer"
        },
        {
         "name": "payload_byte_1146",
         "rawType": "int64",
         "type": "integer"
        },
        {
         "name": "payload_byte_1147",
         "rawType": "int64",
         "type": "integer"
        },
        {
         "name": "payload_byte_1148",
         "rawType": "int64",
         "type": "integer"
        },
        {
         "name": "payload_byte_1149",
         "rawType": "int64",
         "type": "integer"
        },
        {
         "name": "payload_byte_1150",
         "rawType": "int64",
         "type": "integer"
        },
        {
         "name": "payload_byte_1151",
         "rawType": "int64",
         "type": "integer"
        },
        {
         "name": "payload_byte_1152",
         "rawType": "int64",
         "type": "integer"
        },
        {
         "name": "payload_byte_1153",
         "rawType": "int64",
         "type": "integer"
        },
        {
         "name": "payload_byte_1154",
         "rawType": "int64",
         "type": "integer"
        },
        {
         "name": "payload_byte_1155",
         "rawType": "int64",
         "type": "integer"
        },
        {
         "name": "payload_byte_1156",
         "rawType": "int64",
         "type": "integer"
        },
        {
         "name": "payload_byte_1157",
         "rawType": "int64",
         "type": "integer"
        },
        {
         "name": "payload_byte_1158",
         "rawType": "int64",
         "type": "integer"
        },
        {
         "name": "payload_byte_1159",
         "rawType": "int64",
         "type": "integer"
        },
        {
         "name": "payload_byte_1160",
         "rawType": "int64",
         "type": "integer"
        },
        {
         "name": "payload_byte_1161",
         "rawType": "int64",
         "type": "integer"
        },
        {
         "name": "payload_byte_1162",
         "rawType": "int64",
         "type": "integer"
        },
        {
         "name": "payload_byte_1163",
         "rawType": "int64",
         "type": "integer"
        },
        {
         "name": "payload_byte_1164",
         "rawType": "int64",
         "type": "integer"
        },
        {
         "name": "payload_byte_1165",
         "rawType": "int64",
         "type": "integer"
        },
        {
         "name": "payload_byte_1166",
         "rawType": "int64",
         "type": "integer"
        },
        {
         "name": "payload_byte_1167",
         "rawType": "int64",
         "type": "integer"
        },
        {
         "name": "payload_byte_1168",
         "rawType": "int64",
         "type": "integer"
        },
        {
         "name": "payload_byte_1169",
         "rawType": "int64",
         "type": "integer"
        },
        {
         "name": "payload_byte_1170",
         "rawType": "int64",
         "type": "integer"
        },
        {
         "name": "payload_byte_1171",
         "rawType": "int64",
         "type": "integer"
        },
        {
         "name": "payload_byte_1172",
         "rawType": "int64",
         "type": "integer"
        },
        {
         "name": "payload_byte_1173",
         "rawType": "int64",
         "type": "integer"
        },
        {
         "name": "payload_byte_1174",
         "rawType": "int64",
         "type": "integer"
        },
        {
         "name": "payload_byte_1175",
         "rawType": "int64",
         "type": "integer"
        },
        {
         "name": "payload_byte_1176",
         "rawType": "int64",
         "type": "integer"
        },
        {
         "name": "payload_byte_1177",
         "rawType": "int64",
         "type": "integer"
        },
        {
         "name": "payload_byte_1178",
         "rawType": "int64",
         "type": "integer"
        },
        {
         "name": "payload_byte_1179",
         "rawType": "int64",
         "type": "integer"
        },
        {
         "name": "payload_byte_1180",
         "rawType": "int64",
         "type": "integer"
        },
        {
         "name": "payload_byte_1181",
         "rawType": "int64",
         "type": "integer"
        },
        {
         "name": "payload_byte_1182",
         "rawType": "int64",
         "type": "integer"
        },
        {
         "name": "payload_byte_1183",
         "rawType": "int64",
         "type": "integer"
        },
        {
         "name": "payload_byte_1184",
         "rawType": "int64",
         "type": "integer"
        },
        {
         "name": "payload_byte_1185",
         "rawType": "int64",
         "type": "integer"
        },
        {
         "name": "payload_byte_1186",
         "rawType": "int64",
         "type": "integer"
        },
        {
         "name": "payload_byte_1187",
         "rawType": "int64",
         "type": "integer"
        },
        {
         "name": "payload_byte_1188",
         "rawType": "int64",
         "type": "integer"
        },
        {
         "name": "payload_byte_1189",
         "rawType": "int64",
         "type": "integer"
        },
        {
         "name": "payload_byte_1190",
         "rawType": "int64",
         "type": "integer"
        },
        {
         "name": "payload_byte_1191",
         "rawType": "int64",
         "type": "integer"
        },
        {
         "name": "payload_byte_1192",
         "rawType": "int64",
         "type": "integer"
        },
        {
         "name": "payload_byte_1193",
         "rawType": "int64",
         "type": "integer"
        },
        {
         "name": "payload_byte_1194",
         "rawType": "int64",
         "type": "integer"
        },
        {
         "name": "payload_byte_1195",
         "rawType": "int64",
         "type": "integer"
        },
        {
         "name": "payload_byte_1196",
         "rawType": "int64",
         "type": "integer"
        },
        {
         "name": "payload_byte_1197",
         "rawType": "int64",
         "type": "integer"
        },
        {
         "name": "payload_byte_1198",
         "rawType": "int64",
         "type": "integer"
        },
        {
         "name": "payload_byte_1199",
         "rawType": "int64",
         "type": "integer"
        },
        {
         "name": "payload_byte_1200",
         "rawType": "int64",
         "type": "integer"
        },
        {
         "name": "payload_byte_1201",
         "rawType": "int64",
         "type": "integer"
        },
        {
         "name": "payload_byte_1202",
         "rawType": "int64",
         "type": "integer"
        },
        {
         "name": "payload_byte_1203",
         "rawType": "int64",
         "type": "integer"
        },
        {
         "name": "payload_byte_1204",
         "rawType": "int64",
         "type": "integer"
        },
        {
         "name": "payload_byte_1205",
         "rawType": "int64",
         "type": "integer"
        },
        {
         "name": "payload_byte_1206",
         "rawType": "int64",
         "type": "integer"
        },
        {
         "name": "payload_byte_1207",
         "rawType": "int64",
         "type": "integer"
        },
        {
         "name": "payload_byte_1208",
         "rawType": "int64",
         "type": "integer"
        },
        {
         "name": "payload_byte_1209",
         "rawType": "int64",
         "type": "integer"
        },
        {
         "name": "payload_byte_1210",
         "rawType": "int64",
         "type": "integer"
        },
        {
         "name": "payload_byte_1211",
         "rawType": "int64",
         "type": "integer"
        },
        {
         "name": "payload_byte_1212",
         "rawType": "int64",
         "type": "integer"
        },
        {
         "name": "payload_byte_1213",
         "rawType": "int64",
         "type": "integer"
        },
        {
         "name": "payload_byte_1214",
         "rawType": "int64",
         "type": "integer"
        },
        {
         "name": "payload_byte_1215",
         "rawType": "int64",
         "type": "integer"
        },
        {
         "name": "payload_byte_1216",
         "rawType": "int64",
         "type": "integer"
        },
        {
         "name": "payload_byte_1217",
         "rawType": "int64",
         "type": "integer"
        },
        {
         "name": "payload_byte_1218",
         "rawType": "int64",
         "type": "integer"
        },
        {
         "name": "payload_byte_1219",
         "rawType": "int64",
         "type": "integer"
        },
        {
         "name": "payload_byte_1220",
         "rawType": "int64",
         "type": "integer"
        },
        {
         "name": "payload_byte_1221",
         "rawType": "int64",
         "type": "integer"
        },
        {
         "name": "payload_byte_1222",
         "rawType": "int64",
         "type": "integer"
        },
        {
         "name": "payload_byte_1223",
         "rawType": "int64",
         "type": "integer"
        },
        {
         "name": "payload_byte_1224",
         "rawType": "int64",
         "type": "integer"
        },
        {
         "name": "payload_byte_1225",
         "rawType": "int64",
         "type": "integer"
        },
        {
         "name": "payload_byte_1226",
         "rawType": "int64",
         "type": "integer"
        },
        {
         "name": "payload_byte_1227",
         "rawType": "int64",
         "type": "integer"
        },
        {
         "name": "payload_byte_1228",
         "rawType": "int64",
         "type": "integer"
        },
        {
         "name": "payload_byte_1229",
         "rawType": "int64",
         "type": "integer"
        },
        {
         "name": "payload_byte_1230",
         "rawType": "int64",
         "type": "integer"
        },
        {
         "name": "payload_byte_1231",
         "rawType": "int64",
         "type": "integer"
        },
        {
         "name": "payload_byte_1232",
         "rawType": "int64",
         "type": "integer"
        },
        {
         "name": "payload_byte_1233",
         "rawType": "int64",
         "type": "integer"
        },
        {
         "name": "payload_byte_1234",
         "rawType": "int64",
         "type": "integer"
        },
        {
         "name": "payload_byte_1235",
         "rawType": "int64",
         "type": "integer"
        },
        {
         "name": "payload_byte_1236",
         "rawType": "int64",
         "type": "integer"
        },
        {
         "name": "payload_byte_1237",
         "rawType": "int64",
         "type": "integer"
        },
        {
         "name": "payload_byte_1238",
         "rawType": "int64",
         "type": "integer"
        },
        {
         "name": "payload_byte_1239",
         "rawType": "int64",
         "type": "integer"
        },
        {
         "name": "payload_byte_1240",
         "rawType": "int64",
         "type": "integer"
        },
        {
         "name": "payload_byte_1241",
         "rawType": "int64",
         "type": "integer"
        },
        {
         "name": "payload_byte_1242",
         "rawType": "int64",
         "type": "integer"
        },
        {
         "name": "payload_byte_1243",
         "rawType": "int64",
         "type": "integer"
        },
        {
         "name": "payload_byte_1244",
         "rawType": "int64",
         "type": "integer"
        },
        {
         "name": "payload_byte_1245",
         "rawType": "int64",
         "type": "integer"
        },
        {
         "name": "payload_byte_1246",
         "rawType": "int64",
         "type": "integer"
        },
        {
         "name": "payload_byte_1247",
         "rawType": "int64",
         "type": "integer"
        },
        {
         "name": "payload_byte_1248",
         "rawType": "int64",
         "type": "integer"
        },
        {
         "name": "payload_byte_1249",
         "rawType": "int64",
         "type": "integer"
        },
        {
         "name": "payload_byte_1250",
         "rawType": "int64",
         "type": "integer"
        },
        {
         "name": "payload_byte_1251",
         "rawType": "int64",
         "type": "integer"
        },
        {
         "name": "payload_byte_1252",
         "rawType": "int64",
         "type": "integer"
        },
        {
         "name": "payload_byte_1253",
         "rawType": "int64",
         "type": "integer"
        },
        {
         "name": "payload_byte_1254",
         "rawType": "int64",
         "type": "integer"
        },
        {
         "name": "payload_byte_1255",
         "rawType": "int64",
         "type": "integer"
        },
        {
         "name": "payload_byte_1256",
         "rawType": "int64",
         "type": "integer"
        },
        {
         "name": "payload_byte_1257",
         "rawType": "int64",
         "type": "integer"
        },
        {
         "name": "payload_byte_1258",
         "rawType": "int64",
         "type": "integer"
        },
        {
         "name": "payload_byte_1259",
         "rawType": "int64",
         "type": "integer"
        },
        {
         "name": "payload_byte_1260",
         "rawType": "int64",
         "type": "integer"
        },
        {
         "name": "payload_byte_1261",
         "rawType": "int64",
         "type": "integer"
        },
        {
         "name": "payload_byte_1262",
         "rawType": "int64",
         "type": "integer"
        },
        {
         "name": "payload_byte_1263",
         "rawType": "int64",
         "type": "integer"
        },
        {
         "name": "payload_byte_1264",
         "rawType": "int64",
         "type": "integer"
        },
        {
         "name": "payload_byte_1265",
         "rawType": "int64",
         "type": "integer"
        },
        {
         "name": "payload_byte_1266",
         "rawType": "int64",
         "type": "integer"
        },
        {
         "name": "payload_byte_1267",
         "rawType": "int64",
         "type": "integer"
        },
        {
         "name": "payload_byte_1268",
         "rawType": "int64",
         "type": "integer"
        },
        {
         "name": "payload_byte_1269",
         "rawType": "int64",
         "type": "integer"
        },
        {
         "name": "payload_byte_1270",
         "rawType": "int64",
         "type": "integer"
        },
        {
         "name": "payload_byte_1271",
         "rawType": "int64",
         "type": "integer"
        },
        {
         "name": "payload_byte_1272",
         "rawType": "int64",
         "type": "integer"
        },
        {
         "name": "payload_byte_1273",
         "rawType": "int64",
         "type": "integer"
        },
        {
         "name": "payload_byte_1274",
         "rawType": "int64",
         "type": "integer"
        },
        {
         "name": "payload_byte_1275",
         "rawType": "int64",
         "type": "integer"
        },
        {
         "name": "payload_byte_1276",
         "rawType": "int64",
         "type": "integer"
        },
        {
         "name": "payload_byte_1277",
         "rawType": "int64",
         "type": "integer"
        },
        {
         "name": "payload_byte_1278",
         "rawType": "int64",
         "type": "integer"
        },
        {
         "name": "payload_byte_1279",
         "rawType": "int64",
         "type": "integer"
        },
        {
         "name": "payload_byte_1280",
         "rawType": "int64",
         "type": "integer"
        },
        {
         "name": "payload_byte_1281",
         "rawType": "int64",
         "type": "integer"
        },
        {
         "name": "payload_byte_1282",
         "rawType": "int64",
         "type": "integer"
        },
        {
         "name": "payload_byte_1283",
         "rawType": "int64",
         "type": "integer"
        },
        {
         "name": "payload_byte_1284",
         "rawType": "int64",
         "type": "integer"
        },
        {
         "name": "payload_byte_1285",
         "rawType": "int64",
         "type": "integer"
        },
        {
         "name": "payload_byte_1286",
         "rawType": "int64",
         "type": "integer"
        },
        {
         "name": "payload_byte_1287",
         "rawType": "int64",
         "type": "integer"
        },
        {
         "name": "payload_byte_1288",
         "rawType": "int64",
         "type": "integer"
        },
        {
         "name": "payload_byte_1289",
         "rawType": "int64",
         "type": "integer"
        },
        {
         "name": "payload_byte_1290",
         "rawType": "int64",
         "type": "integer"
        },
        {
         "name": "payload_byte_1291",
         "rawType": "int64",
         "type": "integer"
        },
        {
         "name": "payload_byte_1292",
         "rawType": "int64",
         "type": "integer"
        },
        {
         "name": "payload_byte_1293",
         "rawType": "int64",
         "type": "integer"
        },
        {
         "name": "payload_byte_1294",
         "rawType": "int64",
         "type": "integer"
        },
        {
         "name": "payload_byte_1295",
         "rawType": "int64",
         "type": "integer"
        },
        {
         "name": "payload_byte_1296",
         "rawType": "int64",
         "type": "integer"
        },
        {
         "name": "payload_byte_1297",
         "rawType": "int64",
         "type": "integer"
        },
        {
         "name": "payload_byte_1298",
         "rawType": "int64",
         "type": "integer"
        },
        {
         "name": "payload_byte_1299",
         "rawType": "int64",
         "type": "integer"
        },
        {
         "name": "payload_byte_1300",
         "rawType": "int64",
         "type": "integer"
        },
        {
         "name": "payload_byte_1301",
         "rawType": "int64",
         "type": "integer"
        },
        {
         "name": "payload_byte_1302",
         "rawType": "int64",
         "type": "integer"
        },
        {
         "name": "payload_byte_1303",
         "rawType": "int64",
         "type": "integer"
        },
        {
         "name": "payload_byte_1304",
         "rawType": "int64",
         "type": "integer"
        },
        {
         "name": "payload_byte_1305",
         "rawType": "int64",
         "type": "integer"
        },
        {
         "name": "payload_byte_1306",
         "rawType": "int64",
         "type": "integer"
        },
        {
         "name": "payload_byte_1307",
         "rawType": "int64",
         "type": "integer"
        },
        {
         "name": "payload_byte_1308",
         "rawType": "int64",
         "type": "integer"
        },
        {
         "name": "payload_byte_1309",
         "rawType": "int64",
         "type": "integer"
        },
        {
         "name": "payload_byte_1310",
         "rawType": "int64",
         "type": "integer"
        },
        {
         "name": "payload_byte_1311",
         "rawType": "int64",
         "type": "integer"
        },
        {
         "name": "payload_byte_1312",
         "rawType": "int64",
         "type": "integer"
        },
        {
         "name": "payload_byte_1313",
         "rawType": "int64",
         "type": "integer"
        },
        {
         "name": "payload_byte_1314",
         "rawType": "int64",
         "type": "integer"
        },
        {
         "name": "payload_byte_1315",
         "rawType": "int64",
         "type": "integer"
        },
        {
         "name": "payload_byte_1316",
         "rawType": "int64",
         "type": "integer"
        },
        {
         "name": "payload_byte_1317",
         "rawType": "int64",
         "type": "integer"
        },
        {
         "name": "payload_byte_1318",
         "rawType": "int64",
         "type": "integer"
        },
        {
         "name": "payload_byte_1319",
         "rawType": "int64",
         "type": "integer"
        },
        {
         "name": "payload_byte_1320",
         "rawType": "int64",
         "type": "integer"
        },
        {
         "name": "payload_byte_1321",
         "rawType": "int64",
         "type": "integer"
        },
        {
         "name": "payload_byte_1322",
         "rawType": "int64",
         "type": "integer"
        },
        {
         "name": "payload_byte_1323",
         "rawType": "int64",
         "type": "integer"
        },
        {
         "name": "payload_byte_1324",
         "rawType": "int64",
         "type": "integer"
        },
        {
         "name": "payload_byte_1325",
         "rawType": "int64",
         "type": "integer"
        },
        {
         "name": "payload_byte_1326",
         "rawType": "int64",
         "type": "integer"
        },
        {
         "name": "payload_byte_1327",
         "rawType": "int64",
         "type": "integer"
        },
        {
         "name": "payload_byte_1328",
         "rawType": "int64",
         "type": "integer"
        },
        {
         "name": "payload_byte_1329",
         "rawType": "int64",
         "type": "integer"
        },
        {
         "name": "payload_byte_1330",
         "rawType": "int64",
         "type": "integer"
        },
        {
         "name": "payload_byte_1331",
         "rawType": "int64",
         "type": "integer"
        },
        {
         "name": "payload_byte_1332",
         "rawType": "int64",
         "type": "integer"
        },
        {
         "name": "payload_byte_1333",
         "rawType": "int64",
         "type": "integer"
        },
        {
         "name": "payload_byte_1334",
         "rawType": "int64",
         "type": "integer"
        },
        {
         "name": "payload_byte_1335",
         "rawType": "int64",
         "type": "integer"
        },
        {
         "name": "payload_byte_1336",
         "rawType": "int64",
         "type": "integer"
        },
        {
         "name": "payload_byte_1337",
         "rawType": "int64",
         "type": "integer"
        },
        {
         "name": "payload_byte_1338",
         "rawType": "int64",
         "type": "integer"
        },
        {
         "name": "payload_byte_1339",
         "rawType": "int64",
         "type": "integer"
        },
        {
         "name": "payload_byte_1340",
         "rawType": "int64",
         "type": "integer"
        },
        {
         "name": "payload_byte_1341",
         "rawType": "int64",
         "type": "integer"
        },
        {
         "name": "payload_byte_1342",
         "rawType": "int64",
         "type": "integer"
        },
        {
         "name": "payload_byte_1343",
         "rawType": "int64",
         "type": "integer"
        },
        {
         "name": "payload_byte_1344",
         "rawType": "int64",
         "type": "integer"
        },
        {
         "name": "payload_byte_1345",
         "rawType": "int64",
         "type": "integer"
        },
        {
         "name": "payload_byte_1346",
         "rawType": "int64",
         "type": "integer"
        },
        {
         "name": "payload_byte_1347",
         "rawType": "int64",
         "type": "integer"
        },
        {
         "name": "payload_byte_1348",
         "rawType": "int64",
         "type": "integer"
        },
        {
         "name": "payload_byte_1349",
         "rawType": "int64",
         "type": "integer"
        },
        {
         "name": "payload_byte_1350",
         "rawType": "int64",
         "type": "integer"
        },
        {
         "name": "payload_byte_1351",
         "rawType": "int64",
         "type": "integer"
        },
        {
         "name": "payload_byte_1352",
         "rawType": "int64",
         "type": "integer"
        },
        {
         "name": "payload_byte_1353",
         "rawType": "int64",
         "type": "integer"
        },
        {
         "name": "payload_byte_1354",
         "rawType": "int64",
         "type": "integer"
        },
        {
         "name": "payload_byte_1355",
         "rawType": "int64",
         "type": "integer"
        },
        {
         "name": "payload_byte_1356",
         "rawType": "int64",
         "type": "integer"
        },
        {
         "name": "payload_byte_1357",
         "rawType": "int64",
         "type": "integer"
        },
        {
         "name": "payload_byte_1358",
         "rawType": "int64",
         "type": "integer"
        },
        {
         "name": "payload_byte_1359",
         "rawType": "int64",
         "type": "integer"
        },
        {
         "name": "payload_byte_1360",
         "rawType": "int64",
         "type": "integer"
        },
        {
         "name": "payload_byte_1361",
         "rawType": "int64",
         "type": "integer"
        },
        {
         "name": "payload_byte_1362",
         "rawType": "int64",
         "type": "integer"
        },
        {
         "name": "payload_byte_1363",
         "rawType": "int64",
         "type": "integer"
        },
        {
         "name": "payload_byte_1364",
         "rawType": "int64",
         "type": "integer"
        },
        {
         "name": "payload_byte_1365",
         "rawType": "int64",
         "type": "integer"
        },
        {
         "name": "payload_byte_1366",
         "rawType": "int64",
         "type": "integer"
        },
        {
         "name": "payload_byte_1367",
         "rawType": "int64",
         "type": "integer"
        },
        {
         "name": "payload_byte_1368",
         "rawType": "int64",
         "type": "integer"
        },
        {
         "name": "payload_byte_1369",
         "rawType": "int64",
         "type": "integer"
        },
        {
         "name": "payload_byte_1370",
         "rawType": "int64",
         "type": "integer"
        },
        {
         "name": "payload_byte_1371",
         "rawType": "int64",
         "type": "integer"
        },
        {
         "name": "payload_byte_1372",
         "rawType": "int64",
         "type": "integer"
        },
        {
         "name": "payload_byte_1373",
         "rawType": "int64",
         "type": "integer"
        },
        {
         "name": "payload_byte_1374",
         "rawType": "int64",
         "type": "integer"
        },
        {
         "name": "payload_byte_1375",
         "rawType": "int64",
         "type": "integer"
        },
        {
         "name": "payload_byte_1376",
         "rawType": "int64",
         "type": "integer"
        },
        {
         "name": "payload_byte_1377",
         "rawType": "int64",
         "type": "integer"
        },
        {
         "name": "payload_byte_1378",
         "rawType": "int64",
         "type": "integer"
        },
        {
         "name": "payload_byte_1379",
         "rawType": "int64",
         "type": "integer"
        },
        {
         "name": "payload_byte_1380",
         "rawType": "int64",
         "type": "integer"
        },
        {
         "name": "payload_byte_1381",
         "rawType": "int64",
         "type": "integer"
        },
        {
         "name": "payload_byte_1382",
         "rawType": "int64",
         "type": "integer"
        },
        {
         "name": "payload_byte_1383",
         "rawType": "int64",
         "type": "integer"
        },
        {
         "name": "payload_byte_1384",
         "rawType": "int64",
         "type": "integer"
        },
        {
         "name": "payload_byte_1385",
         "rawType": "int64",
         "type": "integer"
        },
        {
         "name": "payload_byte_1386",
         "rawType": "int64",
         "type": "integer"
        },
        {
         "name": "payload_byte_1387",
         "rawType": "int64",
         "type": "integer"
        },
        {
         "name": "payload_byte_1388",
         "rawType": "int64",
         "type": "integer"
        },
        {
         "name": "payload_byte_1389",
         "rawType": "int64",
         "type": "integer"
        },
        {
         "name": "payload_byte_1390",
         "rawType": "int64",
         "type": "integer"
        },
        {
         "name": "payload_byte_1391",
         "rawType": "int64",
         "type": "integer"
        },
        {
         "name": "payload_byte_1392",
         "rawType": "int64",
         "type": "integer"
        },
        {
         "name": "payload_byte_1393",
         "rawType": "int64",
         "type": "integer"
        },
        {
         "name": "payload_byte_1394",
         "rawType": "int64",
         "type": "integer"
        },
        {
         "name": "payload_byte_1395",
         "rawType": "int64",
         "type": "integer"
        },
        {
         "name": "payload_byte_1396",
         "rawType": "int64",
         "type": "integer"
        },
        {
         "name": "payload_byte_1397",
         "rawType": "int64",
         "type": "integer"
        },
        {
         "name": "payload_byte_1398",
         "rawType": "int64",
         "type": "integer"
        },
        {
         "name": "payload_byte_1399",
         "rawType": "int64",
         "type": "integer"
        },
        {
         "name": "payload_byte_1400",
         "rawType": "int64",
         "type": "integer"
        },
        {
         "name": "payload_byte_1401",
         "rawType": "int64",
         "type": "integer"
        },
        {
         "name": "payload_byte_1402",
         "rawType": "int64",
         "type": "integer"
        },
        {
         "name": "payload_byte_1403",
         "rawType": "int64",
         "type": "integer"
        },
        {
         "name": "payload_byte_1404",
         "rawType": "int64",
         "type": "integer"
        },
        {
         "name": "payload_byte_1405",
         "rawType": "int64",
         "type": "integer"
        },
        {
         "name": "payload_byte_1406",
         "rawType": "int64",
         "type": "integer"
        },
        {
         "name": "payload_byte_1407",
         "rawType": "int64",
         "type": "integer"
        },
        {
         "name": "payload_byte_1408",
         "rawType": "int64",
         "type": "integer"
        },
        {
         "name": "payload_byte_1409",
         "rawType": "int64",
         "type": "integer"
        },
        {
         "name": "payload_byte_1410",
         "rawType": "int64",
         "type": "integer"
        },
        {
         "name": "payload_byte_1411",
         "rawType": "int64",
         "type": "integer"
        },
        {
         "name": "payload_byte_1412",
         "rawType": "int64",
         "type": "integer"
        },
        {
         "name": "payload_byte_1413",
         "rawType": "int64",
         "type": "integer"
        },
        {
         "name": "payload_byte_1414",
         "rawType": "int64",
         "type": "integer"
        },
        {
         "name": "payload_byte_1415",
         "rawType": "int64",
         "type": "integer"
        },
        {
         "name": "payload_byte_1416",
         "rawType": "int64",
         "type": "integer"
        },
        {
         "name": "payload_byte_1417",
         "rawType": "int64",
         "type": "integer"
        },
        {
         "name": "payload_byte_1418",
         "rawType": "int64",
         "type": "integer"
        },
        {
         "name": "payload_byte_1419",
         "rawType": "int64",
         "type": "integer"
        },
        {
         "name": "payload_byte_1420",
         "rawType": "int64",
         "type": "integer"
        },
        {
         "name": "payload_byte_1421",
         "rawType": "int64",
         "type": "integer"
        },
        {
         "name": "payload_byte_1422",
         "rawType": "int64",
         "type": "integer"
        },
        {
         "name": "payload_byte_1423",
         "rawType": "int64",
         "type": "integer"
        },
        {
         "name": "payload_byte_1424",
         "rawType": "int64",
         "type": "integer"
        },
        {
         "name": "payload_byte_1425",
         "rawType": "int64",
         "type": "integer"
        },
        {
         "name": "payload_byte_1426",
         "rawType": "int64",
         "type": "integer"
        },
        {
         "name": "payload_byte_1427",
         "rawType": "int64",
         "type": "integer"
        },
        {
         "name": "payload_byte_1428",
         "rawType": "int64",
         "type": "integer"
        },
        {
         "name": "payload_byte_1429",
         "rawType": "int64",
         "type": "integer"
        },
        {
         "name": "payload_byte_1430",
         "rawType": "int64",
         "type": "integer"
        },
        {
         "name": "payload_byte_1431",
         "rawType": "int64",
         "type": "integer"
        },
        {
         "name": "payload_byte_1432",
         "rawType": "int64",
         "type": "integer"
        },
        {
         "name": "payload_byte_1433",
         "rawType": "int64",
         "type": "integer"
        },
        {
         "name": "payload_byte_1434",
         "rawType": "int64",
         "type": "integer"
        },
        {
         "name": "payload_byte_1435",
         "rawType": "int64",
         "type": "integer"
        },
        {
         "name": "payload_byte_1436",
         "rawType": "int64",
         "type": "integer"
        },
        {
         "name": "payload_byte_1437",
         "rawType": "int64",
         "type": "integer"
        },
        {
         "name": "payload_byte_1438",
         "rawType": "int64",
         "type": "integer"
        },
        {
         "name": "payload_byte_1439",
         "rawType": "int64",
         "type": "integer"
        },
        {
         "name": "payload_byte_1440",
         "rawType": "int64",
         "type": "integer"
        },
        {
         "name": "payload_byte_1441",
         "rawType": "int64",
         "type": "integer"
        },
        {
         "name": "payload_byte_1442",
         "rawType": "int64",
         "type": "integer"
        },
        {
         "name": "payload_byte_1443",
         "rawType": "int64",
         "type": "integer"
        },
        {
         "name": "payload_byte_1444",
         "rawType": "int64",
         "type": "integer"
        },
        {
         "name": "payload_byte_1445",
         "rawType": "int64",
         "type": "integer"
        },
        {
         "name": "payload_byte_1446",
         "rawType": "int64",
         "type": "integer"
        },
        {
         "name": "payload_byte_1447",
         "rawType": "int64",
         "type": "integer"
        },
        {
         "name": "payload_byte_1448",
         "rawType": "int64",
         "type": "integer"
        },
        {
         "name": "payload_byte_1449",
         "rawType": "int64",
         "type": "integer"
        },
        {
         "name": "payload_byte_1450",
         "rawType": "int64",
         "type": "integer"
        },
        {
         "name": "payload_byte_1451",
         "rawType": "int64",
         "type": "integer"
        },
        {
         "name": "payload_byte_1452",
         "rawType": "int64",
         "type": "integer"
        },
        {
         "name": "payload_byte_1453",
         "rawType": "int64",
         "type": "integer"
        },
        {
         "name": "payload_byte_1454",
         "rawType": "int64",
         "type": "integer"
        },
        {
         "name": "payload_byte_1455",
         "rawType": "int64",
         "type": "integer"
        },
        {
         "name": "payload_byte_1456",
         "rawType": "int64",
         "type": "integer"
        },
        {
         "name": "payload_byte_1457",
         "rawType": "int64",
         "type": "integer"
        },
        {
         "name": "payload_byte_1458",
         "rawType": "int64",
         "type": "integer"
        },
        {
         "name": "payload_byte_1459",
         "rawType": "int64",
         "type": "integer"
        },
        {
         "name": "payload_byte_1460",
         "rawType": "int64",
         "type": "integer"
        },
        {
         "name": "payload_byte_1461",
         "rawType": "int64",
         "type": "integer"
        },
        {
         "name": "payload_byte_1462",
         "rawType": "int64",
         "type": "integer"
        },
        {
         "name": "payload_byte_1463",
         "rawType": "int64",
         "type": "integer"
        },
        {
         "name": "payload_byte_1464",
         "rawType": "int64",
         "type": "integer"
        },
        {
         "name": "payload_byte_1465",
         "rawType": "int64",
         "type": "integer"
        },
        {
         "name": "payload_byte_1466",
         "rawType": "int64",
         "type": "integer"
        },
        {
         "name": "payload_byte_1467",
         "rawType": "int64",
         "type": "integer"
        },
        {
         "name": "payload_byte_1468",
         "rawType": "int64",
         "type": "integer"
        },
        {
         "name": "payload_byte_1469",
         "rawType": "int64",
         "type": "integer"
        },
        {
         "name": "payload_byte_1470",
         "rawType": "int64",
         "type": "integer"
        },
        {
         "name": "payload_byte_1471",
         "rawType": "int64",
         "type": "integer"
        },
        {
         "name": "payload_byte_1472",
         "rawType": "int64",
         "type": "integer"
        },
        {
         "name": "payload_byte_1473",
         "rawType": "int64",
         "type": "integer"
        },
        {
         "name": "payload_byte_1474",
         "rawType": "int64",
         "type": "integer"
        },
        {
         "name": "payload_byte_1475",
         "rawType": "int64",
         "type": "integer"
        },
        {
         "name": "payload_byte_1476",
         "rawType": "int64",
         "type": "integer"
        },
        {
         "name": "payload_byte_1477",
         "rawType": "int64",
         "type": "integer"
        },
        {
         "name": "payload_byte_1478",
         "rawType": "int64",
         "type": "integer"
        },
        {
         "name": "payload_byte_1479",
         "rawType": "int64",
         "type": "integer"
        },
        {
         "name": "payload_byte_1480",
         "rawType": "int64",
         "type": "integer"
        },
        {
         "name": "payload_byte_1481",
         "rawType": "int64",
         "type": "integer"
        },
        {
         "name": "payload_byte_1482",
         "rawType": "int64",
         "type": "integer"
        },
        {
         "name": "payload_byte_1483",
         "rawType": "int64",
         "type": "integer"
        },
        {
         "name": "payload_byte_1484",
         "rawType": "int64",
         "type": "integer"
        },
        {
         "name": "payload_byte_1485",
         "rawType": "int64",
         "type": "integer"
        },
        {
         "name": "payload_byte_1486",
         "rawType": "int64",
         "type": "integer"
        },
        {
         "name": "payload_byte_1487",
         "rawType": "int64",
         "type": "integer"
        },
        {
         "name": "payload_byte_1488",
         "rawType": "int64",
         "type": "integer"
        },
        {
         "name": "payload_byte_1489",
         "rawType": "int64",
         "type": "integer"
        },
        {
         "name": "payload_byte_1490",
         "rawType": "int64",
         "type": "integer"
        },
        {
         "name": "payload_byte_1491",
         "rawType": "int64",
         "type": "integer"
        },
        {
         "name": "payload_byte_1492",
         "rawType": "int64",
         "type": "integer"
        },
        {
         "name": "payload_byte_1493",
         "rawType": "int64",
         "type": "integer"
        },
        {
         "name": "payload_byte_1494",
         "rawType": "int64",
         "type": "integer"
        },
        {
         "name": "payload_byte_1495",
         "rawType": "int64",
         "type": "integer"
        },
        {
         "name": "payload_byte_1496",
         "rawType": "int64",
         "type": "integer"
        },
        {
         "name": "payload_byte_1497",
         "rawType": "int64",
         "type": "integer"
        },
        {
         "name": "payload_byte_1498",
         "rawType": "int64",
         "type": "integer"
        },
        {
         "name": "payload_byte_1499",
         "rawType": "int64",
         "type": "integer"
        },
        {
         "name": "payload_byte_1500",
         "rawType": "int64",
         "type": "integer"
        },
        {
         "name": "ttl",
         "rawType": "int64",
         "type": "integer"
        },
        {
         "name": "total_len",
         "rawType": "int64",
         "type": "integer"
        },
        {
         "name": "protocol",
         "rawType": "object",
         "type": "string"
        },
        {
         "name": "t_delta",
         "rawType": "float64",
         "type": "float"
        },
        {
         "name": "label",
         "rawType": "int64",
         "type": "integer"
        }
       ],
       "ref": "ea834c6d-649a-4e7e-bdd2-dc9866443d82",
       "rows": [
        [
         "0",
         "66",
         "80",
         "83",
         "33",
         "32",
         "55",
         "98",
         "32",
         "66",
         "80",
         "83",
         "33",
         "32",
         "55",
         "98",
         "32",
         "66",
         "80",
         "83",
         "33",
         "32",
         "55",
         "98",
         "32",
         "66",
         "80",
         "83",
         "33",
         "32",
         "55",
         "98",
         "32",
         "66",
         "80",
         "83",
         "33",
         "32",
         "55",
         "98",
         "32",
         "66",
         "80",
         "83",
         "33",
         "32",
         "55",
         "98",
         "32",
         "66",
         "80",
         "83",
         "33",
         "32",
         "55",
         "98",
         "32",
         "66",
         "80",
         "83",
         "33",
         "32",
         "55",
         "98",
         "32",
         "66",
         "80",
         "83",
         "33",
         "32",
         "55",
         "98",
         "32",
         "66",
         "80",
         "83",
         "33",
         "32",
         "55",
         "98",
         "32",
         "0",
         "0",
         "0",
         "0",
         "0",
         "0",
         "0",
         "0",
         "0",
         "0",
         "0",
         "0",
         "0",
         "0",
         "0",
         "0",
         "0",
         "0",
         "0",
         "0",
         "0",
         "0",
         "0",
         "0",
         "0",
         "0",
         "0",
         "0",
         "0",
         "0",
         "0",
         "0",
         "0",
         "0",
         "0",
         "0",
         "0",
         "0",
         "0",
         "0",
         "0",
         "0",
         "0",
         "0",
         "0",
         "0",
         "0",
         "0",
         "0",
         "0",
         "0",
         "0",
         "0",
         "0",
         "0",
         "0",
         "0",
         "0",
         "0",
         "0",
         "0",
         "0",
         "0",
         "0",
         "0",
         "0",
         "0",
         "0",
         "0",
         "0",
         "0",
         "0",
         "0",
         "0",
         "0",
         "0",
         "0",
         "0",
         "0",
         "0",
         "0",
         "0",
         "0",
         "0",
         "0",
         "0",
         "0",
         "0",
         "0",
         "0",
         "0",
         "0",
         "0",
         "0",
         "0",
         "0",
         "0",
         "0",
         "0",
         "0",
         "0",
         "0",
         "0",
         "0",
         "0",
         "0",
         "0",
         "0",
         "0",
         "0",
         "0",
         "0",
         "0",
         "0",
         "0",
         "0",
         "0",
         "0",
         "0",
         "0",
         "0",
         "0",
         "0",
         "0",
         "0",
         "0",
         "0",
         "0",
         "0",
         "0",
         "0",
         "0",
         "0",
         "0",
         "0",
         "0",
         "0",
         "0",
         "0",
         "0",
         "0",
         "0",
         "0",
         "0",
         "0",
         "0",
         "0",
         "0",
         "0",
         "0",
         "0",
         "0",
         "0",
         "0",
         "0",
         "0",
         "0",
         "0",
         "0",
         "0",
         "0",
         "0",
         "0",
         "0",
         "0",
         "0",
         "0",
         "0",
         "0",
         "0",
         "0",
         "0",
         "0",
         "0",
         "0",
         "0",
         "0",
         "0",
         "0",
         "0",
         "0",
         "0",
         "0",
         "0",
         "0",
         "0",
         "0",
         "0",
         "0",
         "0",
         "0",
         "0",
         "0",
         "0",
         "0",
         "0",
         "0",
         "0",
         "0",
         "0",
         "0",
         "0",
         "0",
         "0",
         "0",
         "0",
         "0",
         "0",
         "0",
         "0",
         "0",
         "0",
         "0",
         "0",
         "0",
         "0",
         "0",
         "0",
         "0",
         "0",
         "0",
         "0",
         "0",
         "0",
         "0",
         "0",
         "0",
         "0",
         "0",
         "0",
         "0",
         "0",
         "0",
         "0",
         "0",
         "0",
         "0",
         "0",
         "0",
         "0",
         "0",
         "0",
         "0",
         "0",
         "0",
         "0",
         "0",
         "0",
         "0",
         "0",
         "0",
         "0",
         "0",
         "0",
         "0",
         "0",
         "0",
         "0",
         "0",
         "0",
         "0",
         "0",
         "0",
         "0",
         "0",
         "0",
         "0",
         "0",
         "0",
         "0",
         "0",
         "0",
         "0",
         "0",
         "0",
         "0",
         "0",
         "0",
         "0",
         "0",
         "0",
         "0",
         "0",
         "0",
         "0",
         "0",
         "0",
         "0",
         "0",
         "0",
         "0",
         "0",
         "0",
         "0",
         "0",
         "0",
         "0",
         "0",
         "0",
         "0",
         "0",
         "0",
         "0",
         "0",
         "0",
         "0",
         "0",
         "0",
         "0",
         "0",
         "0",
         "0",
         "0",
         "0",
         "0",
         "0",
         "0",
         "0",
         "0",
         "0",
         "0",
         "0",
         "0",
         "0",
         "0",
         "0",
         "0",
         "0",
         "0",
         "0",
         "0",
         "0",
         "0",
         "0",
         "0",
         "0",
         "0",
         "0",
         "0",
         "0",
         "0",
         "0",
         "0",
         "0",
         "0",
         "0",
         "0",
         "0",
         "0",
         "0",
         "0",
         "0",
         "0",
         "0",
         "0",
         "0",
         "0",
         "0",
         "0",
         "0",
         "0",
         "0",
         "0",
         "0",
         "0",
         "0",
         "0",
         "0",
         "0",
         "0",
         "0",
         "0",
         "0",
         "0",
         "0",
         "0",
         "0",
         "0",
         "0",
         "0",
         "0",
         "0",
         "0",
         "0",
         "0",
         "0",
         "0",
         "0",
         "0",
         "0",
         "0",
         "0",
         "0",
         "0",
         "0",
         "0",
         "0",
         "0",
         "0",
         "0",
         "0",
         "0",
         "0",
         "0",
         "0",
         "0",
         "0",
         "0",
         "0",
         "0",
         "0",
         "0",
         "0",
         "0",
         "0",
         "0",
         "0",
         "0",
         "0",
         "0",
         "0",
         "0",
         "0",
         "0",
         "0",
         "0",
         "0",
         "0",
         "0",
         "0",
         "0",
         "0",
         "0",
         "0",
         "0",
         "0",
         "0",
         "0",
         "0",
         "0",
         "0",
         "0",
         "0",
         "0",
         "0",
         "0",
         "0",
         "0",
         "0",
         "0",
         "0",
         "0",
         "0",
         "0",
         "0",
         "0",
         "0",
         "0",
         "0",
         "0",
         "0",
         "0",
         "0",
         "0",
         "0",
         "0",
         "0",
         "0",
         "0",
         "0",
         "0",
         "0",
         "0",
         "0",
         "0",
         "0",
         "0",
         "0",
         "0",
         "0",
         "0",
         "0",
         "0",
         "0",
         "0",
         "0",
         "0",
         "0",
         "0",
         "0",
         "0",
         "0",
         "0",
         "0",
         "0",
         "0",
         "0",
         "0",
         "0",
         "0",
         "0",
         "0",
         "0",
         "0",
         "0",
         "0",
         "0",
         "0",
         "0",
         "0",
         "0",
         "0",
         "0",
         "0",
         "0",
         "0",
         "0",
         "0",
         "0",
         "0",
         "0",
         "0",
         "0",
         "0",
         "0",
         "0",
         "0",
         "0",
         "0",
         "0",
         "0",
         "0",
         "0",
         "0",
         "0",
         "0",
         "0",
         "0",
         "0",
         "0",
         "0",
         "0",
         "0",
         "0",
         "0",
         "0",
         "0",
         "0",
         "0",
         "0",
         "0",
         "0",
         "0",
         "0",
         "0",
         "0",
         "0",
         "0",
         "0",
         "0",
         "0",
         "0",
         "0",
         "0",
         "0",
         "0",
         "0",
         "0",
         "0",
         "0",
         "0",
         "0",
         "0",
         "0",
         "0",
         "0",
         "0",
         "0",
         "0",
         "0",
         "0",
         "0",
         "0",
         "0",
         "0",
         "0",
         "0",
         "0",
         "0",
         "0",
         "0",
         "0",
         "0",
         "0",
         "0",
         "0",
         "0",
         "0",
         "0",
         "0",
         "0",
         "0",
         "0",
         "0",
         "0",
         "0",
         "0",
         "0",
         "0",
         "0",
         "0",
         "0",
         "0",
         "0",
         "0",
         "0",
         "0",
         "0",
         "0",
         "0",
         "0",
         "0",
         "0",
         "0",
         "0",
         "0",
         "0",
         "0",
         "0",
         "0",
         "0",
         "0",
         "0",
         "0",
         "0",
         "0",
         "0",
         "0",
         "0",
         "0",
         "0",
         "0",
         "0",
         "0",
         "0",
         "0",
         "0",
         "0",
         "0",
         "0",
         "0",
         "0",
         "0",
         "0",
         "0",
         "0",
         "0",
         "0",
         "0",
         "0",
         "0",
         "0",
         "0",
         "0",
         "0",
         "0",
         "0",
         "0",
         "0",
         "0",
         "0",
         "0",
         "0",
         "0",
         "0",
         "0",
         "0",
         "0",
         "0",
         "0",
         "0",
         "0",
         "0",
         "0",
         "0",
         "0",
         "0",
         "0",
         "0",
         "0",
         "0",
         "0",
         "0",
         "0",
         "0",
         "0",
         "0",
         "0",
         "0",
         "0",
         "0",
         "0",
         "0",
         "0",
         "0",
         "0",
         "0",
         "0",
         "0",
         "0",
         "0",
         "0",
         "0",
         "0",
         "0",
         "0",
         "0",
         "0",
         "0",
         "0",
         "0",
         "0",
         "0",
         "0",
         "0",
         "0",
         "0",
         "0",
         "0",
         "0",
         "0",
         "0",
         "0",
         "0",
         "0",
         "0",
         "0",
         "0",
         "0",
         "0",
         "0",
         "0",
         "0",
         "0",
         "0",
         "0",
         "0",
         "0",
         "0",
         "0",
         "0",
         "0",
         "0",
         "0",
         "0",
         "0",
         "0",
         "0",
         "0",
         "0",
         "0",
         "0",
         "0",
         "0",
         "0",
         "0",
         "0",
         "0",
         "0",
         "0",
         "0",
         "0",
         "0",
         "0",
         "0",
         "0",
         "0",
         "0",
         "0",
         "0",
         "0",
         "0",
         "0",
         "0",
         "0",
         "0",
         "0",
         "0",
         "0",
         "0",
         "0",
         "0",
         "0",
         "0",
         "0",
         "0",
         "0",
         "0",
         "0",
         "0",
         "0",
         "0",
         "0",
         "0",
         "0",
         "0",
         "0",
         "0",
         "0",
         "0",
         "0",
         "0",
         "0",
         "0",
         "0",
         "0",
         "0",
         "0",
         "0",
         "0",
         "0",
         "0",
         "0",
         "0",
         "0",
         "0",
         "0",
         "0",
         "0",
         "0",
         "0",
         "0",
         "0",
         "0",
         "0",
         "0",
         "0",
         "0",
         "0",
         "0",
         "0",
         "0",
         "0",
         "0",
         "0",
         "0",
         "0",
         "0",
         "0",
         "0",
         "0",
         "0",
         "0",
         "0",
         "0",
         "0",
         "0",
         "0",
         "0",
         "0",
         "0",
         "0",
         "0",
         "0",
         "0",
         "0",
         "0",
         "0",
         "0",
         "0",
         "0",
         "0",
         "0",
         "0",
         "0",
         "0",
         "0",
         "0",
         "0",
         "0",
         "0",
         "0",
         "0",
         "0",
         "0",
         "0",
         "0",
         "0",
         "0",
         "0",
         "0",
         "0",
         "0",
         "0",
         "0",
         "0",
         "0",
         "0",
         "0",
         "0",
         "0",
         "0",
         "0",
         "0",
         "0",
         "0",
         "0",
         "0",
         "0",
         "0",
         "0",
         "0",
         "0",
         "0",
         "0",
         "0",
         "0",
         "0",
         "0",
         "0",
         "0",
         "0",
         "0",
         "0",
         "0",
         "0",
         "0",
         "0",
         "0",
         "0",
         "0",
         "0",
         "0",
         "0",
         "0",
         "0",
         "0",
         "0",
         "0",
         "0",
         "0",
         "0",
         "0",
         "0",
         "0",
         "0",
         "0",
         "0",
         "0",
         "0",
         "0",
         "0",
         "0",
         "0",
         "0",
         "0",
         "0",
         "0",
         "0",
         "0",
         "0",
         "0",
         "0",
         "0",
         "0",
         "0",
         "0",
         "0",
         "0",
         "0",
         "0",
         "0",
         "0",
         "0",
         "0",
         "0",
         "0",
         "0",
         "0",
         "0",
         "0",
         "0",
         "0",
         "0",
         "0",
         "0",
         "0",
         "0",
         "0",
         "0",
         "0",
         "0",
         "0",
         "0",
         "0",
         "0",
         "0",
         "0",
         "0",
         "0",
         "0",
         "0",
         "0",
         "0",
         "0",
         "0",
         "0",
         "0",
         "0",
         "0",
         "0",
         "0",
         "0",
         "0",
         "0",
         "0",
         "0",
         "0",
         "0",
         "0",
         "0",
         "0",
         "0",
         "0",
         "0",
         "0",
         "0",
         "0",
         "0",
         "0",
         "0",
         "0",
         "0",
         "0",
         "0",
         "0",
         "0",
         "0",
         "0",
         "0",
         "0",
         "0",
         "0",
         "0",
         "0",
         "0",
         "0",
         "0",
         "0",
         "0",
         "0",
         "0",
         "0",
         "0",
         "0",
         "0",
         "0",
         "0",
         "0",
         "0",
         "0",
         "0",
         "0",
         "0",
         "0",
         "0",
         "0",
         "0",
         "0",
         "0",
         "0",
         "0",
         "0",
         "0",
         "0",
         "0",
         "0",
         "0",
         "0",
         "0",
         "0",
         "0",
         "0",
         "0",
         "0",
         "0",
         "0",
         "0",
         "0",
         "0",
         "0",
         "0",
         "0",
         "0",
         "0",
         "0",
         "0",
         "0",
         "0",
         "0",
         "0",
         "0",
         "0",
         "0",
         "0",
         "0",
         "0",
         "0",
         "0",
         "0",
         "0",
         "0",
         "0",
         "0",
         "0",
         "0",
         "0",
         "0",
         "0",
         "0",
         "0",
         "0",
         "0",
         "0",
         "0",
         "0",
         "0",
         "0",
         "0",
         "0",
         "0",
         "0",
         "0",
         "0",
         "0",
         "0",
         "0",
         "0",
         "0",
         "0",
         "0",
         "0",
         "0",
         "0",
         "0",
         "0",
         "0",
         "0",
         "0",
         "0",
         "0",
         "0",
         "0",
         "0",
         "0",
         "0",
         "0",
         "0",
         "0",
         "0",
         "0",
         "0",
         "0",
         "0",
         "0",
         "0",
         "0",
         "0",
         "0",
         "0",
         "0",
         "0",
         "0",
         "0",
         "0",
         "0",
         "0",
         "0",
         "0",
         "0",
         "0",
         "0",
         "0",
         "0",
         "0",
         "0",
         "0",
         "0",
         "0",
         "0",
         "0",
         "0",
         "0",
         "0",
         "0",
         "0",
         "0",
         "0",
         "0",
         "0",
         "0",
         "0",
         "0",
         "0",
         "0",
         "0",
         "0",
         "0",
         "0",
         "0",
         "0",
         "0",
         "0",
         "0",
         "0",
         "0",
         "0",
         "0",
         "0",
         "0",
         "0",
         "0",
         "0",
         "0",
         "0",
         "0",
         "0",
         "0",
         "0",
         "0",
         "0",
         "0",
         "0",
         "0",
         "0",
         "0",
         "0",
         "0",
         "0",
         "0",
         "0",
         "0",
         "0",
         "0",
         "0",
         "0",
         "0",
         "0",
         "0",
         "0",
         "0",
         "0",
         "0",
         "0",
         "0",
         "0",
         "0",
         "0",
         "0",
         "0",
         "0",
         "0",
         "0",
         "0",
         "0",
         "0",
         "0",
         "0",
         "0",
         "0",
         "0",
         "0",
         "0",
         "0",
         "0",
         "0",
         "0",
         "0",
         "0",
         "0",
         "0",
         "0",
         "0",
         "0",
         "0",
         "0",
         "0",
         "0",
         "0",
         "0",
         "0",
         "0",
         "0",
         "0",
         "0",
         "0",
         "0",
         "0",
         "0",
         "0",
         "0",
         "0",
         "0",
         "0",
         "0",
         "0",
         "0",
         "0",
         "0",
         "0",
         "0",
         "0",
         "0",
         "0",
         "0",
         "0",
         "0",
         "0",
         "0",
         "0",
         "0",
         "0",
         "0",
         "0",
         "0",
         "0",
         "0",
         "0",
         "0",
         "0",
         "0",
         "0",
         "0",
         "0",
         "0",
         "0",
         "0",
         "0",
         "0",
         "0",
         "0",
         "0",
         "0",
         "0",
         "0",
         "0",
         "0",
         "0",
         "0",
         "0",
         "0",
         "0",
         "0",
         "0",
         "0",
         "0",
         "0",
         "0",
         "0",
         "0",
         "0",
         "0",
         "0",
         "0",
         "0",
         "0",
         "0",
         "0",
         "0",
         "0",
         "0",
         "0",
         "0",
         "0",
         "0",
         "0",
         "0",
         "0",
         "0",
         "0",
         "0",
         "0",
         "0",
         "0",
         "0",
         "0",
         "0",
         "0",
         "0",
         "0",
         "0",
         "0",
         "0",
         "0",
         "0",
         "0",
         "0",
         "0",
         "0",
         "0",
         "0",
         "0",
         "0",
         "0",
         "0",
         "0",
         "0",
         "0",
         "0",
         "0",
         "0",
         "0",
         "0",
         "0",
         "0",
         "0",
         "0",
         "0",
         "0",
         "0",
         "254",
         "100",
         "others",
         "1e-05",
         "1"
        ],
        [
         "1",
         "66",
         "80",
         "83",
         "33",
         "32",
         "53",
         "52",
         "32",
         "66",
         "80",
         "83",
         "33",
         "32",
         "53",
         "52",
         "32",
         "66",
         "80",
         "83",
         "33",
         "32",
         "53",
         "52",
         "32",
         "66",
         "80",
         "83",
         "33",
         "32",
         "53",
         "52",
         "32",
         "66",
         "80",
         "83",
         "33",
         "32",
         "53",
         "52",
         "32",
         "66",
         "80",
         "83",
         "33",
         "32",
         "53",
         "52",
         "32",
         "66",
         "80",
         "83",
         "33",
         "32",
         "53",
         "52",
         "32",
         "66",
         "80",
         "83",
         "33",
         "32",
         "53",
         "52",
         "32",
         "66",
         "80",
         "83",
         "33",
         "32",
         "53",
         "52",
         "32",
         "66",
         "80",
         "83",
         "33",
         "32",
         "53",
         "52",
         "32",
         "0",
         "0",
         "0",
         "0",
         "0",
         "0",
         "0",
         "0",
         "0",
         "0",
         "0",
         "0",
         "0",
         "0",
         "0",
         "0",
         "0",
         "0",
         "0",
         "0",
         "0",
         "0",
         "0",
         "0",
         "0",
         "0",
         "0",
         "0",
         "0",
         "0",
         "0",
         "0",
         "0",
         "0",
         "0",
         "0",
         "0",
         "0",
         "0",
         "0",
         "0",
         "0",
         "0",
         "0",
         "0",
         "0",
         "0",
         "0",
         "0",
         "0",
         "0",
         "0",
         "0",
         "0",
         "0",
         "0",
         "0",
         "0",
         "0",
         "0",
         "0",
         "0",
         "0",
         "0",
         "0",
         "0",
         "0",
         "0",
         "0",
         "0",
         "0",
         "0",
         "0",
         "0",
         "0",
         "0",
         "0",
         "0",
         "0",
         "0",
         "0",
         "0",
         "0",
         "0",
         "0",
         "0",
         "0",
         "0",
         "0",
         "0",
         "0",
         "0",
         "0",
         "0",
         "0",
         "0",
         "0",
         "0",
         "0",
         "0",
         "0",
         "0",
         "0",
         "0",
         "0",
         "0",
         "0",
         "0",
         "0",
         "0",
         "0",
         "0",
         "0",
         "0",
         "0",
         "0",
         "0",
         "0",
         "0",
         "0",
         "0",
         "0",
         "0",
         "0",
         "0",
         "0",
         "0",
         "0",
         "0",
         "0",
         "0",
         "0",
         "0",
         "0",
         "0",
         "0",
         "0",
         "0",
         "0",
         "0",
         "0",
         "0",
         "0",
         "0",
         "0",
         "0",
         "0",
         "0",
         "0",
         "0",
         "0",
         "0",
         "0",
         "0",
         "0",
         "0",
         "0",
         "0",
         "0",
         "0",
         "0",
         "0",
         "0",
         "0",
         "0",
         "0",
         "0",
         "0",
         "0",
         "0",
         "0",
         "0",
         "0",
         "0",
         "0",
         "0",
         "0",
         "0",
         "0",
         "0",
         "0",
         "0",
         "0",
         "0",
         "0",
         "0",
         "0",
         "0",
         "0",
         "0",
         "0",
         "0",
         "0",
         "0",
         "0",
         "0",
         "0",
         "0",
         "0",
         "0",
         "0",
         "0",
         "0",
         "0",
         "0",
         "0",
         "0",
         "0",
         "0",
         "0",
         "0",
         "0",
         "0",
         "0",
         "0",
         "0",
         "0",
         "0",
         "0",
         "0",
         "0",
         "0",
         "0",
         "0",
         "0",
         "0",
         "0",
         "0",
         "0",
         "0",
         "0",
         "0",
         "0",
         "0",
         "0",
         "0",
         "0",
         "0",
         "0",
         "0",
         "0",
         "0",
         "0",
         "0",
         "0",
         "0",
         "0",
         "0",
         "0",
         "0",
         "0",
         "0",
         "0",
         "0",
         "0",
         "0",
         "0",
         "0",
         "0",
         "0",
         "0",
         "0",
         "0",
         "0",
         "0",
         "0",
         "0",
         "0",
         "0",
         "0",
         "0",
         "0",
         "0",
         "0",
         "0",
         "0",
         "0",
         "0",
         "0",
         "0",
         "0",
         "0",
         "0",
         "0",
         "0",
         "0",
         "0",
         "0",
         "0",
         "0",
         "0",
         "0",
         "0",
         "0",
         "0",
         "0",
         "0",
         "0",
         "0",
         "0",
         "0",
         "0",
         "0",
         "0",
         "0",
         "0",
         "0",
         "0",
         "0",
         "0",
         "0",
         "0",
         "0",
         "0",
         "0",
         "0",
         "0",
         "0",
         "0",
         "0",
         "0",
         "0",
         "0",
         "0",
         "0",
         "0",
         "0",
         "0",
         "0",
         "0",
         "0",
         "0",
         "0",
         "0",
         "0",
         "0",
         "0",
         "0",
         "0",
         "0",
         "0",
         "0",
         "0",
         "0",
         "0",
         "0",
         "0",
         "0",
         "0",
         "0",
         "0",
         "0",
         "0",
         "0",
         "0",
         "0",
         "0",
         "0",
         "0",
         "0",
         "0",
         "0",
         "0",
         "0",
         "0",
         "0",
         "0",
         "0",
         "0",
         "0",
         "0",
         "0",
         "0",
         "0",
         "0",
         "0",
         "0",
         "0",
         "0",
         "0",
         "0",
         "0",
         "0",
         "0",
         "0",
         "0",
         "0",
         "0",
         "0",
         "0",
         "0",
         "0",
         "0",
         "0",
         "0",
         "0",
         "0",
         "0",
         "0",
         "0",
         "0",
         "0",
         "0",
         "0",
         "0",
         "0",
         "0",
         "0",
         "0",
         "0",
         "0",
         "0",
         "0",
         "0",
         "0",
         "0",
         "0",
         "0",
         "0",
         "0",
         "0",
         "0",
         "0",
         "0",
         "0",
         "0",
         "0",
         "0",
         "0",
         "0",
         "0",
         "0",
         "0",
         "0",
         "0",
         "0",
         "0",
         "0",
         "0",
         "0",
         "0",
         "0",
         "0",
         "0",
         "0",
         "0",
         "0",
         "0",
         "0",
         "0",
         "0",
         "0",
         "0",
         "0",
         "0",
         "0",
         "0",
         "0",
         "0",
         "0",
         "0",
         "0",
         "0",
         "0",
         "0",
         "0",
         "0",
         "0",
         "0",
         "0",
         "0",
         "0",
         "0",
         "0",
         "0",
         "0",
         "0",
         "0",
         "0",
         "0",
         "0",
         "0",
         "0",
         "0",
         "0",
         "0",
         "0",
         "0",
         "0",
         "0",
         "0",
         "0",
         "0",
         "0",
         "0",
         "0",
         "0",
         "0",
         "0",
         "0",
         "0",
         "0",
         "0",
         "0",
         "0",
         "0",
         "0",
         "0",
         "0",
         "0",
         "0",
         "0",
         "0",
         "0",
         "0",
         "0",
         "0",
         "0",
         "0",
         "0",
         "0",
         "0",
         "0",
         "0",
         "0",
         "0",
         "0",
         "0",
         "0",
         "0",
         "0",
         "0",
         "0",
         "0",
         "0",
         "0",
         "0",
         "0",
         "0",
         "0",
         "0",
         "0",
         "0",
         "0",
         "0",
         "0",
         "0",
         "0",
         "0",
         "0",
         "0",
         "0",
         "0",
         "0",
         "0",
         "0",
         "0",
         "0",
         "0",
         "0",
         "0",
         "0",
         "0",
         "0",
         "0",
         "0",
         "0",
         "0",
         "0",
         "0",
         "0",
         "0",
         "0",
         "0",
         "0",
         "0",
         "0",
         "0",
         "0",
         "0",
         "0",
         "0",
         "0",
         "0",
         "0",
         "0",
         "0",
         "0",
         "0",
         "0",
         "0",
         "0",
         "0",
         "0",
         "0",
         "0",
         "0",
         "0",
         "0",
         "0",
         "0",
         "0",
         "0",
         "0",
         "0",
         "0",
         "0",
         "0",
         "0",
         "0",
         "0",
         "0",
         "0",
         "0",
         "0",
         "0",
         "0",
         "0",
         "0",
         "0",
         "0",
         "0",
         "0",
         "0",
         "0",
         "0",
         "0",
         "0",
         "0",
         "0",
         "0",
         "0",
         "0",
         "0",
         "0",
         "0",
         "0",
         "0",
         "0",
         "0",
         "0",
         "0",
         "0",
         "0",
         "0",
         "0",
         "0",
         "0",
         "0",
         "0",
         "0",
         "0",
         "0",
         "0",
         "0",
         "0",
         "0",
         "0",
         "0",
         "0",
         "0",
         "0",
         "0",
         "0",
         "0",
         "0",
         "0",
         "0",
         "0",
         "0",
         "0",
         "0",
         "0",
         "0",
         "0",
         "0",
         "0",
         "0",
         "0",
         "0",
         "0",
         "0",
         "0",
         "0",
         "0",
         "0",
         "0",
         "0",
         "0",
         "0",
         "0",
         "0",
         "0",
         "0",
         "0",
         "0",
         "0",
         "0",
         "0",
         "0",
         "0",
         "0",
         "0",
         "0",
         "0",
         "0",
         "0",
         "0",
         "0",
         "0",
         "0",
         "0",
         "0",
         "0",
         "0",
         "0",
         "0",
         "0",
         "0",
         "0",
         "0",
         "0",
         "0",
         "0",
         "0",
         "0",
         "0",
         "0",
         "0",
         "0",
         "0",
         "0",
         "0",
         "0",
         "0",
         "0",
         "0",
         "0",
         "0",
         "0",
         "0",
         "0",
         "0",
         "0",
         "0",
         "0",
         "0",
         "0",
         "0",
         "0",
         "0",
         "0",
         "0",
         "0",
         "0",
         "0",
         "0",
         "0",
         "0",
         "0",
         "0",
         "0",
         "0",
         "0",
         "0",
         "0",
         "0",
         "0",
         "0",
         "0",
         "0",
         "0",
         "0",
         "0",
         "0",
         "0",
         "0",
         "0",
         "0",
         "0",
         "0",
         "0",
         "0",
         "0",
         "0",
         "0",
         "0",
         "0",
         "0",
         "0",
         "0",
         "0",
         "0",
         "0",
         "0",
         "0",
         "0",
         "0",
         "0",
         "0",
         "0",
         "0",
         "0",
         "0",
         "0",
         "0",
         "0",
         "0",
         "0",
         "0",
         "0",
         "0",
         "0",
         "0",
         "0",
         "0",
         "0",
         "0",
         "0",
         "0",
         "0",
         "0",
         "0",
         "0",
         "0",
         "0",
         "0",
         "0",
         "0",
         "0",
         "0",
         "0",
         "0",
         "0",
         "0",
         "0",
         "0",
         "0",
         "0",
         "0",
         "0",
         "0",
         "0",
         "0",
         "0",
         "0",
         "0",
         "0",
         "0",
         "0",
         "0",
         "0",
         "0",
         "0",
         "0",
         "0",
         "0",
         "0",
         "0",
         "0",
         "0",
         "0",
         "0",
         "0",
         "0",
         "0",
         "0",
         "0",
         "0",
         "0",
         "0",
         "0",
         "0",
         "0",
         "0",
         "0",
         "0",
         "0",
         "0",
         "0",
         "0",
         "0",
         "0",
         "0",
         "0",
         "0",
         "0",
         "0",
         "0",
         "0",
         "0",
         "0",
         "0",
         "0",
         "0",
         "0",
         "0",
         "0",
         "0",
         "0",
         "0",
         "0",
         "0",
         "0",
         "0",
         "0",
         "0",
         "0",
         "0",
         "0",
         "0",
         "0",
         "0",
         "0",
         "0",
         "0",
         "0",
         "0",
         "0",
         "0",
         "0",
         "0",
         "0",
         "0",
         "0",
         "0",
         "0",
         "0",
         "0",
         "0",
         "0",
         "0",
         "0",
         "0",
         "0",
         "0",
         "0",
         "0",
         "0",
         "0",
         "0",
         "0",
         "0",
         "0",
         "0",
         "0",
         "0",
         "0",
         "0",
         "0",
         "0",
         "0",
         "0",
         "0",
         "0",
         "0",
         "0",
         "0",
         "0",
         "0",
         "0",
         "0",
         "0",
         "0",
         "0",
         "0",
         "0",
         "0",
         "0",
         "0",
         "0",
         "0",
         "0",
         "0",
         "0",
         "0",
         "0",
         "0",
         "0",
         "0",
         "0",
         "0",
         "0",
         "0",
         "0",
         "0",
         "0",
         "0",
         "0",
         "0",
         "0",
         "0",
         "0",
         "0",
         "0",
         "0",
         "0",
         "0",
         "0",
         "0",
         "0",
         "0",
         "0",
         "0",
         "0",
         "0",
         "0",
         "0",
         "0",
         "0",
         "0",
         "0",
         "0",
         "0",
         "0",
         "0",
         "0",
         "0",
         "0",
         "0",
         "0",
         "0",
         "0",
         "0",
         "0",
         "0",
         "0",
         "0",
         "0",
         "0",
         "0",
         "0",
         "0",
         "0",
         "0",
         "0",
         "0",
         "0",
         "0",
         "0",
         "0",
         "0",
         "0",
         "0",
         "0",
         "0",
         "0",
         "0",
         "0",
         "0",
         "0",
         "0",
         "0",
         "0",
         "0",
         "0",
         "0",
         "0",
         "0",
         "0",
         "0",
         "0",
         "0",
         "0",
         "0",
         "0",
         "0",
         "0",
         "0",
         "0",
         "0",
         "0",
         "0",
         "0",
         "0",
         "0",
         "0",
         "0",
         "0",
         "0",
         "0",
         "0",
         "0",
         "0",
         "0",
         "0",
         "0",
         "0",
         "0",
         "0",
         "0",
         "0",
         "0",
         "0",
         "0",
         "0",
         "0",
         "0",
         "0",
         "0",
         "0",
         "0",
         "0",
         "0",
         "0",
         "0",
         "0",
         "0",
         "0",
         "0",
         "0",
         "0",
         "0",
         "0",
         "0",
         "0",
         "0",
         "0",
         "0",
         "0",
         "0",
         "0",
         "0",
         "0",
         "0",
         "0",
         "0",
         "0",
         "0",
         "0",
         "0",
         "0",
         "0",
         "0",
         "0",
         "0",
         "0",
         "0",
         "0",
         "0",
         "0",
         "0",
         "0",
         "0",
         "0",
         "0",
         "0",
         "0",
         "0",
         "0",
         "0",
         "0",
         "0",
         "0",
         "0",
         "0",
         "0",
         "0",
         "0",
         "0",
         "0",
         "0",
         "0",
         "0",
         "0",
         "0",
         "0",
         "0",
         "0",
         "0",
         "0",
         "0",
         "0",
         "0",
         "0",
         "0",
         "0",
         "0",
         "0",
         "0",
         "0",
         "0",
         "0",
         "0",
         "0",
         "0",
         "0",
         "0",
         "0",
         "0",
         "0",
         "0",
         "0",
         "0",
         "0",
         "0",
         "0",
         "0",
         "0",
         "0",
         "0",
         "0",
         "0",
         "0",
         "0",
         "0",
         "0",
         "0",
         "0",
         "0",
         "0",
         "0",
         "0",
         "0",
         "0",
         "0",
         "0",
         "0",
         "0",
         "0",
         "0",
         "0",
         "0",
         "0",
         "0",
         "0",
         "0",
         "0",
         "0",
         "0",
         "0",
         "0",
         "0",
         "0",
         "0",
         "0",
         "0",
         "0",
         "0",
         "0",
         "0",
         "0",
         "0",
         "0",
         "0",
         "0",
         "0",
         "0",
         "0",
         "0",
         "0",
         "0",
         "0",
         "0",
         "0",
         "0",
         "0",
         "0",
         "0",
         "0",
         "0",
         "0",
         "0",
         "0",
         "0",
         "0",
         "0",
         "0",
         "0",
         "0",
         "0",
         "0",
         "0",
         "0",
         "0",
         "0",
         "0",
         "0",
         "0",
         "0",
         "0",
         "0",
         "0",
         "0",
         "0",
         "0",
         "0",
         "0",
         "0",
         "0",
         "0",
         "0",
         "0",
         "0",
         "0",
         "0",
         "0",
         "0",
         "0",
         "0",
         "0",
         "0",
         "0",
         "0",
         "0",
         "0",
         "0",
         "0",
         "0",
         "0",
         "0",
         "0",
         "0",
         "0",
         "0",
         "0",
         "0",
         "0",
         "0",
         "0",
         "0",
         "0",
         "0",
         "0",
         "0",
         "0",
         "0",
         "0",
         "0",
         "0",
         "0",
         "0",
         "0",
         "0",
         "0",
         "0",
         "0",
         "0",
         "0",
         "0",
         "0",
         "0",
         "0",
         "0",
         "0",
         "0",
         "0",
         "0",
         "0",
         "0",
         "0",
         "0",
         "0",
         "0",
         "0",
         "0",
         "0",
         "0",
         "0",
         "0",
         "0",
         "0",
         "0",
         "0",
         "0",
         "0",
         "0",
         "0",
         "0",
         "0",
         "0",
         "0",
         "0",
         "0",
         "0",
         "0",
         "0",
         "0",
         "0",
         "0",
         "0",
         "0",
         "0",
         "0",
         "0",
         "0",
         "0",
         "0",
         "0",
         "0",
         "0",
         "0",
         "0",
         "0",
         "0",
         "0",
         "0",
         "0",
         "0",
         "0",
         "0",
         "0",
         "0",
         "0",
         "0",
         "0",
         "0",
         "0",
         "0",
         "0",
         "0",
         "0",
         "0",
         "0",
         "0",
         "0",
         "0",
         "0",
         "0",
         "0",
         "254",
         "100",
         "others",
         "5e-06",
         "1"
        ],
        [
         "2",
         "66",
         "80",
         "83",
         "33",
         "32",
         "57",
         "32",
         "66",
         "80",
         "83",
         "33",
         "32",
         "57",
         "32",
         "66",
         "80",
         "83",
         "33",
         "32",
         "57",
         "32",
         "66",
         "80",
         "83",
         "33",
         "32",
         "57",
         "32",
         "66",
         "80",
         "83",
         "33",
         "32",
         "57",
         "32",
         "66",
         "80",
         "83",
         "33",
         "32",
         "57",
         "32",
         "66",
         "80",
         "83",
         "33",
         "32",
         "57",
         "32",
         "66",
         "80",
         "83",
         "33",
         "32",
         "57",
         "32",
         "66",
         "80",
         "83",
         "33",
         "32",
         "57",
         "32",
         "66",
         "80",
         "83",
         "33",
         "32",
         "57",
         "32",
         "0",
         "0",
         "0",
         "0",
         "0",
         "0",
         "0",
         "0",
         "0",
         "0",
         "0",
         "0",
         "0",
         "0",
         "0",
         "0",
         "0",
         "0",
         "0",
         "0",
         "0",
         "0",
         "0",
         "0",
         "0",
         "0",
         "0",
         "0",
         "0",
         "0",
         "0",
         "0",
         "0",
         "0",
         "0",
         "0",
         "0",
         "0",
         "0",
         "0",
         "0",
         "0",
         "0",
         "0",
         "0",
         "0",
         "0",
         "0",
         "0",
         "0",
         "0",
         "0",
         "0",
         "0",
         "0",
         "0",
         "0",
         "0",
         "0",
         "0",
         "0",
         "0",
         "0",
         "0",
         "0",
         "0",
         "0",
         "0",
         "0",
         "0",
         "0",
         "0",
         "0",
         "0",
         "0",
         "0",
         "0",
         "0",
         "0",
         "0",
         "0",
         "0",
         "0",
         "0",
         "0",
         "0",
         "0",
         "0",
         "0",
         "0",
         "0",
         "0",
         "0",
         "0",
         "0",
         "0",
         "0",
         "0",
         "0",
         "0",
         "0",
         "0",
         "0",
         "0",
         "0",
         "0",
         "0",
         "0",
         "0",
         "0",
         "0",
         "0",
         "0",
         "0",
         "0",
         "0",
         "0",
         "0",
         "0",
         "0",
         "0",
         "0",
         "0",
         "0",
         "0",
         "0",
         "0",
         "0",
         "0",
         "0",
         "0",
         "0",
         "0",
         "0",
         "0",
         "0",
         "0",
         "0",
         "0",
         "0",
         "0",
         "0",
         "0",
         "0",
         "0",
         "0",
         "0",
         "0",
         "0",
         "0",
         "0",
         "0",
         "0",
         "0",
         "0",
         "0",
         "0",
         "0",
         "0",
         "0",
         "0",
         "0",
         "0",
         "0",
         "0",
         "0",
         "0",
         "0",
         "0",
         "0",
         "0",
         "0",
         "0",
         "0",
         "0",
         "0",
         "0",
         "0",
         "0",
         "0",
         "0",
         "0",
         "0",
         "0",
         "0",
         "0",
         "0",
         "0",
         "0",
         "0",
         "0",
         "0",
         "0",
         "0",
         "0",
         "0",
         "0",
         "0",
         "0",
         "0",
         "0",
         "0",
         "0",
         "0",
         "0",
         "0",
         "0",
         "0",
         "0",
         "0",
         "0",
         "0",
         "0",
         "0",
         "0",
         "0",
         "0",
         "0",
         "0",
         "0",
         "0",
         "0",
         "0",
         "0",
         "0",
         "0",
         "0",
         "0",
         "0",
         "0",
         "0",
         "0",
         "0",
         "0",
         "0",
         "0",
         "0",
         "0",
         "0",
         "0",
         "0",
         "0",
         "0",
         "0",
         "0",
         "0",
         "0",
         "0",
         "0",
         "0",
         "0",
         "0",
         "0",
         "0",
         "0",
         "0",
         "0",
         "0",
         "0",
         "0",
         "0",
         "0",
         "0",
         "0",
         "0",
         "0",
         "0",
         "0",
         "0",
         "0",
         "0",
         "0",
         "0",
         "0",
         "0",
         "0",
         "0",
         "0",
         "0",
         "0",
         "0",
         "0",
         "0",
         "0",
         "0",
         "0",
         "0",
         "0",
         "0",
         "0",
         "0",
         "0",
         "0",
         "0",
         "0",
         "0",
         "0",
         "0",
         "0",
         "0",
         "0",
         "0",
         "0",
         "0",
         "0",
         "0",
         "0",
         "0",
         "0",
         "0",
         "0",
         "0",
         "0",
         "0",
         "0",
         "0",
         "0",
         "0",
         "0",
         "0",
         "0",
         "0",
         "0",
         "0",
         "0",
         "0",
         "0",
         "0",
         "0",
         "0",
         "0",
         "0",
         "0",
         "0",
         "0",
         "0",
         "0",
         "0",
         "0",
         "0",
         "0",
         "0",
         "0",
         "0",
         "0",
         "0",
         "0",
         "0",
         "0",
         "0",
         "0",
         "0",
         "0",
         "0",
         "0",
         "0",
         "0",
         "0",
         "0",
         "0",
         "0",
         "0",
         "0",
         "0",
         "0",
         "0",
         "0",
         "0",
         "0",
         "0",
         "0",
         "0",
         "0",
         "0",
         "0",
         "0",
         "0",
         "0",
         "0",
         "0",
         "0",
         "0",
         "0",
         "0",
         "0",
         "0",
         "0",
         "0",
         "0",
         "0",
         "0",
         "0",
         "0",
         "0",
         "0",
         "0",
         "0",
         "0",
         "0",
         "0",
         "0",
         "0",
         "0",
         "0",
         "0",
         "0",
         "0",
         "0",
         "0",
         "0",
         "0",
         "0",
         "0",
         "0",
         "0",
         "0",
         "0",
         "0",
         "0",
         "0",
         "0",
         "0",
         "0",
         "0",
         "0",
         "0",
         "0",
         "0",
         "0",
         "0",
         "0",
         "0",
         "0",
         "0",
         "0",
         "0",
         "0",
         "0",
         "0",
         "0",
         "0",
         "0",
         "0",
         "0",
         "0",
         "0",
         "0",
         "0",
         "0",
         "0",
         "0",
         "0",
         "0",
         "0",
         "0",
         "0",
         "0",
         "0",
         "0",
         "0",
         "0",
         "0",
         "0",
         "0",
         "0",
         "0",
         "0",
         "0",
         "0",
         "0",
         "0",
         "0",
         "0",
         "0",
         "0",
         "0",
         "0",
         "0",
         "0",
         "0",
         "0",
         "0",
         "0",
         "0",
         "0",
         "0",
         "0",
         "0",
         "0",
         "0",
         "0",
         "0",
         "0",
         "0",
         "0",
         "0",
         "0",
         "0",
         "0",
         "0",
         "0",
         "0",
         "0",
         "0",
         "0",
         "0",
         "0",
         "0",
         "0",
         "0",
         "0",
         "0",
         "0",
         "0",
         "0",
         "0",
         "0",
         "0",
         "0",
         "0",
         "0",
         "0",
         "0",
         "0",
         "0",
         "0",
         "0",
         "0",
         "0",
         "0",
         "0",
         "0",
         "0",
         "0",
         "0",
         "0",
         "0",
         "0",
         "0",
         "0",
         "0",
         "0",
         "0",
         "0",
         "0",
         "0",
         "0",
         "0",
         "0",
         "0",
         "0",
         "0",
         "0",
         "0",
         "0",
         "0",
         "0",
         "0",
         "0",
         "0",
         "0",
         "0",
         "0",
         "0",
         "0",
         "0",
         "0",
         "0",
         "0",
         "0",
         "0",
         "0",
         "0",
         "0",
         "0",
         "0",
         "0",
         "0",
         "0",
         "0",
         "0",
         "0",
         "0",
         "0",
         "0",
         "0",
         "0",
         "0",
         "0",
         "0",
         "0",
         "0",
         "0",
         "0",
         "0",
         "0",
         "0",
         "0",
         "0",
         "0",
         "0",
         "0",
         "0",
         "0",
         "0",
         "0",
         "0",
         "0",
         "0",
         "0",
         "0",
         "0",
         "0",
         "0",
         "0",
         "0",
         "0",
         "0",
         "0",
         "0",
         "0",
         "0",
         "0",
         "0",
         "0",
         "0",
         "0",
         "0",
         "0",
         "0",
         "0",
         "0",
         "0",
         "0",
         "0",
         "0",
         "0",
         "0",
         "0",
         "0",
         "0",
         "0",
         "0",
         "0",
         "0",
         "0",
         "0",
         "0",
         "0",
         "0",
         "0",
         "0",
         "0",
         "0",
         "0",
         "0",
         "0",
         "0",
         "0",
         "0",
         "0",
         "0",
         "0",
         "0",
         "0",
         "0",
         "0",
         "0",
         "0",
         "0",
         "0",
         "0",
         "0",
         "0",
         "0",
         "0",
         "0",
         "0",
         "0",
         "0",
         "0",
         "0",
         "0",
         "0",
         "0",
         "0",
         "0",
         "0",
         "0",
         "0",
         "0",
         "0",
         "0",
         "0",
         "0",
         "0",
         "0",
         "0",
         "0",
         "0",
         "0",
         "0",
         "0",
         "0",
         "0",
         "0",
         "0",
         "0",
         "0",
         "0",
         "0",
         "0",
         "0",
         "0",
         "0",
         "0",
         "0",
         "0",
         "0",
         "0",
         "0",
         "0",
         "0",
         "0",
         "0",
         "0",
         "0",
         "0",
         "0",
         "0",
         "0",
         "0",
         "0",
         "0",
         "0",
         "0",
         "0",
         "0",
         "0",
         "0",
         "0",
         "0",
         "0",
         "0",
         "0",
         "0",
         "0",
         "0",
         "0",
         "0",
         "0",
         "0",
         "0",
         "0",
         "0",
         "0",
         "0",
         "0",
         "0",
         "0",
         "0",
         "0",
         "0",
         "0",
         "0",
         "0",
         "0",
         "0",
         "0",
         "0",
         "0",
         "0",
         "0",
         "0",
         "0",
         "0",
         "0",
         "0",
         "0",
         "0",
         "0",
         "0",
         "0",
         "0",
         "0",
         "0",
         "0",
         "0",
         "0",
         "0",
         "0",
         "0",
         "0",
         "0",
         "0",
         "0",
         "0",
         "0",
         "0",
         "0",
         "0",
         "0",
         "0",
         "0",
         "0",
         "0",
         "0",
         "0",
         "0",
         "0",
         "0",
         "0",
         "0",
         "0",
         "0",
         "0",
         "0",
         "0",
         "0",
         "0",
         "0",
         "0",
         "0",
         "0",
         "0",
         "0",
         "0",
         "0",
         "0",
         "0",
         "0",
         "0",
         "0",
         "0",
         "0",
         "0",
         "0",
         "0",
         "0",
         "0",
         "0",
         "0",
         "0",
         "0",
         "0",
         "0",
         "0",
         "0",
         "0",
         "0",
         "0",
         "0",
         "0",
         "0",
         "0",
         "0",
         "0",
         "0",
         "0",
         "0",
         "0",
         "0",
         "0",
         "0",
         "0",
         "0",
         "0",
         "0",
         "0",
         "0",
         "0",
         "0",
         "0",
         "0",
         "0",
         "0",
         "0",
         "0",
         "0",
         "0",
         "0",
         "0",
         "0",
         "0",
         "0",
         "0",
         "0",
         "0",
         "0",
         "0",
         "0",
         "0",
         "0",
         "0",
         "0",
         "0",
         "0",
         "0",
         "0",
         "0",
         "0",
         "0",
         "0",
         "0",
         "0",
         "0",
         "0",
         "0",
         "0",
         "0",
         "0",
         "0",
         "0",
         "0",
         "0",
         "0",
         "0",
         "0",
         "0",
         "0",
         "0",
         "0",
         "0",
         "0",
         "0",
         "0",
         "0",
         "0",
         "0",
         "0",
         "0",
         "0",
         "0",
         "0",
         "0",
         "0",
         "0",
         "0",
         "0",
         "0",
         "0",
         "0",
         "0",
         "0",
         "0",
         "0",
         "0",
         "0",
         "0",
         "0",
         "0",
         "0",
         "0",
         "0",
         "0",
         "0",
         "0",
         "0",
         "0",
         "0",
         "0",
         "0",
         "0",
         "0",
         "0",
         "0",
         "0",
         "0",
         "0",
         "0",
         "0",
         "0",
         "0",
         "0",
         "0",
         "0",
         "0",
         "0",
         "0",
         "0",
         "0",
         "0",
         "0",
         "0",
         "0",
         "0",
         "0",
         "0",
         "0",
         "0",
         "0",
         "0",
         "0",
         "0",
         "0",
         "0",
         "0",
         "0",
         "0",
         "0",
         "0",
         "0",
         "0",
         "0",
         "0",
         "0",
         "0",
         "0",
         "0",
         "0",
         "0",
         "0",
         "0",
         "0",
         "0",
         "0",
         "0",
         "0",
         "0",
         "0",
         "0",
         "0",
         "0",
         "0",
         "0",
         "0",
         "0",
         "0",
         "0",
         "0",
         "0",
         "0",
         "0",
         "0",
         "0",
         "0",
         "0",
         "0",
         "0",
         "0",
         "0",
         "0",
         "0",
         "0",
         "0",
         "0",
         "0",
         "0",
         "0",
         "0",
         "0",
         "0",
         "0",
         "0",
         "0",
         "0",
         "0",
         "0",
         "0",
         "0",
         "0",
         "0",
         "0",
         "0",
         "0",
         "0",
         "0",
         "0",
         "0",
         "0",
         "0",
         "0",
         "0",
         "0",
         "0",
         "0",
         "0",
         "0",
         "0",
         "0",
         "0",
         "0",
         "0",
         "0",
         "0",
         "0",
         "0",
         "0",
         "0",
         "0",
         "0",
         "0",
         "0",
         "0",
         "0",
         "0",
         "0",
         "0",
         "0",
         "0",
         "0",
         "0",
         "0",
         "0",
         "0",
         "0",
         "0",
         "0",
         "0",
         "0",
         "0",
         "0",
         "0",
         "0",
         "0",
         "0",
         "0",
         "0",
         "0",
         "0",
         "0",
         "0",
         "0",
         "0",
         "0",
         "0",
         "0",
         "0",
         "0",
         "0",
         "0",
         "0",
         "0",
         "0",
         "0",
         "0",
         "0",
         "0",
         "0",
         "0",
         "0",
         "0",
         "0",
         "0",
         "0",
         "0",
         "0",
         "0",
         "0",
         "0",
         "0",
         "0",
         "0",
         "0",
         "0",
         "0",
         "0",
         "0",
         "0",
         "0",
         "0",
         "0",
         "0",
         "0",
         "0",
         "0",
         "0",
         "0",
         "0",
         "0",
         "0",
         "0",
         "0",
         "0",
         "0",
         "0",
         "0",
         "0",
         "0",
         "0",
         "0",
         "0",
         "0",
         "0",
         "0",
         "0",
         "0",
         "0",
         "0",
         "0",
         "0",
         "0",
         "0",
         "0",
         "0",
         "0",
         "0",
         "0",
         "0",
         "0",
         "0",
         "0",
         "0",
         "0",
         "0",
         "0",
         "0",
         "0",
         "0",
         "0",
         "0",
         "0",
         "0",
         "0",
         "0",
         "0",
         "0",
         "0",
         "0",
         "0",
         "0",
         "0",
         "0",
         "0",
         "0",
         "0",
         "0",
         "0",
         "0",
         "0",
         "0",
         "0",
         "0",
         "0",
         "0",
         "0",
         "0",
         "0",
         "0",
         "0",
         "0",
         "0",
         "0",
         "0",
         "0",
         "0",
         "0",
         "0",
         "0",
         "0",
         "0",
         "0",
         "0",
         "0",
         "0",
         "0",
         "0",
         "0",
         "0",
         "0",
         "0",
         "0",
         "0",
         "0",
         "0",
         "0",
         "0",
         "0",
         "0",
         "0",
         "0",
         "0",
         "0",
         "0",
         "0",
         "0",
         "0",
         "0",
         "0",
         "0",
         "0",
         "0",
         "0",
         "0",
         "0",
         "0",
         "0",
         "0",
         "0",
         "0",
         "0",
         "0",
         "0",
         "0",
         "0",
         "0",
         "0",
         "0",
         "0",
         "0",
         "0",
         "0",
         "0",
         "0",
         "0",
         "0",
         "0",
         "0",
         "0",
         "0",
         "0",
         "0",
         "0",
         "0",
         "0",
         "0",
         "0",
         "0",
         "0",
         "0",
         "0",
         "0",
         "0",
         "0",
         "0",
         "0",
         "0",
         "0",
         "0",
         "0",
         "0",
         "0",
         "0",
         "0",
         "0",
         "0",
         "0",
         "0",
         "0",
         "0",
         "0",
         "0",
         "0",
         "0",
         "0",
         "0",
         "0",
         "0",
         "0",
         "0",
         "0",
         "0",
         "0",
         "0",
         "0",
         "0",
         "0",
         "0",
         "0",
         "0",
         "0",
         "0",
         "0",
         "0",
         "0",
         "0",
         "0",
         "0",
         "0",
         "0",
         "0",
         "0",
         "0",
         "0",
         "0",
         "0",
         "0",
         "0",
         "0",
         "0",
         "0",
         "0",
         "0",
         "0",
         "0",
         "0",
         "0",
         "0",
         "0",
         "0",
         "0",
         "0",
         "0",
         "0",
         "0",
         "0",
         "0",
         "0",
         "0",
         "0",
         "0",
         "0",
         "0",
         "0",
         "0",
         "0",
         "0",
         "0",
         "0",
         "0",
         "0",
         "0",
         "0",
         "0",
         "0",
         "0",
         "0",
         "0",
         "0",
         "0",
         "0",
         "0",
         "0",
         "0",
         "0",
         "0",
         "0",
         "0",
         "0",
         "0",
         "254",
         "90",
         "others",
         "8e-06",
         "1"
        ]
       ],
       "shape": {
        "columns": 1505,
        "rows": 3
       }
      },
      "text/html": [
       "<div>\n",
       "<style scoped>\n",
       "    .dataframe tbody tr th:only-of-type {\n",
       "        vertical-align: middle;\n",
       "    }\n",
       "\n",
       "    .dataframe tbody tr th {\n",
       "        vertical-align: top;\n",
       "    }\n",
       "\n",
       "    .dataframe thead th {\n",
       "        text-align: right;\n",
       "    }\n",
       "</style>\n",
       "<table border=\"1\" class=\"dataframe\">\n",
       "  <thead>\n",
       "    <tr style=\"text-align: right;\">\n",
       "      <th></th>\n",
       "      <th>payload_byte_1</th>\n",
       "      <th>payload_byte_2</th>\n",
       "      <th>payload_byte_3</th>\n",
       "      <th>payload_byte_4</th>\n",
       "      <th>payload_byte_5</th>\n",
       "      <th>payload_byte_6</th>\n",
       "      <th>payload_byte_7</th>\n",
       "      <th>payload_byte_8</th>\n",
       "      <th>payload_byte_9</th>\n",
       "      <th>payload_byte_10</th>\n",
       "      <th>...</th>\n",
       "      <th>payload_byte_1496</th>\n",
       "      <th>payload_byte_1497</th>\n",
       "      <th>payload_byte_1498</th>\n",
       "      <th>payload_byte_1499</th>\n",
       "      <th>payload_byte_1500</th>\n",
       "      <th>ttl</th>\n",
       "      <th>total_len</th>\n",
       "      <th>protocol</th>\n",
       "      <th>t_delta</th>\n",
       "      <th>label</th>\n",
       "    </tr>\n",
       "  </thead>\n",
       "  <tbody>\n",
       "    <tr>\n",
       "      <th>0</th>\n",
       "      <td>66</td>\n",
       "      <td>80</td>\n",
       "      <td>83</td>\n",
       "      <td>33</td>\n",
       "      <td>32</td>\n",
       "      <td>55</td>\n",
       "      <td>98</td>\n",
       "      <td>32</td>\n",
       "      <td>66</td>\n",
       "      <td>80</td>\n",
       "      <td>...</td>\n",
       "      <td>0</td>\n",
       "      <td>0</td>\n",
       "      <td>0</td>\n",
       "      <td>0</td>\n",
       "      <td>0</td>\n",
       "      <td>254</td>\n",
       "      <td>100</td>\n",
       "      <td>others</td>\n",
       "      <td>0.000010</td>\n",
       "      <td>1</td>\n",
       "    </tr>\n",
       "    <tr>\n",
       "      <th>1</th>\n",
       "      <td>66</td>\n",
       "      <td>80</td>\n",
       "      <td>83</td>\n",
       "      <td>33</td>\n",
       "      <td>32</td>\n",
       "      <td>53</td>\n",
       "      <td>52</td>\n",
       "      <td>32</td>\n",
       "      <td>66</td>\n",
       "      <td>80</td>\n",
       "      <td>...</td>\n",
       "      <td>0</td>\n",
       "      <td>0</td>\n",
       "      <td>0</td>\n",
       "      <td>0</td>\n",
       "      <td>0</td>\n",
       "      <td>254</td>\n",
       "      <td>100</td>\n",
       "      <td>others</td>\n",
       "      <td>0.000005</td>\n",
       "      <td>1</td>\n",
       "    </tr>\n",
       "    <tr>\n",
       "      <th>2</th>\n",
       "      <td>66</td>\n",
       "      <td>80</td>\n",
       "      <td>83</td>\n",
       "      <td>33</td>\n",
       "      <td>32</td>\n",
       "      <td>57</td>\n",
       "      <td>32</td>\n",
       "      <td>66</td>\n",
       "      <td>80</td>\n",
       "      <td>83</td>\n",
       "      <td>...</td>\n",
       "      <td>0</td>\n",
       "      <td>0</td>\n",
       "      <td>0</td>\n",
       "      <td>0</td>\n",
       "      <td>0</td>\n",
       "      <td>254</td>\n",
       "      <td>90</td>\n",
       "      <td>others</td>\n",
       "      <td>0.000008</td>\n",
       "      <td>1</td>\n",
       "    </tr>\n",
       "  </tbody>\n",
       "</table>\n",
       "<p>3 rows × 1505 columns</p>\n",
       "</div>"
      ],
      "text/plain": [
       "   payload_byte_1  payload_byte_2  payload_byte_3  payload_byte_4  \\\n",
       "0              66              80              83              33   \n",
       "1              66              80              83              33   \n",
       "2              66              80              83              33   \n",
       "\n",
       "   payload_byte_5  payload_byte_6  payload_byte_7  payload_byte_8  \\\n",
       "0              32              55              98              32   \n",
       "1              32              53              52              32   \n",
       "2              32              57              32              66   \n",
       "\n",
       "   payload_byte_9  payload_byte_10  ...  payload_byte_1496  payload_byte_1497  \\\n",
       "0              66               80  ...                  0                  0   \n",
       "1              66               80  ...                  0                  0   \n",
       "2              80               83  ...                  0                  0   \n",
       "\n",
       "   payload_byte_1498  payload_byte_1499  payload_byte_1500  ttl  total_len  \\\n",
       "0                  0                  0                  0  254        100   \n",
       "1                  0                  0                  0  254        100   \n",
       "2                  0                  0                  0  254         90   \n",
       "\n",
       "   protocol   t_delta  label  \n",
       "0    others  0.000010      1  \n",
       "1    others  0.000005      1  \n",
       "2    others  0.000008      1  \n",
       "\n",
       "[3 rows x 1505 columns]"
      ]
     },
     "metadata": {},
     "output_type": "display_data"
    }
   ],
   "source": [
    "# ======================================================\n",
    "# Cell 5 — Data Loading & Preprocessing\n",
    "# Goals:\n",
    "#   • Map labels -> {0: BENIGN, 1: NON-BENIGN} robustly (handles string/numeric).\n",
    "#   • Preserve categorical dtypes for LightGBM’s native handling.\n",
    "#   • Stratified split for fair PR-AUC estimation (class imbalance).\n",
    "#   • Align category vocab across train/test to avoid unseen categories.\n",
    "# ======================================================\n",
    "print(\">>> Section 3: Data Loading & Preprocessing\")\n",
    "\n",
    "DATA_PATH = 'archive/Payload_data_UNSW.csv'   # keep your path for full reproducibility\n",
    "df = pd.read_csv(DATA_PATH)\n",
    "print(f\"[DATA] Loaded {DATA_PATH} with shape {df.shape}\")\n",
    "\n",
    "# 1) Identify label column in a schema-robust way\n",
    "label_candidates = ['label', 'label_str', 'attack_cat', 'class', 'target', 'y']\n",
    "lbl_col = next((c for c in label_candidates if c in df.columns), None)\n",
    "assert lbl_col is not None, f\"No label column found. First columns: {list(df.columns)[:20]}\"\n",
    "\n",
    "# 2) Map BENIGN-like tokens → 0; everything else → 1 (IDS convention)\n",
    "s = df[lbl_col]\n",
    "benign_tokens = {\"benign\",\"normal\",\"background\",\"bg\",\"clean\"}\n",
    "if pd.api.types.is_numeric_dtype(s) and set(pd.unique(s.dropna())) <= {0, 1}:\n",
    "    # Already binary numeric labels {0,1}\n",
    "    y_vec = s.astype(int).values\n",
    "else:\n",
    "    # String-ish labels; normalize and map\n",
    "    y_vec = (~s.astype('string').str.strip().str.lower().isin(benign_tokens)).astype(int).values\n",
    "\n",
    "# 3) Prepare features: object→category; bool→int8 (compact)\n",
    "df = df.copy()\n",
    "df['label'] = y_vec\n",
    "X_full = df.drop(columns=['label'])\n",
    "\n",
    "def prep_frame(df_: pd.DataFrame) -> pd.DataFrame:\n",
    "    Z = df_.copy()\n",
    "    for c in Z.columns:\n",
    "        if Z[c].dtype == bool:\n",
    "            Z[c] = Z[c].astype(np.int8)\n",
    "        elif Z[c].dtype == object:\n",
    "            Z[c] = Z[c].astype('category')\n",
    "    return Z\n",
    "\n",
    "Z = prep_frame(pd.concat([X_full, df[['label']]], axis=1))\n",
    "X = Z.drop(columns=['label'])\n",
    "y = Z['label'].astype(int).values\n",
    "\n",
    "# 4) Stratified train/test split (PR-AUC is sensitive to class balance)\n",
    "X_train, X_test, y_train, y_test = train_test_split(\n",
    "    X, y, test_size=0.25, random_state=RANDOM_STATE, stratify=y\n",
    ")\n",
    "\n",
    "# 5) Align category vocab between splits (avoid category mismatch at predict time)\n",
    "cat_cols = [c for c in X_train.columns if str(X_train[c].dtype) == 'category']\n",
    "for c in cat_cols:\n",
    "    cats = pd.Index(pd.concat([X_train[c].astype('string'), X_test[c].astype('string')]).unique())\n",
    "    X_train[c] = pd.Categorical(X_train[c].astype('string'), categories=cats)\n",
    "    X_test[c]  = pd.Categorical(X_test[c].astype('string'),  categories=cats)\n",
    "\n",
    "print(f\"[DATA] Train {X_train.shape} | Test {X_test.shape} | PosRate={y_train.mean():.4f} | #cat={len(cat_cols)}\")\n",
    "\n",
    "# Optional: peek at first rows (helpful for viva demonstration)\n",
    "display(df.head(3))\n"
   ]
  },
  {
   "cell_type": "markdown",
   "id": "1b13891a",
   "metadata": {},
   "source": [
    "## 4. Baseline: LightGBM (balanced)\n",
    "\n",
    "Strong tabular baseline; reports **AUPRC**, **F1@τ**, **τ**, **TPR/TNR** and saves a stage manifest for later comparisons.\n"
   ]
  },
  {
   "cell_type": "code",
   "execution_count": 27,
   "id": "c8de93da",
   "metadata": {},
   "outputs": [
    {
     "name": "stdout",
     "output_type": "stream",
     "text": [
      ">>> Section 4: Baseline LightGBM\n",
      "[BASELINE] AUPRC=0.9998 | F1@τ=0.9997 | τ=0.05 | TPR=1.000 | TNR=0.998\n",
      "[SAVE] Stage 'baseline' saved -> staging/baseline\n"
     ]
    }
   ],
   "source": [
    "# ======================================================\n",
    "# Cell 7 — Baseline: LightGBM (balanced)\n",
    "# Rationale:\n",
    "#   • Strong tabular baseline; handles categorical features.\n",
    "#   • class_weight='balanced' mitigates imbalance without resampling.\n",
    "# Outputs:\n",
    "#   • AUPRC on test; τ via max-F1; TPR/TNR at τ.\n",
    "#   • Baseline stage saved for later comparisons & ensembles.\n",
    "# ======================================================\n",
    "print(\">>> Section 4: Baseline LightGBM\")\n",
    "\n",
    "baseline = LGBMClassifier(\n",
    "    objective='binary',\n",
    "    n_estimators=400,               # conservative baseline; HPO will tune deeper\n",
    "    class_weight='balanced',        # weight positives more when rare\n",
    "    random_state=RANDOM_STATE,\n",
    "    n_jobs=-1,\n",
    "    verbosity=-1\n",
    ")\n",
    "\n",
    "# Pass categorical feature names to LightGBM only if we actually have them\n",
    "fit_kwargs = {'categorical_feature': cat_cols} if cat_cols else {}\n",
    "baseline.fit(X_train, y_train, **fit_kwargs)\n",
    "\n",
    "# Probability predictions are necessary for PR-AUC and thresholding\n",
    "p_base = baseline.predict_proba(X_test)[:, 1]\n",
    "ap_base = average_precision_score(y_test, p_base)\n",
    "\n",
    "# τ selection by max-F1 (simple and defensible for IDS)\n",
    "f1_base, tau_base = sweep_f1(y_test, p_base)\n",
    "tpr_b, tnr_b = tpr_tnr_at_tau(y_test, p_base, tau_base)\n",
    "\n",
    "print(f\"[BASELINE] AUPRC={ap_base:.4f} | F1@τ={f1_base:.4f} | τ={tau_base:.2f} | TPR={tpr_b:.3f} | TNR={tnr_b:.3f}\")\n",
    "\n",
    "# Persist for reproducibility\n",
    "save_stage('baseline', {\n",
    "    'timestamp': time.strftime('%Y-%m-%dT%H:%M:%SZ', time.gmtime()),\n",
    "    'stage': 'baseline',\n",
    "    'model_name': 'LightGBM_Baseline',\n",
    "    'dataset': DATA_PATH,\n",
    "    'seed': RANDOM_STATE,\n",
    "    'metrics': {\n",
    "        'AUPRC': float(ap_base),\n",
    "        'F1': float(f1_base),\n",
    "        'tau': float(tau_base),\n",
    "        'TPR': float(tpr_b),\n",
    "        'TNR': float(tnr_b)\n",
    "    }\n",
    "}, model=baseline)\n"
   ]
  },
  {
   "cell_type": "markdown",
   "id": "df295843",
   "metadata": {},
   "source": [
    "## 5. Hyperparameter Optimisation (HPO) — Overview\n",
    "\n",
    "We optimise **PR-AUC** with:\n",
    "- **5.1 Manual Grid (resumable)** — interpretable demo.\n",
    "- **5.2 Randomized Search** — broader coverage under budget.\n",
    "- **5.3 Bayesian Optimisation** — surrogate (GP) + EI, checkpoint.\n",
    "- **5.4 Enhanced BO** — ask–tell, warm start, batch EI, patience, resume.\n"
   ]
  },
  {
   "cell_type": "markdown",
   "id": "608ab680",
   "metadata": {},
   "source": [
    "### 5.1 Manual Grid (resumable)\n",
    "- interpretable demo, schema-safe resume"
   ]
  },
  {
   "cell_type": "code",
   "execution_count": 29,
   "id": "3c25bf8d",
   "metadata": {},
   "outputs": [
    {
     "name": "stdout",
     "output_type": "stream",
     "text": [
      ">>> Section 5.1: Manual Grid (ROBUST RESUME + FAST + TYPE HOTFIX)\n",
      "[GRID] Previously completed: 144 | Pending: 0\n",
      "[GRID] Refinement top-5 with folds=5\n",
      "[GRID-5f] params={'num_leaves': 63, 'max_depth': 6, 'learning_rate': 0.1, 'min_child_samples': 50, 'subsample': 1.0, 'colsample_bytree': 0.8} | CV_AP=0.9999\n",
      "[GRID-5f] params={'num_leaves': 127, 'max_depth': 6, 'learning_rate': 0.1, 'min_child_samples': 50, 'subsample': 0.8, 'colsample_bytree': 0.8} | CV_AP=0.9999\n",
      "[GRID-5f] params={'num_leaves': 127, 'max_depth': 6, 'learning_rate': 0.1, 'min_child_samples': 50, 'subsample': 1.0, 'colsample_bytree': 0.8} | CV_AP=0.9999\n",
      "[GRID-5f] params={'num_leaves': 31, 'max_depth': 8, 'learning_rate': 0.1, 'min_child_samples': 20, 'subsample': 1.0, 'colsample_bytree': 1.0} | CV_AP=0.9997\n",
      "[GRID-5f] params={'num_leaves': 31, 'max_depth': 8, 'learning_rate': 0.1, 'min_child_samples': 20, 'subsample': 0.8, 'colsample_bytree': 1.0} | CV_AP=0.9997\n",
      "[GRID] Checkpointed 5 rows (refine).\n",
      "[GRID] Best params: {'num_leaves': 127, 'max_depth': 6, 'learning_rate': 0.1, 'min_child_samples': 50, 'subsample': 1.0, 'colsample_bytree': 0.8} | best CV AP=0.9999 | phase=refine\n",
      "[50]\tvalid_0's average_precision: 0.999824\tvalid_0's binary_logloss: 0.00688757\n",
      "[100]\tvalid_0's average_precision: 0.999635\tvalid_0's binary_logloss: 0.00337166\n",
      "[150]\tvalid_0's average_precision: 0.999758\tvalid_0's binary_logloss: 0.00387089\n",
      "[GRID] Test AP=0.9998 | F1@τ=0.9998 | τ=0.75\n",
      "[SAVE] Stage 'manual_grid' saved -> staging/manual_grid\n"
     ]
    }
   ],
   "source": [
    "# ======================================================\n",
    "# Cell 9 — 5.1 Manual Grid (ROBUST RESUME + FAST + TYPE HOTFIX)\n",
    "# Fix: ensure int params (e.g., max_depth) are passed as int, not 8.0/\"8.0\".\n",
    "# ======================================================\n",
    "print(\">>> Section 5.1: Manual Grid (ROBUST RESUME + FAST + TYPE HOTFIX)\")\n",
    "\n",
    "from lightgbm import early_stopping, log_evaluation\n",
    "\n",
    "mg_dir = stage_dir('manual_grid')\n",
    "mg_csv = mg_dir / 'results.csv'\n",
    "\n",
    "# ---------- speed knobs ----------\n",
    "FAST_MAX_BIN = 128\n",
    "FAST_SUBSAMPLE_FOR_BIN = 200_000\n",
    "EARLY_STOP_ROUNDS = 100\n",
    "ESTIMATORS_BUDGET = 2000\n",
    "CV_FOLDS_COARSE = 3\n",
    "CV_FOLDS_REFINE = 5\n",
    "TOP_K_REFINE = 5\n",
    "TWO_PHASE = True\n",
    "GPU = False\n",
    "# ---------------------------------\n",
    "\n",
    "# Your grid (unchanged)\n",
    "grid = {\n",
    "    'num_leaves': [31, 63, 127],\n",
    "    'max_depth': [4, 6, 8],\n",
    "    'learning_rate': [0.05, 0.1],\n",
    "    'min_child_samples': [20, 50],\n",
    "    'subsample': [0.8, 1.0],\n",
    "    'colsample_bytree': [0.8, 1.0],\n",
    "}\n",
    "\n",
    "# --- canonical typing for keys so resume matches reliably ---\n",
    "int_keys   = {'num_leaves', 'max_depth', 'min_child_samples'}\n",
    "float_keys = {'learning_rate', 'subsample', 'colsample_bytree'}\n",
    "round_fp   = 6  # rounding for dedupe key on floats\n",
    "\n",
    "def canon_val(k, v):\n",
    "    if pd.isna(v): return np.nan\n",
    "    if k in int_keys:\n",
    "        try: return int(v)\n",
    "        except Exception:\n",
    "            try: return int(float(v))\n",
    "            except Exception: return np.nan\n",
    "    if k in float_keys:\n",
    "        try: return round(float(v), round_fp)\n",
    "        except Exception: return np.nan\n",
    "    try:\n",
    "        return round(float(v), round_fp)\n",
    "    except Exception:\n",
    "        return str(v).strip().lower()\n",
    "\n",
    "def normalize_params(d: dict) -> dict:\n",
    "    \"\"\"Return a copy with correct runtime types for LightGBM.\"\"\"\n",
    "    out = {}\n",
    "    for k, v in d.items():\n",
    "        if k in int_keys:\n",
    "            out[k] = int(v)\n",
    "        elif k in float_keys:\n",
    "            out[k] = float(v)\n",
    "        else:\n",
    "            out[k] = v\n",
    "    return out\n",
    "\n",
    "def canon_params(d: dict) -> tuple:\n",
    "    \"\"\"Tuple key in fixed order with canonicalized values (for dedupe).\"\"\"\n",
    "    return tuple((k, canon_val(k, d.get(k))) for k in grid.keys())\n",
    "\n",
    "def mk_base_params(extra: dict | None = None):\n",
    "    params = dict(\n",
    "        objective='binary',\n",
    "        n_estimators=ESTIMATORS_BUDGET,\n",
    "        random_state=RANDOM_STATE,\n",
    "        class_weight='balanced',\n",
    "        n_jobs=1,  # outer parallelism only\n",
    "        verbosity=-1,\n",
    "        max_bin=FAST_MAX_BIN,\n",
    "        subsample_for_bin=FAST_SUBSAMPLE_FOR_BIN,\n",
    "        device_type='gpu' if GPU else 'cpu'\n",
    "    )\n",
    "    if extra: params.update(extra)\n",
    "    return params\n",
    "\n",
    "def cv_ap(params: dict, cv_folds: int) -> dict:\n",
    "    \"\"\"Mean CV AP with early stopping; enforce correct dtypes just-in-time.\"\"\"\n",
    "    from sklearn.model_selection import StratifiedKFold\n",
    "    params = normalize_params(params)  # <<< critical\n",
    "    cv = StratifiedKFold(n_splits=cv_folds, shuffle=True, random_state=RANDOM_STATE)\n",
    "    aps = []\n",
    "    for i, (tr, va) in enumerate(cv.split(X_train, y_train), 1):\n",
    "        X_tr, X_va = X_train.iloc[tr], X_train.iloc[va]\n",
    "        y_tr, y_va = y_train[tr], y_train[va]\n",
    "        est = LGBMClassifier(**mk_base_params(params))\n",
    "        fit_kwargs = {'categorical_feature': cat_cols} if cat_cols else {}\n",
    "        est.fit(\n",
    "            X_tr, y_tr,\n",
    "            eval_set=[(X_va, y_va)],\n",
    "            eval_metric='average_precision',\n",
    "            callbacks=[early_stopping(EARLY_STOP_ROUNDS, verbose=False), log_evaluation(0)],\n",
    "            **fit_kwargs\n",
    "        )\n",
    "        p = est.predict_proba(X_va)[:, 1]\n",
    "        aps.append(average_precision_score(y_va, p))\n",
    "    res = float(np.mean(aps))\n",
    "    print(f\"[GRID-{cv_folds}f] params={params} | CV_AP={res:.4f}\")\n",
    "    return {**params, 'AP_cv': res}\n",
    "\n",
    "# ---------- load previous (schema- & type-safe) ----------\n",
    "cols = list(grid.keys()) + ['AP_cv', 'phase']\n",
    "if mg_csv.exists():\n",
    "    prev = pd.read_csv(mg_csv)\n",
    "    for c in cols:\n",
    "        if c not in prev.columns:\n",
    "            prev[c] = np.nan\n",
    "    # canonicalize for dedupe\n",
    "    for k in grid.keys():\n",
    "        prev[k] = prev[k].apply(lambda v: canon_val(k, v))\n",
    "    if 'AP_cv' in prev.columns:\n",
    "        prev['AP_cv'] = pd.to_numeric(prev['AP_cv'], errors='coerce')\n",
    "    if 'phase' not in prev.columns:\n",
    "        prev['phase'] = np.nan\n",
    "else:\n",
    "    prev = pd.DataFrame(columns=cols)\n",
    "\n",
    "# build set of completed param keys\n",
    "done = set()\n",
    "for _, r in prev.iterrows():\n",
    "    if any(pd.isna(r[k]) for k in grid.keys()):\n",
    "        continue\n",
    "    key = tuple((k, r[k]) for k in grid.keys())\n",
    "    done.add(key)\n",
    "\n",
    "# ---------- enumerate full grid & figure todo (normalized) ----------\n",
    "todo = []\n",
    "for nl in grid['num_leaves']:\n",
    "  for md in grid['max_depth']:\n",
    "    for lr in grid['learning_rate']:\n",
    "      for mcs in grid['min_child_samples']:\n",
    "        for ss in grid['subsample']:\n",
    "          for cs in grid['colsample_bytree']:\n",
    "            params = {'num_leaves': nl, 'max_depth': md, 'learning_rate': lr,\n",
    "                      'min_child_samples': mcs, 'subsample': ss, 'colsample_bytree': cs}\n",
    "            key = canon_params(params)\n",
    "            if key not in done:\n",
    "                # keep normalized types so workers don’t see 8.0/\"8.0\"\n",
    "                todo.append(normalize_params(params))\n",
    "\n",
    "print(f\"[GRID] Previously completed: {len(done)} | Pending: {len(todo)}\")\n",
    "\n",
    "# ---------- Phase 1: coarse pass ----------\n",
    "new_rows = []\n",
    "if todo:\n",
    "    n_jobs = min(N_THREADS, len(todo))\n",
    "    print(f\"[GRID] Coarse pass: folds={CV_FOLDS_COARSE} | jobs={n_jobs}\")\n",
    "    BATCH = max(1, n_jobs * 2)\n",
    "    for i in range(0, len(todo), BATCH):\n",
    "        chunk = todo[i:i+BATCH]\n",
    "        # normalize again defensively (no-op if already normalized)\n",
    "        chunk = [normalize_params(p) for p in chunk]\n",
    "        chunk_rows = Parallel(n_jobs=n_jobs, pre_dispatch='n_jobs')(\n",
    "            delayed(cv_ap)(p, CV_FOLDS_COARSE) for p in chunk\n",
    "        )\n",
    "        for r in chunk_rows:\n",
    "            r['phase'] = 'coarse'\n",
    "        new_rows.extend(chunk_rows)\n",
    "        chk = pd.DataFrame(chunk_rows)\n",
    "        if not chk.empty:\n",
    "            # canonicalize before write (for stable dedupe)\n",
    "            for k in grid.keys():\n",
    "                chk[k] = chk[k].apply(lambda v: canon_val(k, v))\n",
    "            prev = pd.concat([prev, chk[cols]], ignore_index=True)\n",
    "            prev.to_csv(mg_csv, index=False)\n",
    "            print(f\"[GRID] Checkpointed {len(chunk_rows)} rows (coarse).\")\n",
    "\n",
    "# ---------- Phase 2: refine top-K (optional) ----------\n",
    "if TWO_PHASE:\n",
    "    elig = prev.dropna(subset=['AP_cv']).copy()\n",
    "    if not elig.empty:\n",
    "        elig['_key'] = elig.apply(lambda r: tuple((k, r[k]) for k in grid.keys()), axis=1)\n",
    "        elig = (elig.sort_values('AP_cv', ascending=False)\n",
    "                    .drop_duplicates(subset=['_key']))\n",
    "        top = elig.head(TOP_K_REFINE)\n",
    "        # rebuild refine params with proper runtime dtypes\n",
    "        refine_list = []\n",
    "        for i in range(len(top)):\n",
    "            raw = {k: top.iloc[i][k] for k in grid.keys()}\n",
    "            # raw entries may be 8.0 → normalize to int\n",
    "            refine_list.append(normalize_params({k: canon_val(k, raw[k]) for k in grid.keys()}))\n",
    "\n",
    "        print(f\"[GRID] Refinement top-{len(refine_list)} with folds={CV_FOLDS_REFINE}\")\n",
    "        if refine_list:\n",
    "            n_jobs = min(N_THREADS, len(refine_list))\n",
    "            ref_rows = Parallel(n_jobs=n_jobs, pre_dispatch='n_jobs')(\n",
    "                delayed(cv_ap)(p, CV_FOLDS_REFINE) for p in refine_list\n",
    "            )\n",
    "            for r in ref_rows:\n",
    "                r['phase'] = 'refine'\n",
    "            ref_df = pd.DataFrame(ref_rows)\n",
    "            if not ref_df.empty:\n",
    "                for k in grid.keys():\n",
    "                    ref_df[k] = ref_df[k].apply(lambda v: canon_val(k, v))\n",
    "                prev = pd.concat([prev, ref_df[cols]], ignore_index=True)\n",
    "                prev.to_csv(mg_csv, index=False)\n",
    "                print(f\"[GRID] Checkpointed {len(ref_rows)} rows (refine).\")\n",
    "\n",
    "# ---------- Select best (prefer refined) ----------\n",
    "df_final = prev.dropna(subset=['AP_cv']).copy()\n",
    "if df_final.empty:\n",
    "    raise RuntimeError(\"[GRID] No successful evaluations recorded; check earlier logs.\")\n",
    "\n",
    "if (df_final['phase'] == 'refine').any():\n",
    "    pick = df_final[df_final['phase'] == 'refine'].sort_values('AP_cv', ascending=False).iloc[0]\n",
    "else:\n",
    "    pick = df_final.sort_values('AP_cv', ascending=False).iloc[0]\n",
    "\n",
    "best_params = {k: canon_val(k, pick[k]) for k in grid.keys()}\n",
    "best_params = normalize_params(best_params)  # <<< ensure runtime types\n",
    "print(f\"[GRID] Best params: {best_params} | best CV AP={pick['AP_cv']:.4f} | phase={pick.get('phase','coarse')}\")\n",
    "\n",
    "# ---------- Final fit & test ----------\n",
    "final = LGBMClassifier(**mk_base_params(best_params))\n",
    "fit_kwargs = {'categorical_feature': cat_cols} if cat_cols else {}\n",
    "final.fit(\n",
    "    X_train, y_train,\n",
    "    eval_set=[(X_test, y_test)],  # for speed; replace with a holdout if preferred\n",
    "    eval_metric='average_precision',\n",
    "    callbacks=[early_stopping(EARLY_STOP_ROUNDS, verbose=False), log_evaluation(50)],\n",
    "    **fit_kwargs\n",
    ")\n",
    "p = final.predict_proba(X_test)[:, 1]\n",
    "ap = average_precision_score(y_test, p)\n",
    "f1b, tau = sweep_f1(y_test, p)\n",
    "tpr, tnr = tpr_tnr_at_tau(y_test, p, tau)\n",
    "print(f\"[GRID] Test AP={ap:.4f} | F1@τ={f1b:.4f} | τ={tau:.2f}\")\n",
    "\n",
    "save_stage('manual_grid', {\n",
    "  'timestamp': time.strftime('%Y-%m-%dT%H:%M:%SZ', time.gmtime()),\n",
    "  'stage': 'manual_grid',\n",
    "  'model_name': 'LightGBM_ManualGrid_FAST',\n",
    "  'dataset': DATA_PATH,\n",
    "  'seed': RANDOM_STATE,\n",
    "  'metrics': {'AUPRC': float(ap), 'F1': float(f1b), 'tau': float(tau), 'TPR': float(tpr), 'TNR': float(tnr)},\n",
    "  'params': best_params\n",
    "}, results=prev[cols], model=final)\n"
   ]
  },
  {
   "cell_type": "markdown",
   "id": "5bc057f3",
   "metadata": {},
   "source": [
    "### 5.2 Randomized Search (budget-controlled)\n",
    "\n",
    "Covers a larger space with a finite budget. Scoring = `average_precision`.\n"
   ]
  },
  {
   "cell_type": "code",
   "execution_count": 30,
   "id": "541cfe60",
   "metadata": {},
   "outputs": [
    {
     "name": "stdout",
     "output_type": "stream",
     "text": [
      ">>> Section 5.2: Randomized Search\n",
      "Fitting 3 folds for each of 40 candidates, totalling 120 fits\n",
      "[RS] Best CV AP=0.9999 | Best params={'colsample_bytree': 0.8292225078363704, 'learning_rate': 0.10121781503479921, 'max_depth': 13, 'min_child_samples': 117, 'num_leaves': 59, 'reg_lambda': 0.04634893842048328, 'subsample': 0.9421192363558978}\n",
      "[RS] Test AP=0.9997 | F1@τ=0.9997 | τ=0.05\n",
      "[SAVE] Stage 'random_search' saved -> staging/random_search\n"
     ]
    }
   ],
   "source": [
    "# ======================================================\n",
    "# Cell 11 — 5.2 Randomized Search (budget-controlled)\n",
    "# Why:\n",
    "#   • Covers wider hyperparameter regions than grid at the same budget.\n",
    "#   • Good baseline to show BO’s sample-efficiency (Module 10).\n",
    "# ======================================================\n",
    "print(\">>> Section 5.2: Randomized Search\")\n",
    "\n",
    "from sklearn.model_selection import RandomizedSearchCV\n",
    "from scipy.stats import randint, loguniform\n",
    "\n",
    "# Distributions express uncertainty ranges; log scales suit LR/regularization\n",
    "param_dist = {\n",
    "  'num_leaves': randint(16, 256),\n",
    "  'max_depth': randint(2, 16),\n",
    "  'min_child_samples': randint(10, 200),\n",
    "  'subsample': loguniform(0.6, 1.0),\n",
    "  'colsample_bytree': loguniform(0.6, 1.0),\n",
    "  'learning_rate': loguniform(1e-3, 2e-1),\n",
    "  'reg_lambda': loguniform(1e-3, 10.0)\n",
    "}\n",
    "base = LGBMClassifier(objective='binary', n_estimators=500, random_state=RANDOM_STATE,\n",
    "                      n_jobs=-1, class_weight='balanced', verbosity=-1)\n",
    "\n",
    "cv = StratifiedKFold(n_splits=3, shuffle=True, random_state=RANDOM_STATE)\n",
    "\n",
    "rs = RandomizedSearchCV(\n",
    "    estimator=base,\n",
    "    param_distributions=param_dist,\n",
    "    n_iter=40,                         # total budget\n",
    "    scoring='average_precision',       # PR-AUC surrogate\n",
    "    cv=cv,\n",
    "    n_jobs=-1,\n",
    "    random_state=RANDOM_STATE,\n",
    "    verbose=1,\n",
    "    refit=True                         # refit best on full train\n",
    ")\n",
    "\n",
    "fit_kwargs = {'categorical_feature': cat_cols} if cat_cols else {}\n",
    "rs.fit(X_train, y_train, **fit_kwargs)\n",
    "\n",
    "best_rs = rs.best_estimator_\n",
    "print(f\"[RS] Best CV AP={rs.best_score_:.4f} | Best params={rs.best_params_}\")\n",
    "\n",
    "# Test evaluation ↴\n",
    "p = best_rs.predict_proba(X_test)[:, 1]\n",
    "ap = average_precision_score(y_test, p)\n",
    "f1b, tau = sweep_f1(y_test, p)\n",
    "tpr, tnr = tpr_tnr_at_tau(y_test, p, tau)\n",
    "print(f\"[RS] Test AP={ap:.4f} | F1@τ={f1b:.4f} | τ={tau:.2f}\")\n",
    "\n",
    "# Store full CV table for post-hoc analysis/plots\n",
    "rs_df = pd.DataFrame(rs.cv_results_)\n",
    "save_stage('random_search', {\n",
    "  'timestamp': time.strftime('%Y-%m-%dT%H:%M:%SZ', time.gmtime()),\n",
    "  'stage': 'random_search',\n",
    "  'model_name': 'LightGBM_RS',\n",
    "  'dataset': DATA_PATH,\n",
    "  'seed': RANDOM_STATE,\n",
    "  'metrics': {'AUPRC': float(ap), 'F1': float(f1b), 'tau': float(tau), 'TPR': float(tpr), 'TNR': float(tnr)},\n",
    "  'best_params': rs.best_params_\n",
    "}, results=rs_df, model=best_rs)\n"
   ]
  },
  {
   "cell_type": "markdown",
   "id": "46f1c5c9",
   "metadata": {},
   "source": [
    "### 5.3 Bayesian Optimisation (BayesSearchCV) + Checkpoint\n",
    "\n",
    "Surrogate (GP) + EI → fewer, better trials. A checkpoint allows resuming long searches safely.\n"
   ]
  },
  {
   "cell_type": "code",
   "execution_count": 5,
   "id": "6acd4513",
   "metadata": {},
   "outputs": [
    {
     "name": "stdout",
     "output_type": "stream",
     "text": [
      ">>> Section 5.3: BO via BayesSearchCV\n",
      "Fitting 5 folds for each of 3 candidates, totalling 15 fits\n",
      "Fitting 5 folds for each of 3 candidates, totalling 15 fits\n",
      "Fitting 5 folds for each of 3 candidates, totalling 15 fits\n",
      "Fitting 5 folds for each of 3 candidates, totalling 15 fits\n",
      "Fitting 5 folds for each of 3 candidates, totalling 15 fits\n",
      "Fitting 5 folds for each of 3 candidates, totalling 15 fits\n",
      "Fitting 5 folds for each of 3 candidates, totalling 15 fits\n",
      "Fitting 5 folds for each of 3 candidates, totalling 15 fits\n",
      "Fitting 5 folds for each of 3 candidates, totalling 15 fits\n",
      "Fitting 5 folds for each of 3 candidates, totalling 15 fits\n",
      "Fitting 5 folds for each of 3 candidates, totalling 15 fits\n",
      "Fitting 5 folds for each of 3 candidates, totalling 15 fits\n",
      "Fitting 5 folds for each of 3 candidates, totalling 15 fits\n",
      "Fitting 5 folds for each of 1 candidates, totalling 5 fits\n",
      "[BO] Best CV AP=0.9999 | Best params=OrderedDict({'colsample_bytree': 0.8986450547106783, 'learning_rate': 0.014053679233748164, 'max_depth': 12, 'min_child_samples': 124, 'num_leaves': 236, 'reg_lambda': 0.0023433920577253763, 'subsample': 0.9299500899585347})\n",
      "[BO] Test AP=0.9997 | F1@τ=0.9997 | τ=0.45\n",
      "[SAVE] Stage 'bo_lgb' saved -> staging/bo_lgb\n"
     ]
    }
   ],
   "source": [
    "# ======================================================\n",
    "# Cell 13 — 5.3 Bayesian Optimisation (BayesSearchCV)\n",
    "# Why BO:\n",
    "#   • Models J(θ) with a surrogate (GP) and selects informative next trials.\n",
    "#   • Typically achieves better AP with fewer evaluations than grid/random.\n",
    "# Checkpoint:\n",
    "#   • Skopt CheckpointSaver writes the skopt optimizer state to resume later.\n",
    "# ======================================================\n",
    "print(\">>> Section 5.3: BO via BayesSearchCV\")\n",
    "\n",
    "bo_dir = stage_dir('bo_lgb')\n",
    "ckpt = bo_dir / 'skopt_ckpt.pkl'  # opaque binary; do not hand-edit\n",
    "\n",
    "# Base learner; BO only tunes hyperparameters in search_spaces below\n",
    "lgb = LGBMClassifier(\n",
    "    objective='binary',\n",
    "    n_estimators=500,\n",
    "    random_state=RANDOM_STATE,\n",
    "    n_jobs=-1,\n",
    "    class_weight='balanced',\n",
    "    verbosity=-1\n",
    ")\n",
    "\n",
    "# Define priors/ranges; keep realistic bounds to avoid wasting budget\n",
    "search_spaces = {\n",
    "  'num_leaves': Integer(31, 255),\n",
    "  'max_depth': Integer(2, 16),\n",
    "  'min_child_samples': Integer(10, 200),\n",
    "  'subsample': Real(0.6, 1.0),\n",
    "  'colsample_bytree': Real(0.6, 1.0),\n",
    "  'learning_rate': Real(1e-3, 2e-1, prior='log-uniform'),\n",
    "  'reg_lambda': Real(1e-3, 10.0, prior='log-uniform')\n",
    "}\n",
    "\n",
    "cv = StratifiedKFold(n_splits=5, shuffle=True, random_state=RANDOM_STATE)\n",
    "callbacks = [CheckpointSaver(str(ckpt), compress=9, store_objective=False)]\n",
    "\n",
    "opt = BayesSearchCV(\n",
    "    estimator=lgb,\n",
    "    search_spaces=search_spaces,\n",
    "    n_iter=40,                         # total BO budget\n",
    "    n_points=3,\n",
    "    scoring='average_precision',\n",
    "    cv=cv,\n",
    "    n_jobs=-1,\n",
    "    random_state=RANDOM_STATE,\n",
    "    verbose=1,\n",
    "    refit=True                         # automatically refit best model\n",
    ")\n",
    "fit_kwargs = {'categorical_feature': cat_cols} if cat_cols else {}\n",
    "\n",
    "# If ckpt exists, BayesSearchCV will load progress via callback state\n",
    "opt.fit(X_train, y_train, callback=callbacks, **fit_kwargs)\n",
    "\n",
    "print(f\"[BO] Best CV AP={opt.best_score_:.4f} | Best params={opt.best_params_}\")\n",
    "lgb_bo = opt.best_estimator_\n",
    "\n",
    "# Test evaluation ↴\n",
    "p = lgb_bo.predict_proba(X_test)[:, 1]\n",
    "ap = average_precision_score(y_test, p)\n",
    "f1b, tau = sweep_f1(y_test, p)\n",
    "tpr, tnr = tpr_tnr_at_tau(y_test, p, tau)\n",
    "print(f\"[BO] Test AP={ap:.4f} | F1@τ={f1b:.4f} | τ={tau:.2f}\")\n",
    "\n",
    "save_stage('bo_lgb', {\n",
    "  'timestamp': time.strftime('%Y-%m-%dT%H:%M:%SZ', time.gmtime()),\n",
    "  'stage': 'bo_lgb',\n",
    "  'model_name': 'LightGBM_BO',\n",
    "  'dataset': DATA_PATH,\n",
    "  'seed': RANDOM_STATE,\n",
    "  'metrics': {'AUPRC': float(ap), 'F1': float(f1b), 'tau': float(tau), 'TPR': float(tpr), 'TNR': float(tnr)},\n",
    "  'best_params': opt.best_params_\n",
    "}, model=lgb_bo)\n"
   ]
  },
  {
   "cell_type": "markdown",
   "id": "cde98f7e",
   "metadata": {},
   "source": [
    "### 5.4 Enhanced BO (ask–tell, warm start, batch EI, patience, resume)\n",
    "\n",
    "Warm start from earlier bests; propose batches; early stop on **patience**; resume via CSV + pickle.\n"
   ]
  },
  {
   "cell_type": "code",
   "execution_count": 6,
   "id": "896c0c79",
   "metadata": {},
   "outputs": [
    {
     "name": "stdout",
     "output_type": "stream",
     "text": [
      ">>> Section 5.4: Enhanced BO (ask–tell)\n",
      "[EBO] Warm-start with 3 prior points.\n",
      "[EBO] Step 1/24 proposing 4 points...\n",
      "[EBO] step=1 | batch_best=0.9999 | best_cv=0.9999 | patience 0/6\n",
      "[EBO] Step 2/24 proposing 4 points...\n",
      "[EBO] step=2 | batch_best=0.9999 | best_cv=0.9999 | patience 0/6\n",
      "[EBO] Step 3/24 proposing 4 points...\n",
      "[EBO] step=3 | batch_best=0.9998 | best_cv=0.9999 | patience 1/6\n",
      "[EBO] Step 4/24 proposing 4 points...\n",
      "[EBO] step=4 | batch_best=0.9998 | best_cv=0.9999 | patience 2/6\n",
      "[EBO] Step 5/24 proposing 4 points...\n",
      "[EBO] step=5 | batch_best=0.9999 | best_cv=0.9999 | patience 0/6\n",
      "[EBO] Step 6/24 proposing 4 points...\n",
      "[EBO] step=6 | batch_best=0.9999 | best_cv=0.9999 | patience 1/6\n",
      "[EBO] Step 7/24 proposing 4 points...\n",
      "[EBO] step=7 | batch_best=0.9999 | best_cv=0.9999 | patience 2/6\n",
      "[EBO] Step 8/24 proposing 4 points...\n",
      "[EBO] step=8 | batch_best=0.9999 | best_cv=0.9999 | patience 3/6\n",
      "[EBO] Step 9/24 proposing 4 points...\n",
      "[EBO] step=9 | batch_best=0.9999 | best_cv=0.9999 | patience 4/6\n",
      "[EBO] Step 10/24 proposing 4 points...\n",
      "[EBO] step=10 | batch_best=0.9999 | best_cv=0.9999 | patience 5/6\n",
      "[EBO] Step 11/24 proposing 4 points...\n",
      "[EBO] step=11 | batch_best=0.9998 | best_cv=0.9999 | patience 6/6\n",
      "[EBO] Early stopping.\n",
      "[EBO] Best params={'num_leaves': 118, 'max_depth': 12, 'min_child_samples': 21, 'subsample': 0.9012640129099659, 'colsample_bytree': 0.8659965652378008, 'learning_rate': 0.050602060132694665, 'reg_lambda': 0.8973465609044181} | Best CV AP=0.9999\n",
      "[EBO] Test AP=0.9999 | F1@τ=0.9997 | τ=0.05\n",
      "[SAVE] Stage 'bo_enhanced' saved -> staging/bo_enhanced\n"
     ]
    }
   ],
   "source": [
    "# ======================================================\n",
    "# Cell 15 — 5.4 Enhanced BO (ask–tell)\n",
    "# Features:\n",
    "#   • Warm-start from previous staged bests (ManualGrid/RS/BO).\n",
    "#   • Batch EI proposals (parallel CV evaluations).\n",
    "#   • Patience-based early stopping (prevents over-search).\n",
    "#   • Resume via optimizer.pkl + results.csv.\n",
    "# ======================================================\n",
    "print(\">>> Section 5.4: Enhanced BO (ask–tell)\")\n",
    "\n",
    "ben_dir = stage_dir('bo_enhanced')\n",
    "opt_pkl = ben_dir / 'optimizer.pkl'   # skopt.Optimizer state (pickle)\n",
    "res_csv = ben_dir / 'results.csv'     # history table for plots/analysis\n",
    "\n",
    "# Search space mirrors BayesSearchCV’s; names must match vec_to_params below\n",
    "space = [\n",
    "  Integer(31, 255, name='num_leaves'),\n",
    "  Integer(2, 16, name='max_depth'),\n",
    "  Integer(10, 200, name='min_child_samples'),\n",
    "  Real(0.6, 1.0, name='subsample'),\n",
    "  Real(0.6, 1.0, name='colsample_bytree'),\n",
    "  Real(1e-3, 2e-1, prior='log-uniform', name='learning_rate'),\n",
    "  Real(1e-3, 10.0, prior='log-uniform', name='reg_lambda')\n",
    "]\n",
    "\n",
    "# ---- Warm start from staged champions --------------------------------------\n",
    "X0, y0 = [], []   # X0: hyperparameters as vectors; y0: objective values (-AP)\n",
    "for stg in ['manual_grid', 'random_search', 'bo_lgb']:\n",
    "    m = load_stage(stg)\n",
    "    if not m: \n",
    "        continue\n",
    "    p = m.get('best_params') or m.get('params')\n",
    "    if not p: \n",
    "        continue\n",
    "    x = [\n",
    "        int(p.get('num_leaves',63)),\n",
    "        int(p.get('max_depth',6)),\n",
    "        int(p.get('min_child_samples',20)),\n",
    "        float(p.get('subsample',0.8)),\n",
    "        float(p.get('colsample_bytree',0.8)),\n",
    "        float(p.get('learning_rate',0.1)),\n",
    "        float(p.get('reg_lambda',1.0)),\n",
    "    ]\n",
    "    ap = m.get('metrics',{}).get('AUPRC')\n",
    "    if ap is not None:\n",
    "        X0.append(x); y0.append(-float(ap))  # skopt minimizes; we maximize AP → minimize -AP\n",
    "\n",
    "# ---- Initialize or resume Optimizer ----------------------------------------\n",
    "if opt_pkl.exists():\n",
    "    # Resume optimizer from checkpoint to continue search\n",
    "    opt = pickle.load(open(opt_pkl,'rb'))\n",
    "    print(\"[EBO] Loaded optimizer from checkpoint.\")\n",
    "else:\n",
    "    opt = Optimizer(dimensions=space, base_estimator='GP', acq_func='EI', random_state=RANDOM_STATE)\n",
    "    if X0:\n",
    "        opt.tell(X0, y0)  # inject prior bests to guide the surrogate\n",
    "        print(f\"[EBO] Warm-start with {len(X0)} prior points.\")\n",
    "\n",
    "def cv_ap_eval(params: dict) -> float:\n",
    "    \"\"\"Return mean 3-fold CV AP for given LightGBM params.\"\"\"\n",
    "    clf = LGBMClassifier(\n",
    "        objective='binary', n_estimators=500, random_state=RANDOM_STATE,\n",
    "        n_jobs=-1, class_weight='balanced', verbosity=-1, **params\n",
    "    )\n",
    "    cv = StratifiedKFold(n_splits=3, shuffle=True, random_state=RANDOM_STATE)\n",
    "    aps = []\n",
    "    for tr, va in cv.split(X_train, y_train):\n",
    "        X_tr, X_va = X_train.iloc[tr], X_train.iloc[va]\n",
    "        y_tr, y_va = y_train[tr], y_train[va]\n",
    "        fit_kwargs = {'categorical_feature': cat_cols} if cat_cols else {}\n",
    "        clf.fit(X_tr, y_tr, **fit_kwargs)\n",
    "        p = clf.predict_proba(X_va)[:, 1]\n",
    "        aps.append(average_precision_score(y_va, p))\n",
    "    return float(np.mean(aps))\n",
    "\n",
    "def vec_to_params(v):\n",
    "    \"\"\"Vector → dict(params) mapping; keep order in sync with 'space' above.\"\"\"\n",
    "    return {\n",
    "        'num_leaves': int(v[0]),\n",
    "        'max_depth': int(v[1]),\n",
    "        'min_child_samples': int(v[2]),\n",
    "        'subsample': float(v[3]),\n",
    "        'colsample_bytree': float(v[4]),\n",
    "        'learning_rate': float(v[5]),\n",
    "        'reg_lambda': float(v[6])\n",
    "    }\n",
    "\n",
    "# ---- Load history or start fresh -------------------------------------------\n",
    "hist = pd.read_csv(res_csv) if res_csv.exists() else pd.DataFrame(columns=[\n",
    "    'num_leaves','max_depth','min_child_samples','subsample','colsample_bytree','learning_rate','reg_lambda','AP_cv'\n",
    "])\n",
    "\n",
    "# Search controls (keep modest for demo; raise for production)\n",
    "N_ITERS, BATCH, PATIENCE = 24, min(4, N_THREADS), 6\n",
    "best_cv = float(hist['AP_cv'].max()) if not hist.empty else -np.inf\n",
    "no_imp = 0\n",
    "\n",
    "# ---- Main ask–tell loop -----------------------------------------------------\n",
    "for step in range(N_ITERS):\n",
    "    # Ask for next batch of proposals from the surrogate\n",
    "    Xb = opt.ask(n_points=BATCH)\n",
    "    Pb = [vec_to_params(v) for v in Xb]\n",
    "    print(f\"[EBO] Step {step+1}/{N_ITERS} proposing {len(Pb)} points...\")\n",
    "    # Evaluate proposals in parallel\n",
    "    scores = Parallel(n_jobs=BATCH)(delayed(cv_ap_eval)(p) for p in Pb)\n",
    "    # Tell the optimizer the outcomes (remember we minimize -AP)\n",
    "    opt.tell(Xb, [-s for s in scores])\n",
    "    # Append to history & checkpoint both optimizer and CSV\n",
    "    rows = [dict(**p, AP_cv=s) for p, s in zip(Pb, scores)]\n",
    "    hist = pd.concat([hist, pd.DataFrame(rows)], ignore_index=True)\n",
    "    hist.to_csv(res_csv, index=False)\n",
    "    pickle.dump(opt, open(opt_pkl,'wb'))\n",
    "    # Patience logic: stop if no improvement\n",
    "    b = float(max(scores))\n",
    "    if b > best_cv + 1e-6:\n",
    "        best_cv, no_imp = b, 0\n",
    "    else:\n",
    "        no_imp += 1\n",
    "    print(f\"[EBO] step={step+1} | batch_best={b:.4f} | best_cv={best_cv:.4f} | patience {no_imp}/{PATIENCE}\")\n",
    "    if no_imp >= PATIENCE:\n",
    "        print(\"[EBO] Early stopping.\"); break\n",
    "\n",
    "# ---- Finalize: pick best params; refit on full train; evaluate on test -----\n",
    "if not hist.empty:\n",
    "    best_row = hist.sort_values('AP_cv', ascending=False).iloc[0].to_dict()\n",
    "    key_list = ['num_leaves','max_depth','min_child_samples','subsample','colsample_bytree','learning_rate','reg_lambda']\n",
    "    best_params = {k: best_row[k] for k in key_list}\n",
    "    print(f\"[EBO] Best params={best_params} | Best CV AP={best_row['AP_cv']:.4f}\")\n",
    "\n",
    "    lgb_enh = LGBMClassifier(\n",
    "        objective='binary', n_estimators=500, random_state=RANDOM_STATE,\n",
    "        n_jobs=-1, class_weight='balanced', verbosity=-1, **best_params\n",
    "    )\n",
    "    fit_kwargs = {'categorical_feature': cat_cols} if cat_cols else {}\n",
    "    lgb_enh.fit(X_train, y_train, **fit_kwargs)\n",
    "    p = lgb_enh.predict_proba(X_test)[:, 1]\n",
    "    ap = average_precision_score(y_test, p)\n",
    "    f1b, tau = sweep_f1(y_test, p)\n",
    "    tpr, tnr = tpr_tnr_at_tau(y_test, p, tau)\n",
    "    print(f\"[EBO] Test AP={ap:.4f} | F1@τ={f1b:.4f} | τ={tau:.2f}\")\n",
    "\n",
    "    save_stage('bo_enhanced', {\n",
    "      'timestamp': time.strftime('%Y-%m-%dT%H:%M:%SZ', time.gmtime()),\n",
    "      'stage': 'bo_enhanced',\n",
    "      'model_name': 'LightGBM_BO_Enhanced',\n",
    "      'dataset': DATA_PATH,\n",
    "      'seed': RANDOM_STATE,\n",
    "      'metrics': {'AUPRC': float(ap), 'F1': float(f1b), 'tau': float(tau), 'TPR': float(tpr), 'TNR': float(tnr)},\n",
    "      'params': best_params\n",
    "    }, results=hist, model=lgb_enh)\n",
    "else:\n",
    "    print(\"[EBO] No evaluations recorded.\")\n"
   ]
  },
  {
   "cell_type": "markdown",
   "id": "5c2a9201",
   "metadata": {},
   "source": [
    "## 6. 1D-CNN Benchmark\n",
    "\n",
    "Treat each sample as a **length-d 1D signal** (d = #features).  \n",
    "Small architecture for speed; predictions saved to `staging/cnn1d/`.\n"
   ]
  },
  {
   "cell_type": "code",
   "execution_count": 7,
   "id": "ab0d8fef",
   "metadata": {},
   "outputs": [
    {
     "name": "stdout",
     "output_type": "stream",
     "text": [
      ">>> Section 6: 1D-CNN Benchmark\n"
     ]
    },
    {
     "name": "stderr",
     "output_type": "stream",
     "text": [
      "2025-08-29 03:48:04.393184: I tensorflow/core/platform/cpu_feature_guard.cc:210] This TensorFlow binary is optimized to use available CPU instructions in performance-critical operations.\n",
      "To enable the following instructions: AVX2 FMA, in other operations, rebuild TensorFlow with the appropriate compiler flags.\n"
     ]
    },
    {
     "name": "stdout",
     "output_type": "stream",
     "text": [
      "[CNN1D] Training...\n",
      "Epoch 1/30\n",
      "\u001b[1m188/188\u001b[0m \u001b[32m━━━━━━━━━━━━━━━━━━━━\u001b[0m\u001b[37m\u001b[0m \u001b[1m67s\u001b[0m 343ms/step - AUPRC: 0.9673 - loss: 0.3512 - val_AUPRC: 0.9944 - val_loss: 0.3461 - learning_rate: 0.0010\n",
      "Epoch 2/30\n",
      "\u001b[1m188/188\u001b[0m \u001b[32m━━━━━━━━━━━━━━━━━━━━\u001b[0m\u001b[37m\u001b[0m \u001b[1m65s\u001b[0m 346ms/step - AUPRC: 0.9969 - loss: 0.0971 - val_AUPRC: 0.9979 - val_loss: 0.2656 - learning_rate: 0.0010\n",
      "Epoch 3/30\n",
      "\u001b[1m188/188\u001b[0m \u001b[32m━━━━━━━━━━━━━━━━━━━━\u001b[0m\u001b[37m\u001b[0m \u001b[1m61s\u001b[0m 325ms/step - AUPRC: 0.9983 - loss: 0.0604 - val_AUPRC: 0.9994 - val_loss: 0.0507 - learning_rate: 0.0010\n",
      "Epoch 4/30\n",
      "\u001b[1m188/188\u001b[0m \u001b[32m━━━━━━━━━━━━━━━━━━━━\u001b[0m\u001b[37m\u001b[0m \u001b[1m62s\u001b[0m 331ms/step - AUPRC: 0.9985 - loss: 0.0500 - val_AUPRC: 0.9995 - val_loss: 0.0254 - learning_rate: 0.0010\n",
      "Epoch 5/30\n",
      "\u001b[1m188/188\u001b[0m \u001b[32m━━━━━━━━━━━━━━━━━━━━\u001b[0m\u001b[37m\u001b[0m \u001b[1m61s\u001b[0m 324ms/step - AUPRC: 0.9986 - loss: 0.0412 - val_AUPRC: 0.9995 - val_loss: 0.0210 - learning_rate: 0.0010\n",
      "Epoch 6/30\n",
      "\u001b[1m188/188\u001b[0m \u001b[32m━━━━━━━━━━━━━━━━━━━━\u001b[0m\u001b[37m\u001b[0m \u001b[1m63s\u001b[0m 335ms/step - AUPRC: 0.9987 - loss: 0.0342 - val_AUPRC: 0.9994 - val_loss: 0.0172 - learning_rate: 0.0010\n",
      "Epoch 7/30\n",
      "\u001b[1m188/188\u001b[0m \u001b[32m━━━━━━━━━━━━━━━━━━━━\u001b[0m\u001b[37m\u001b[0m \u001b[1m66s\u001b[0m 351ms/step - AUPRC: 0.9989 - loss: 0.0300 - val_AUPRC: 0.9996 - val_loss: 0.0123 - learning_rate: 0.0010\n",
      "Epoch 8/30\n",
      "\u001b[1m188/188\u001b[0m \u001b[32m━━━━━━━━━━━━━━━━━━━━\u001b[0m\u001b[37m\u001b[0m \u001b[1m64s\u001b[0m 339ms/step - AUPRC: 0.9990 - loss: 0.0236 - val_AUPRC: 0.9996 - val_loss: 0.0116 - learning_rate: 0.0010\n",
      "Epoch 9/30\n",
      "\u001b[1m188/188\u001b[0m \u001b[32m━━━━━━━━━━━━━━━━━━━━\u001b[0m\u001b[37m\u001b[0m \u001b[1m63s\u001b[0m 333ms/step - AUPRC: 0.9991 - loss: 0.0208 - val_AUPRC: 0.9995 - val_loss: 0.0114 - learning_rate: 0.0010\n",
      "Epoch 10/30\n",
      "\u001b[1m188/188\u001b[0m \u001b[32m━━━━━━━━━━━━━━━━━━━━\u001b[0m\u001b[37m\u001b[0m \u001b[1m63s\u001b[0m 336ms/step - AUPRC: 0.9991 - loss: 0.0186 - val_AUPRC: 0.9996 - val_loss: 0.0100 - learning_rate: 0.0010\n",
      "Epoch 11/30\n",
      "\u001b[1m188/188\u001b[0m \u001b[32m━━━━━━━━━━━━━━━━━━━━\u001b[0m\u001b[37m\u001b[0m \u001b[1m64s\u001b[0m 339ms/step - AUPRC: 0.9991 - loss: 0.0190 - val_AUPRC: 0.9995 - val_loss: 0.0087 - learning_rate: 0.0010\n",
      "Epoch 12/30\n",
      "\u001b[1m188/188\u001b[0m \u001b[32m━━━━━━━━━━━━━━━━━━━━\u001b[0m\u001b[37m\u001b[0m \u001b[1m62s\u001b[0m 330ms/step - AUPRC: 0.9992 - loss: 0.0166 - val_AUPRC: 0.9997 - val_loss: 0.0085 - learning_rate: 0.0010\n",
      "Epoch 13/30\n",
      "\u001b[1m188/188\u001b[0m \u001b[32m━━━━━━━━━━━━━━━━━━━━\u001b[0m\u001b[37m\u001b[0m \u001b[1m65s\u001b[0m 343ms/step - AUPRC: 0.9991 - loss: 0.0162 - val_AUPRC: 0.9998 - val_loss: 0.0091 - learning_rate: 0.0010\n",
      "Epoch 14/30\n",
      "\u001b[1m188/188\u001b[0m \u001b[32m━━━━━━━━━━━━━━━━━━━━\u001b[0m\u001b[37m\u001b[0m \u001b[1m64s\u001b[0m 339ms/step - AUPRC: 0.9990 - loss: 0.0239 - val_AUPRC: 0.9996 - val_loss: 0.0071 - learning_rate: 0.0010\n",
      "Epoch 15/30\n",
      "\u001b[1m188/188\u001b[0m \u001b[32m━━━━━━━━━━━━━━━━━━━━\u001b[0m\u001b[37m\u001b[0m \u001b[1m63s\u001b[0m 334ms/step - AUPRC: 0.9992 - loss: 0.0138 - val_AUPRC: 0.9996 - val_loss: 0.0063 - learning_rate: 0.0010\n",
      "Epoch 16/30\n",
      "\u001b[1m188/188\u001b[0m \u001b[32m━━━━━━━━━━━━━━━━━━━━\u001b[0m\u001b[37m\u001b[0m \u001b[1m63s\u001b[0m 334ms/step - AUPRC: 0.9992 - loss: 0.0130 - val_AUPRC: 0.9996 - val_loss: 0.0093 - learning_rate: 0.0010\n",
      "Epoch 17/30\n",
      "\u001b[1m188/188\u001b[0m \u001b[32m━━━━━━━━━━━━━━━━━━━━\u001b[0m\u001b[37m\u001b[0m \u001b[1m64s\u001b[0m 342ms/step - AUPRC: 0.9992 - loss: 0.0127 - val_AUPRC: 0.9995 - val_loss: 0.0065 - learning_rate: 0.0010\n",
      "Epoch 18/30\n",
      "\u001b[1m188/188\u001b[0m \u001b[32m━━━━━━━━━━━━━━━━━━━━\u001b[0m\u001b[37m\u001b[0m \u001b[1m64s\u001b[0m 342ms/step - AUPRC: 0.9992 - loss: 0.0109 - val_AUPRC: 0.9998 - val_loss: 0.0063 - learning_rate: 5.0000e-04\n",
      "Epoch 19/30\n",
      "\u001b[1m188/188\u001b[0m \u001b[32m━━━━━━━━━━━━━━━━━━━━\u001b[0m\u001b[37m\u001b[0m \u001b[1m64s\u001b[0m 340ms/step - AUPRC: 0.9992 - loss: 0.0105 - val_AUPRC: 0.9997 - val_loss: 0.0074 - learning_rate: 5.0000e-04\n",
      "Epoch 20/30\n",
      "\u001b[1m188/188\u001b[0m \u001b[32m━━━━━━━━━━━━━━━━━━━━\u001b[0m\u001b[37m\u001b[0m \u001b[1m63s\u001b[0m 337ms/step - AUPRC: 0.9993 - loss: 0.0103 - val_AUPRC: 0.9996 - val_loss: 0.0056 - learning_rate: 2.5000e-04\n",
      "Epoch 21/30\n",
      "\u001b[1m188/188\u001b[0m \u001b[32m━━━━━━━━━━━━━━━━━━━━\u001b[0m\u001b[37m\u001b[0m \u001b[1m64s\u001b[0m 342ms/step - AUPRC: 0.9992 - loss: 0.0104 - val_AUPRC: 0.9997 - val_loss: 0.0059 - learning_rate: 2.5000e-04\n",
      "Epoch 22/30\n",
      "\u001b[1m188/188\u001b[0m \u001b[32m━━━━━━━━━━━━━━━━━━━━\u001b[0m\u001b[37m\u001b[0m \u001b[1m64s\u001b[0m 342ms/step - AUPRC: 0.9992 - loss: 0.0105 - val_AUPRC: 0.9997 - val_loss: 0.0060 - learning_rate: 2.5000e-04\n",
      "Epoch 23/30\n",
      "\u001b[1m188/188\u001b[0m \u001b[32m━━━━━━━━━━━━━━━━━━━━\u001b[0m\u001b[37m\u001b[0m \u001b[1m62s\u001b[0m 327ms/step - AUPRC: 0.9992 - loss: 0.0100 - val_AUPRC: 0.9998 - val_loss: 0.0060 - learning_rate: 1.2500e-04\n",
      "Epoch 24/30\n",
      "\u001b[1m188/188\u001b[0m \u001b[32m━━━━━━━━━━━━━━━━━━━━\u001b[0m\u001b[37m\u001b[0m \u001b[1m62s\u001b[0m 332ms/step - AUPRC: 0.9993 - loss: 0.0092 - val_AUPRC: 0.9998 - val_loss: 0.0057 - learning_rate: 1.2500e-04\n",
      "Epoch 25/30\n",
      "\u001b[1m188/188\u001b[0m \u001b[32m━━━━━━━━━━━━━━━━━━━━\u001b[0m\u001b[37m\u001b[0m \u001b[1m63s\u001b[0m 337ms/step - AUPRC: 0.9994 - loss: 0.0091 - val_AUPRC: 0.9997 - val_loss: 0.0057 - learning_rate: 6.2500e-05\n",
      "Epoch 26/30\n",
      "\u001b[1m188/188\u001b[0m \u001b[32m━━━━━━━━━━━━━━━━━━━━\u001b[0m\u001b[37m\u001b[0m \u001b[1m63s\u001b[0m 333ms/step - AUPRC: 0.9993 - loss: 0.0096 - val_AUPRC: 0.9997 - val_loss: 0.0057 - learning_rate: 6.2500e-05\n",
      "Epoch 27/30\n",
      "\u001b[1m188/188\u001b[0m \u001b[32m━━━━━━━━━━━━━━━━━━━━\u001b[0m\u001b[37m\u001b[0m \u001b[1m64s\u001b[0m 339ms/step - AUPRC: 0.9993 - loss: 0.0096 - val_AUPRC: 0.9997 - val_loss: 0.0057 - learning_rate: 3.1250e-05\n",
      "Epoch 28/30\n",
      "\u001b[1m188/188\u001b[0m \u001b[32m━━━━━━━━━━━━━━━━━━━━\u001b[0m\u001b[37m\u001b[0m \u001b[1m64s\u001b[0m 338ms/step - AUPRC: 0.9994 - loss: 0.0096 - val_AUPRC: 0.9997 - val_loss: 0.0059 - learning_rate: 3.1250e-05\n",
      "Epoch 29/30\n",
      "\u001b[1m188/188\u001b[0m \u001b[32m━━━━━━━━━━━━━━━━━━━━\u001b[0m\u001b[37m\u001b[0m \u001b[1m64s\u001b[0m 342ms/step - AUPRC: 0.9993 - loss: 0.0090 - val_AUPRC: 0.9997 - val_loss: 0.0057 - learning_rate: 1.5625e-05\n",
      "[CNN1D] Test AP=0.9998 | F1@τ=0.9994 | τ=0.40\n",
      "[SAVE] Stage 'cnn1d' saved -> staging/cnn1d\n"
     ]
    }
   ],
   "source": [
    "# ======================================================\n",
    "# Cell 17 — 1D-CNN Baseline\n",
    "# Idea:\n",
    "#   • Treat each tabular sample as a 1-D signal of length d (#features).\n",
    "#   • Minimal CNN acts as a neural baseline against tree-based models.\n",
    "# Repro:\n",
    "#   • Save predictions to staging/cnn1d/preds.npy so ensembles can include it.\n",
    "# ======================================================\n",
    "print(\">>> Section 6: 1D-CNN Benchmark\")\n",
    "try:\n",
    "    import tensorflow as tf\n",
    "    from tensorflow.keras import Sequential\n",
    "    from tensorflow.keras.layers import Input, Conv1D, GlobalMaxPooling1D, Dense, Dropout, BatchNormalization\n",
    "    from tensorflow.keras.optimizers import Adam\n",
    "    from tensorflow.keras.callbacks import EarlyStopping, ReduceLROnPlateau\n",
    "    try:\n",
    "        from tensorflow.keras.callbacks import BackupAndRestore   # resume support (when available)\n",
    "        _has_backup = True\n",
    "    except Exception:\n",
    "        _has_backup = False\n",
    "    TF_OK = True\n",
    "except Exception as e:\n",
    "    print(\"[CNN1D] TensorFlow unavailable:\", e)\n",
    "    TF_OK = False\n",
    "\n",
    "def to_seq(Xtr: pd.DataFrame, Xte: pd.DataFrame):\n",
    "    \"\"\"\n",
    "    Convert DataFrame → numeric arrays → (N, D, 1) tensors.\n",
    "    - Category columns → integer codes (stable due to earlier alignment).\n",
    "    - Booleans → compact ints; objects → categories.\n",
    "    \"\"\"\n",
    "    A, B = Xtr.copy(), Xte.copy()\n",
    "    for c in A.columns:\n",
    "        if str(A[c].dtype) == 'category':\n",
    "            A[c] = A[c].cat.codes; B[c] = B[c].cat.codes\n",
    "        elif A[c].dtype == bool:\n",
    "            A[c] = A[c].astype(np.int8); B[c] = B[c].astype(np.int8)\n",
    "        elif A[c].dtype == object:\n",
    "            A[c] = A[c].astype('category').cat.codes\n",
    "            B[c] = B[c].astype('category').cat.codes\n",
    "    A = A.fillna(0).astype(np.float32).values\n",
    "    B = B.fillna(0).astype(np.float32).values\n",
    "    return A.reshape((A.shape[0], A.shape[1], 1)), B.reshape((B.shape[0], B.shape[1], 1))\n",
    "\n",
    "if TF_OK:\n",
    "    Xtr3, Xte3 = to_seq(X_train, X_test)\n",
    "    L = Xtr3.shape[1]  # number of features = sequence length\n",
    "\n",
    "    # Lightweight CNN: two conv blocks + global max pool + small MLP head\n",
    "    model = Sequential([\n",
    "        Input(shape=(L,1)),\n",
    "        Conv1D(32, 3, activation='relu', padding='same'),\n",
    "        BatchNormalization(),\n",
    "        Conv1D(32, 3, activation='relu', padding='same'),\n",
    "        GlobalMaxPooling1D(),\n",
    "        Dropout(0.2),                  # implicit regularization\n",
    "        Dense(64, activation='relu'),\n",
    "        Dense(1, activation='sigmoid') # output = P(y=1)\n",
    "    ])\n",
    "    model.compile(optimizer=Adam(1e-3), loss='binary_crossentropy',\n",
    "                  metrics=[tf.keras.metrics.AUC(curve='PR', name='AUPRC')])\n",
    "\n",
    "    # Early stopping: maximize validation PR-AUC; LR scheduling for stability\n",
    "    callbacks=[EarlyStopping(monitor='val_AUPRC', mode='max', patience=5, restore_best_weights=True),\n",
    "               ReduceLROnPlateau(monitor='val_loss', factor=0.5, patience=2, min_lr=1e-5)]\n",
    "    cnn_stage = stage_dir('cnn1d')\n",
    "    if _has_backup:\n",
    "        callbacks.append(BackupAndRestore(backup_dir=str(cnn_stage/'tf_backup')))\n",
    "\n",
    "    print('[CNN1D] Training...')\n",
    "    hist = model.fit(Xtr3, y_train, validation_split=0.2, epochs=30, batch_size=256,\n",
    "                     callbacks=callbacks, verbose=1)\n",
    "\n",
    "    # Evaluate and persist predictions for later ensembles/plots\n",
    "    p = model.predict(Xte3, batch_size=1024, verbose=0).ravel()\n",
    "    ap = average_precision_score(y_test, p)\n",
    "    f1b, tau = sweep_f1(y_test, p)\n",
    "    tpr, tnr = tpr_tnr_at_tau(y_test, p, tau)\n",
    "\n",
    "    np.save(cnn_stage/'preds.npy', p)                 # for ensembles\n",
    "    model.save(cnn_stage/'model.keras', include_optimizer=False)  # model archive\n",
    "\n",
    "    print(f\"[CNN1D] Test AP={ap:.4f} | F1@τ={f1b:.4f} | τ={tau:.2f}\")\n",
    "    save_stage('cnn1d', {\n",
    "      'timestamp': time.strftime('%Y-%m-%dT%H:%M:%SZ', time.gmtime()),\n",
    "      'stage': 'cnn1d',\n",
    "      'model_name': 'CNN1D_Minimal',\n",
    "      'dataset': DATA_PATH,\n",
    "      'seed': RANDOM_STATE,\n",
    "      'metrics': {'AUPRC': float(ap), 'F1': float(f1b), 'tau': float(tau), 'TPR': float(tpr), 'TNR': float(tnr)}\n",
    "    })\n",
    "else:\n",
    "    print('[CNN1D] Skipped (TF not available).')\n"
   ]
  },
  {
   "cell_type": "markdown",
   "id": "bf49b83b",
   "metadata": {},
   "source": [
    "## 7. Ensembles\n",
    "\n",
    "- **RF bagging** baseline.\n",
    "- **Soft voting** across staged predictors.\n",
    "- **Stacking** with logistic meta-learner (no test leakage).\n"
   ]
  },
  {
   "cell_type": "code",
   "execution_count": 9,
   "id": "32c2b655",
   "metadata": {},
   "outputs": [
    {
     "name": "stdout",
     "output_type": "stream",
     "text": [
      ">>> Section 7: Ensembles — bagging + voting + stacking\n",
      "[RF] Test AP=0.9997 | F1@τ=0.9995 | τ=0.55\n",
      "[SAVE] Stage 'ensemble_rf' saved -> staging/ensemble_rf\n",
      "[VOTE] Using members: ['ensemble_rf', 'cnn1d']\n",
      "[VOTE] Test AP=0.9998 | F1@τ=0.9996 | τ=0.40\n",
      "[SAVE] Stage 'ensemble_soft' saved -> staging/ensemble_soft\n",
      "[STACK] Test AP=0.9997 | F1@τ=0.9997 | τ=0.05 | members=['bo_enhanced', 'bo_lgb', 'random_search', 'manual_grid']\n",
      "[SAVE] Stage 'ensemble_stack' saved -> staging/ensemble_stack\n"
     ]
    }
   ],
   "source": [
    "# ======================================================\n",
    "# Cell 19 — Ensembles: bagging + soft voting + stacking\n",
    "# Motivation (Module 10):\n",
    "#   • Bagging reduces variance (RF).\n",
    "#   • Voting blends calibrated probabilities.\n",
    "#   • Stacking learns a meta-combiner while preventing test leakage.\n",
    "# ======================================================\n",
    "print(\">>> Section 7: Ensembles — bagging + voting + stacking\")\n",
    "\n",
    "# Minimal fix: encode categorical features\n",
    "from sklearn.preprocessing import OrdinalEncoder\n",
    "oe = OrdinalEncoder(handle_unknown='use_encoded_value', unknown_value=-1)\n",
    "X_train[cat_cols] = oe.fit_transform(X_train[cat_cols])\n",
    "X_test[cat_cols] = oe.transform(X_test[cat_cols])\n",
    "\n",
    "from sklearn.ensemble import RandomForestClassifier\n",
    "import joblib\n",
    "\n",
    "# --- Bagging baseline (RandomForest) ----------------------------------------\n",
    "rf = RandomForestClassifier(\n",
    "    n_estimators=500,\n",
    "    class_weight='balanced_subsample',   # each tree sees balanced bootstrap\n",
    "    n_jobs=-1,\n",
    "    random_state=RANDOM_STATE\n",
    ")\n",
    "rf.fit(X_train, y_train)\n",
    "p = rf.predict_proba(X_test)[:, 1]\n",
    "ap = average_precision_score(y_test, p)\n",
    "f1b, tau = sweep_f1(y_test, p)\n",
    "print(f\"[RF] Test AP={ap:.4f} | F1@τ={f1b:.4f} | τ={tau:.2f}\")\n",
    "save_stage('ensemble_rf', {\n",
    "  'timestamp': time.strftime('%Y-%m-%dT%H:%M:%SZ', time.gmtime()),\n",
    "  'stage': 'ensemble_rf',\n",
    "  'model_name': 'RandomForest_Bagging',\n",
    "  'dataset': DATA_PATH,\n",
    "  'seed': RANDOM_STATE,\n",
    "  'metrics': {'AUPRC': float(ap), 'F1': float(f1b), 'tau': float(tau)}\n",
    "}, model=rf)\n",
    "\n",
    "# --- Soft voting over staged predictors -------------------------------------\n",
    "def load_preds_for(stage_name: str):\n",
    "    \"\"\"\n",
    "    Try to load predictions for a staged model on X_test:\n",
    "      • tabular models: load model.joblib and run predict_proba.\n",
    "      • CNN1D: predictions saved earlier to preds.npy.\n",
    "    \"\"\"\n",
    "    pth = Path('staging')/stage_name/'model.joblib'\n",
    "    if pth.exists():\n",
    "        mdl = joblib.load(pth)\n",
    "        try:\n",
    "            return mdl.predict_proba(X_test)[:, 1]\n",
    "        except Exception:\n",
    "            return None\n",
    "    if stage_name == 'cnn1d':\n",
    "        npy = Path('staging')/'cnn1d'/'preds.npy'\n",
    "        if npy.exists():\n",
    "            arr = np.load(npy)\n",
    "            return arr if len(arr) == len(y_test) else None\n",
    "    return None\n",
    "\n",
    "members = ['bo_enhanced','bo_lgb','random_search','manual_grid','ensemble_rf','baseline','cnn1d']\n",
    "preds = {m: load_preds_for(m) for m in members}\n",
    "preds = {k: v for k, v in preds.items() if v is not None}\n",
    "print(f\"[VOTE] Using members: {list(preds.keys())}\")\n",
    "\n",
    "if len(preds) >= 2:\n",
    "    # Uniform weights are a strong baseline;\n",
    "    # could be replaced with validation-based weights if desired.\n",
    "    W = np.ones(len(preds)) / len(preds)\n",
    "    P = np.stack(list(preds.values()), axis=1)\n",
    "    p_vote = (P * W).sum(axis=1)\n",
    "\n",
    "    ap = average_precision_score(y_test, p_vote)\n",
    "    f1b, tau = sweep_f1(y_test, p_vote)\n",
    "    print(f\"[VOTE] Test AP={ap:.4f} | F1@τ={f1b:.4f} | τ={tau:.2f}\")\n",
    "\n",
    "    save_stage('ensemble_soft', {\n",
    "      'timestamp': time.strftime('%Y-%m-%dT%H:%M:%SZ', time.gmtime()),\n",
    "      'stage': 'ensemble_soft',\n",
    "      'model_name': 'Ensemble_SoftVoting',\n",
    "      'dataset': DATA_PATH,\n",
    "      'seed': RANDOM_STATE,\n",
    "      'members': list(preds.keys()),\n",
    "      'metrics': {'AUPRC': float(ap), 'F1': float(f1b), 'tau': float(tau)}\n",
    "    })\n",
    "else:\n",
    "    print('[VOTE] Need ≥2 members with predictions, skipping.')\n",
    "\n",
    "# --- Stacking with logistic meta-learner ------------------------------------\n",
    "# Avoid test leakage: split the training set (A/B) to create meta-features on B.\n",
    "from sklearn.linear_model import LogisticRegression\n",
    "XA, XB, yA, yB = train_test_split(X_train, y_train, test_size=0.2,\n",
    "                                  random_state=RANDOM_STATE, stratify=y_train)\n",
    "\n",
    "# Pull parameterized LightGBM champions from staged searches\n",
    "specs = []\n",
    "for s in ['bo_enhanced','bo_lgb','random_search','manual_grid']:\n",
    "    m = load_stage(s)\n",
    "    if not m: \n",
    "        continue\n",
    "    p = m.get('best_params') or m.get('params')\n",
    "    if p: \n",
    "        specs.append((s, p))\n",
    "\n",
    "if specs:\n",
    "    ZB, ZT, names = [], [], []\n",
    "    for name, params in specs:\n",
    "        clf = LGBMClassifier(\n",
    "            objective='binary', n_estimators=500, random_state=RANDOM_STATE,\n",
    "            n_jobs=-1, class_weight='balanced', verbosity=-1, **params\n",
    "        )\n",
    "        fit_kwargs = {'categorical_feature': cat_cols} if cat_cols else {}\n",
    "        clf.fit(XA, yA, **fit_kwargs)\n",
    "        # Meta-train features: predictions on XB\n",
    "        ZB.append(clf.predict_proba(XB)[:, 1])\n",
    "        # Meta-test features: predictions on X_test (no leakage)\n",
    "        ZT.append(clf.predict_proba(X_test)[:, 1])\n",
    "        names.append(name)\n",
    "    ZB = np.stack(ZB, axis=1)\n",
    "    ZT = np.stack(ZT, axis=1)\n",
    "\n",
    "    # Logistic meta-learner is simple & interpretable\n",
    "    meta = LogisticRegression(class_weight='balanced', max_iter=300, random_state=RANDOM_STATE)\n",
    "    meta.fit(ZB, yB)\n",
    "    p_stack = meta.predict_proba(ZT)[:, 1]\n",
    "\n",
    "    ap = average_precision_score(y_test, p_stack)\n",
    "    f1b, tau = sweep_f1(y_test, p_stack)\n",
    "    print(f\"[STACK] Test AP={ap:.4f} | F1@τ={f1b:.4f} | τ={tau:.2f} | members={names}\")\n",
    "\n",
    "    save_stage('ensemble_stack', {\n",
    "      'timestamp': time.strftime('%Y-%m-%dT%H:%M:%SZ', time.gmtime()),\n",
    "      'stage': 'ensemble_stack',\n",
    "      'model_name': 'Ensemble_BlendedStack',\n",
    "      'dataset': DATA_PATH,\n",
    "      'seed': RANDOM_STATE,\n",
    "      'members': names,\n",
    "      'meta': 'LogisticRegression',\n",
    "      'metrics': {'AUPRC': float(ap), 'F1': float(f1b), 'tau': float(tau)}\n",
    "    })\n",
    "else:\n",
    "    print('[STACK] No staged LightGBM params to stack; skipping.')\n"
   ]
  },
  {
   "cell_type": "markdown",
   "id": "0ec0c216",
   "metadata": {},
   "source": [
    "## 8. Analysis & Visual Justification\n",
    "\n",
    "- Metrics table across staged models.\n",
    "- Enhanced BO convergence (best CV AP vs evaluation).\n",
    "- Hyperparameter response (AP vs single parameter).\n",
    "- PR curves (Module 3).\n"
   ]
  },
  {
   "cell_type": "code",
   "execution_count": 10,
   "id": "bdd991a3",
   "metadata": {},
   "outputs": [
    {
     "name": "stdout",
     "output_type": "stream",
     "text": [
      ">>> Section 8: Analysis & Visuals\n"
     ]
    },
    {
     "data": {
      "application/vnd.microsoft.datawrangler.viewer.v0+json": {
       "columns": [
        {
         "name": "index",
         "rawType": "int64",
         "type": "integer"
        },
        {
         "name": "stage",
         "rawType": "object",
         "type": "string"
        },
        {
         "name": "AUPRC",
         "rawType": "float64",
         "type": "float"
        },
        {
         "name": "F1",
         "rawType": "float64",
         "type": "float"
        },
        {
         "name": "tau",
         "rawType": "float64",
         "type": "float"
        },
        {
         "name": "TPR",
         "rawType": "float64",
         "type": "float"
        },
        {
         "name": "TNR",
         "rawType": "float64",
         "type": "float"
        }
       ],
       "ref": "b9436319-97ae-425d-8fac-6eb1a9acff6a",
       "rows": [
        [
         "0",
         "bo_enhanced",
         "0.9998600011775922",
         "0.9997283531409168",
         "0.05",
         "1.0",
         "0.9984761904761905"
        ],
        [
         "1",
         "manual_grid",
         "0.9998473153871411",
         "0.9997623009270263",
         "0.75",
         "1.0",
         "0.9986666666666667"
        ],
        [
         "2",
         "ensemble_soft",
         "0.9998101338367696",
         "0.9996265236138934",
         "0.39999999999999997",
         null,
         null
        ],
        [
         "3",
         "baseline",
         "0.9997715579484534",
         "0.9996943869061767",
         "0.05",
         "0.9999320698322125",
         "0.9984761904761905"
        ],
        [
         "4",
         "cnn1d",
         "0.9997556945426488",
         "0.9993887530562348",
         "0.39999999999999997",
         "0.9995924189932749",
         "0.9977142857142857"
        ],
        [
         "5",
         "bo_lgb",
         "0.9997461675193644",
         "0.9997283531409168",
         "0.44999999999999996",
         "1.0",
         "0.9984761904761905"
        ],
        [
         "6",
         "random_search",
         "0.999745719139532",
         "0.9996943869061767",
         "0.05",
         "0.9999320698322125",
         "0.9984761904761905"
        ],
        [
         "7",
         "ensemble_rf",
         "0.999727284047245",
         "0.9994907140189454",
         "0.5499999999999999",
         null,
         null
        ],
        [
         "8",
         "ensemble_stack",
         "0.9996597291893141",
         "0.9997283531409168",
         "0.05",
         null,
         null
        ]
       ],
       "shape": {
        "columns": 6,
        "rows": 9
       }
      },
      "text/html": [
       "<div>\n",
       "<style scoped>\n",
       "    .dataframe tbody tr th:only-of-type {\n",
       "        vertical-align: middle;\n",
       "    }\n",
       "\n",
       "    .dataframe tbody tr th {\n",
       "        vertical-align: top;\n",
       "    }\n",
       "\n",
       "    .dataframe thead th {\n",
       "        text-align: right;\n",
       "    }\n",
       "</style>\n",
       "<table border=\"1\" class=\"dataframe\">\n",
       "  <thead>\n",
       "    <tr style=\"text-align: right;\">\n",
       "      <th></th>\n",
       "      <th>stage</th>\n",
       "      <th>AUPRC</th>\n",
       "      <th>F1</th>\n",
       "      <th>tau</th>\n",
       "      <th>TPR</th>\n",
       "      <th>TNR</th>\n",
       "    </tr>\n",
       "  </thead>\n",
       "  <tbody>\n",
       "    <tr>\n",
       "      <th>0</th>\n",
       "      <td>bo_enhanced</td>\n",
       "      <td>0.999860</td>\n",
       "      <td>0.999728</td>\n",
       "      <td>0.05</td>\n",
       "      <td>1.000000</td>\n",
       "      <td>0.998476</td>\n",
       "    </tr>\n",
       "    <tr>\n",
       "      <th>1</th>\n",
       "      <td>manual_grid</td>\n",
       "      <td>0.999847</td>\n",
       "      <td>0.999762</td>\n",
       "      <td>0.75</td>\n",
       "      <td>1.000000</td>\n",
       "      <td>0.998667</td>\n",
       "    </tr>\n",
       "    <tr>\n",
       "      <th>2</th>\n",
       "      <td>ensemble_soft</td>\n",
       "      <td>0.999810</td>\n",
       "      <td>0.999627</td>\n",
       "      <td>0.40</td>\n",
       "      <td>NaN</td>\n",
       "      <td>NaN</td>\n",
       "    </tr>\n",
       "    <tr>\n",
       "      <th>3</th>\n",
       "      <td>baseline</td>\n",
       "      <td>0.999772</td>\n",
       "      <td>0.999694</td>\n",
       "      <td>0.05</td>\n",
       "      <td>0.999932</td>\n",
       "      <td>0.998476</td>\n",
       "    </tr>\n",
       "    <tr>\n",
       "      <th>4</th>\n",
       "      <td>cnn1d</td>\n",
       "      <td>0.999756</td>\n",
       "      <td>0.999389</td>\n",
       "      <td>0.40</td>\n",
       "      <td>0.999592</td>\n",
       "      <td>0.997714</td>\n",
       "    </tr>\n",
       "    <tr>\n",
       "      <th>5</th>\n",
       "      <td>bo_lgb</td>\n",
       "      <td>0.999746</td>\n",
       "      <td>0.999728</td>\n",
       "      <td>0.45</td>\n",
       "      <td>1.000000</td>\n",
       "      <td>0.998476</td>\n",
       "    </tr>\n",
       "    <tr>\n",
       "      <th>6</th>\n",
       "      <td>random_search</td>\n",
       "      <td>0.999746</td>\n",
       "      <td>0.999694</td>\n",
       "      <td>0.05</td>\n",
       "      <td>0.999932</td>\n",
       "      <td>0.998476</td>\n",
       "    </tr>\n",
       "    <tr>\n",
       "      <th>7</th>\n",
       "      <td>ensemble_rf</td>\n",
       "      <td>0.999727</td>\n",
       "      <td>0.999491</td>\n",
       "      <td>0.55</td>\n",
       "      <td>NaN</td>\n",
       "      <td>NaN</td>\n",
       "    </tr>\n",
       "    <tr>\n",
       "      <th>8</th>\n",
       "      <td>ensemble_stack</td>\n",
       "      <td>0.999660</td>\n",
       "      <td>0.999728</td>\n",
       "      <td>0.05</td>\n",
       "      <td>NaN</td>\n",
       "      <td>NaN</td>\n",
       "    </tr>\n",
       "  </tbody>\n",
       "</table>\n",
       "</div>"
      ],
      "text/plain": [
       "            stage     AUPRC        F1   tau       TPR       TNR\n",
       "0     bo_enhanced  0.999860  0.999728  0.05  1.000000  0.998476\n",
       "1     manual_grid  0.999847  0.999762  0.75  1.000000  0.998667\n",
       "2   ensemble_soft  0.999810  0.999627  0.40       NaN       NaN\n",
       "3        baseline  0.999772  0.999694  0.05  0.999932  0.998476\n",
       "4           cnn1d  0.999756  0.999389  0.40  0.999592  0.997714\n",
       "5          bo_lgb  0.999746  0.999728  0.45  1.000000  0.998476\n",
       "6   random_search  0.999746  0.999694  0.05  0.999932  0.998476\n",
       "7     ensemble_rf  0.999727  0.999491  0.55       NaN       NaN\n",
       "8  ensemble_stack  0.999660  0.999728  0.05       NaN       NaN"
      ]
     },
     "metadata": {},
     "output_type": "display_data"
    },
    {
     "name": "stdout",
     "output_type": "stream",
     "text": [
      "[ANALYSIS] Metrics table displayed.\n"
     ]
    },
    {
     "data": {
      "image/png": "[encoded data removed]",
      "text/plain": [
       "<Figure size 640x480 with 1 Axes>"
      ]
     },
     "metadata": {},
     "output_type": "display_data"
    },
    {
     "data": {
      "image/png": "[encoded data removed]",
      "text/plain": [
       "<Figure size 640x480 with 1 Axes>"
      ]
     },
     "metadata": {},
     "output_type": "display_data"
    },
    {
     "data": {
      "image/png": "[encoded data removed]",
      "text/plain": [
       "<Figure size 640x480 with 1 Axes>"
      ]
     },
     "metadata": {},
     "output_type": "display_data"
    },
    {
     "name": "stdout",
     "output_type": "stream",
     "text": [
      "[ANALYSIS] Plots generated.\n"
     ]
    }
   ],
   "source": [
    "# ======================================================\n",
    "# Cell 21 — Analysis & Visual Justification\n",
    "# Includes:\n",
    "#   • Metrics table across staged models.\n",
    "#   • Enhanced BO convergence plot (best-so-far CV AP).\n",
    "#   • Param-response scatter (AP vs hyperparameter).\n",
    "#   • PR curves comparing champions (Module 3).\n",
    "# Note:\n",
    "#   • Plots do not set custom colors per coursework rules; default Matplotlib.\n",
    "# ======================================================\n",
    "print(\">>> Section 8: Analysis & Visuals\")\n",
    "import matplotlib.pyplot as plt\n",
    "\n",
    "# ---- 1) Metrics table (Champion comparison) --------------------------------\n",
    "stages = ['baseline','manual_grid','random_search','bo_lgb','bo_enhanced','ensemble_rf','ensemble_soft','ensemble_stack','cnn1d']\n",
    "rows = []\n",
    "for s in stages:\n",
    "    m = load_stage(s)\n",
    "    if m and 'metrics' in m:\n",
    "        rows.append({'stage': s, **m['metrics']})\n",
    "metrics_df = pd.DataFrame(rows)\n",
    "if not metrics_df.empty:\n",
    "    display(metrics_df.sort_values(['AUPRC','F1'], ascending=[False, False]).reset_index(drop=True))\n",
    "    print('[ANALYSIS] Metrics table displayed.')\n",
    "else:\n",
    "    print('[ANALYSIS] No staged metrics yet.')\n",
    "\n",
    "# ---- 2) Enhanced BO convergence plot ---------------------------------------\n",
    "ben_hist = stage_dir('bo_enhanced') / 'results.csv'\n",
    "plt.figure()\n",
    "if ben_hist.exists():\n",
    "    h = pd.read_csv(ben_hist)\n",
    "    if not h.empty and 'AP_cv' in h.columns:\n",
    "        best_so_far = h['AP_cv'].cummax().values\n",
    "        plt.plot(range(1, len(best_so_far)+1), best_so_far, marker='o')\n",
    "        plt.xlabel('Enhanced BO evaluations'); plt.ylabel('Best CV AP so far')\n",
    "        plt.title('Enhanced BO Convergence')\n",
    "        plt.grid(True, linewidth=0.3)\n",
    "    else:\n",
    "        plt.text(0.5,0.5,'No AP_cv history.',ha='center')\n",
    "else:\n",
    "    plt.text(0.5,0.5,'No bo_enhanced/results.csv.',ha='center')\n",
    "plt.show()\n",
    "\n",
    "# ---- 3) Hyperparameter response (example: num_leaves) ----------------------\n",
    "if ben_hist.exists():\n",
    "    h = pd.read_csv(ben_hist)\n",
    "    if {'num_leaves','AP_cv'} <= set(h.columns):\n",
    "        plt.figure()\n",
    "        plt.scatter(h['num_leaves'], h['AP_cv'], s=12)\n",
    "        plt.xlabel('num_leaves'); plt.ylabel('CV AP'); plt.title('num_leaves vs CV AP')\n",
    "        plt.grid(True, linewidth=0.3); plt.show()\n",
    "\n",
    "# ---- 4) Precision–Recall curves -------------------------------------------\n",
    "from sklearn.metrics import precision_recall_curve\n",
    "import joblib\n",
    "\n",
    "def pr_arrays(y_true, p):\n",
    "    P, R, T = precision_recall_curve(y_true, p)\n",
    "    ap = average_precision_score(y_true, p)\n",
    "    return P, R, ap\n",
    "\n",
    "# Gather prediction functions for staged models (re-using saved artifacts)\n",
    "curves = {}\n",
    "# Baseline predictions captured at training time\n",
    "if 'p_base' in globals():\n",
    "    curves['baseline'] = p_base\n",
    "\n",
    "for s in ['bo_enhanced','bo_lgb','random_search','manual_grid','ensemble_rf','ensemble_soft','ensemble_stack']:\n",
    "    mp = stage_dir(s) / 'model.joblib'\n",
    "    if mp.exists():\n",
    "        try:\n",
    "            mdl = joblib.load(mp)\n",
    "            curves[s] = mdl.predict_proba(X_test)[:, 1]\n",
    "        except Exception:\n",
    "            pass\n",
    "\n",
    "# CNN1D saved proba predictions\n",
    "pn = stage_dir('cnn1d') / 'preds.npy'\n",
    "if pn.exists():\n",
    "    curves['cnn1d'] = np.load(pn)\n",
    "\n",
    "plt.figure()\n",
    "for name, pr in list(curves.items()):\n",
    "    if pr is None:\n",
    "        continue\n",
    "    P, R, AP = pr_arrays(y_test, pr)\n",
    "    plt.plot(R, P, linewidth=1, label=f\"{name} (AP={AP:.3f})\")\n",
    "plt.xlabel('Recall'); plt.ylabel('Precision'); plt.title('Precision–Recall Curves')\n",
    "plt.grid(True, linewidth=0.3); plt.legend(); plt.show()\n",
    "print('[ANALYSIS] Plots generated.')\n"
   ]
  },
  {
   "cell_type": "markdown",
   "id": "840fdfcf",
   "metadata": {},
   "source": [
    "## 9. Champion Auto-Wire → README & Model Card\n",
    "\n",
    "Write the current **champion** (highest AUPRC) into `README.md` and `model_card.md`.  \n",
    "Also saves `staging/champion_metrics.csv` for diffs.\n"
   ]
  },
  {
   "cell_type": "code",
   "execution_count": 13,
   "id": "19ad72b6",
   "metadata": {},
   "outputs": [
    {
     "name": "stdout",
     "output_type": "stream",
     "text": [
      ">>> Section 9: Champion Auto-Wire\n",
      "[AUTO-WIRE] README.md updated\n",
      "[AUTO-WIRE] model_card.md updated\n",
      "[AUTO-WIRE] staging/champion_metrics.csv written\n"
     ]
    }
   ],
   "source": [
    "# ======================================================\n",
    "# Cell 23 — Champion Auto-Wire → README & Model Card\n",
    "# What:\n",
    "#   • Select champion (max AUPRC) among staged models.\n",
    "#   • Update README.md and model_card.md with current champion block.\n",
    "#   • Write CSV snapshot for diffs/CI.\n",
    "# Why:\n",
    "#   • Keeps documentation in sync with latest results automatically.\n",
    "# ======================================================\n",
    "print(\">>> Section 9: Champion Auto-Wire\")\n",
    "import re\n",
    "\n",
    "candidates = [\n",
    "    'bo_enhanced', 'bo_lgb', 'random_search', 'manual_grid',\n",
    "    'ensemble_stack', 'ensemble_soft', 'ensemble_rf',\n",
    "    'baseline', 'cnn1d'\n",
    "]\n",
    "\n",
    "def load_manifest(stage):\n",
    "    \"\"\"Load staged manifest if available; otherwise return None.\"\"\"\n",
    "    p = stage_dir(stage) / 'manifest.json'\n",
    "    return json.loads(p.read_text()) if p.exists() else None\n",
    "\n",
    "# Pick champion by AUPRC (tie-breaker: first encountered)\n",
    "best = None\n",
    "for s in candidates:\n",
    "    m = load_manifest(s)\n",
    "    if m and 'metrics' in m and 'AUPRC' in m['metrics']:\n",
    "        ap = m['metrics']['AUPRC']\n",
    "        if best is None or ap > best['metrics'].get('AUPRC', -1):\n",
    "            best = m | {'stage': s}\n",
    "\n",
    "if best is None:\n",
    "    print(\"[AUTO-WIRE] No staged metrics found. Run training/evals first.\")\n",
    "else:\n",
    "    ap = best['metrics']['AUPRC']\n",
    "    f1 = best['metrics'].get('F1')\n",
    "    tau = best['metrics'].get('tau')\n",
    "    stamp = time.strftime('%Y-%m-%d %H:%M:%SZ', time.gmtime())\n",
    "\n",
    "    # Markdown block to inject (safe indentation for Params)\n",
    "    block = (\n",
    "        f\"### Champion: {best['model_name']} (stage: `{best['stage']}`)\\n\"\n",
    "        f\"- **Dataset**: {best.get('dataset','n/a')}\\n\"\n",
    "        f\"- **AUPRC**: {ap:.4f} | **F1@τ**: {f1:.4f} | **τ**: {tau:.3f}\\n\"\n",
    "        f\"- **Seed**: {best.get('seed','n/a')} | **Updated**: {stamp}\\n\"\n",
    "        f\"- **Params**:\\n\\n\"\n",
    "        f\"```json\\n{json.dumps(best.get('best_params', best.get('params', {})), indent=2)}\\n```\\n\"\n",
    "    )\n",
    "\n",
    "    # --- Update README.md --------------------------------------------------\n",
    "    rd = Path(\"README.md\")\n",
    "    rd_text = rd.read_text() if rd.exists() else \"# Label Trainer\\n\"\n",
    "\n",
    "    if \"## Results\" in rd_text:\n",
    "        rd_text = re.sub(\n",
    "            r\"(## Results\\s*\\n)([\\s\\S]*?)(?=\\n## |\\Z)\",\n",
    "            rf\"\\1\\n{block}\\n\",\n",
    "            rd_text, flags=re.M\n",
    "        )\n",
    "    else:\n",
    "        rd_text += \"\\n## Champion Metrics\\n\\n\" + block + \"\\n\"\n",
    "\n",
    "    rd.write_text(rd_text)\n",
    "    print(\"[AUTO-WIRE] README.md updated\")\n",
    "\n",
    "    # --- Update model_card.md (look for '## Performance') ------------------\n",
    "    mc = Path(\"model_card.md\")\n",
    "    mc_text = mc.read_text() if mc.exists() else \"# Model Card\\n\"\n",
    "\n",
    "    if \"## Performance\" in mc_text:\n",
    "        mc_text = re.sub(\n",
    "            r\"(## Performance\\s*\\n)([\\s\\S]*?)(?=\\n## |\\Z)\",\n",
    "            rf\"\\1\\n{block}\\n\",\n",
    "            mc_text, flags=re.M\n",
    "        )\n",
    "    else:\n",
    "        mc_text += \"\\n## Performance\\n\\n\" + block + \"\\n\"\n",
    "\n",
    "    mc.write_text(mc_text)\n",
    "    print(\"[AUTO-WIRE] model_card.md updated\")\n",
    "\n",
    "    # --- Snapshot CSV ------------------------------------------------------\n",
    "    out = pd.DataFrame([{'stage': best['stage'], **best['metrics']}])\n",
    "    out.to_csv(\"staging/champion_metrics.csv\", index=False)\n",
    "    print(\"[AUTO-WIRE] staging/champion_metrics.csv written\")\n"
   ]
  },
  {
   "cell_type": "markdown",
   "id": "2c9c8e77",
   "metadata": {},
   "source": [
    ">>> Section 9: Champion Auto-Wire\n",
    "[AUTO-WIRE] README.md updated\n",
    "[AUTO-WIRE] model_card.md updated\n",
    "[AUTO-WIRE] staging/champion_metrics.csv written\n"
   ]
  },
  {
   "cell_type": "markdown",
   "id": "3a74605a",
   "metadata": {},
   "source": [
    "## 10. Appendix — Viva Talking Points\n",
    "\n",
    "- **Why PR-AUC (Module 3)?** Positive class is rare → PR-AUC reflects precision at recall better than ROC-AUC.\n",
    "- **BO rationale (Module 10).** Expensive/noisy objective; surrogate + EI reduces trials; patience avoids over-search.\n",
    "- **Threshold \\( $\\tau$ \\).** Choose by max-F1 on held-out test; report TPR/TNR for operations.\n",
    "- **Reproducibility.** Stages write `manifest.json`, results, and models. Notebook produces charts/tables that mirror the artifacts.\n",
    "- **Ensembles.** Voting stabilises variance; stacking leverages complementary strengths without test leakage.\n"
   ]
  }
 ],
 "metadata": {
  "kernelspec": {
   "display_name": "py312",
   "language": "python",
   "name": "python3"
  },
  "language_info": {
   "codemirror_mode": {
    "name": "ipython",
    "version": 3
   },
   "file_extension": ".py",
   "mimetype": "text/x-python",
   "name": "python",
   "nbconvert_exporter": "python",
   "pygments_lexer": "ipython3",
   "version": "3.12.11"
  }
 },
 "nbformat": 4,
 "nbformat_minor": 5
}
